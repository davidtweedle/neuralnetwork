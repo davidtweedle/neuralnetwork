{
 "cells": [
  {
   "cell_type": "code",
   "execution_count": 1,
   "id": "d7656a8c-5b79-4472-9b75-4df85a6e8245",
   "metadata": {},
   "outputs": [],
   "source": [
    "import requests\n",
    "import os\n",
    "import numpy as np\n",
    "import matplotlib\n",
    "from simple_dl import Model, Layer, FinalLayer, Activation\n",
    "%matplotlib widget"
   ]
  },
  {
   "cell_type": "code",
   "execution_count": 2,
   "id": "fbec4391-3818-472e-9c82-667f04f70ce4",
   "metadata": {},
   "outputs": [],
   "source": [
    "headers = {\n",
    "    \"User-Agent\": \"Mozilla/5.0 (X11; Linux x86_64; rv:10.0) Gecko/20100101 Firefox/10.0\"\n",
    "}\n",
    "request_opts = {\n",
    "    \"headers\": headers,\n",
    "    \"params\": {\"raw\":\"true\"}\n",
    "}"
   ]
  },
  {
   "cell_type": "code",
   "execution_count": 3,
   "id": "8022d8bf-ff25-4471-82f4-aa5c295f8cc8",
   "metadata": {},
   "outputs": [],
   "source": [
    "data_dir = \"../data\"\n",
    "os.makedirs(data_dir, exist_ok=True)\n",
    "\n",
    "base_url = \"https://storage.googleapis.com/tensorflow/tf-keras-datasets/\"\n",
    "fname = \"mnist.npz\"\n",
    "fpath = os.path.join(data_dir, fname)\n",
    "if not os.path.exists(fpath):\n",
    "    print('Downloading file: ' + fname)\n",
    "    resp = requests.get(base_url + fname, stream = True, **request_opts)\n",
    "    resp.raise_for_status()\n",
    "    with open(fpath, \"wb\") as fh:\n",
    "        for chunk in resp.iter_content(chunk_size=128):\n",
    "            fh.write(chunk)"
   ]
  },
  {
   "cell_type": "code",
   "execution_count": 4,
   "id": "abd55720-770a-4ccc-9ac1-5978dde12f04",
   "metadata": {},
   "outputs": [],
   "source": [
    "data_file = np.load(fpath)\n",
    "x_train = data_file[\"x_train\"]\n",
    "x_test = data_file[\"x_test\"]\n",
    "y_train = data_file[\"y_train\"]\n",
    "y_test = data_file[\"y_test\"]\n",
    "data_file.close()"
   ]
  },
  {
   "cell_type": "code",
   "execution_count": 5,
   "id": "01094486-f37e-434a-8526-be208beff2c2",
   "metadata": {},
   "outputs": [],
   "source": [
    "x_train = x_train.reshape(len(x_train), 28 * 28)\n",
    "x_test = x_test.reshape(len(x_test), 28 * 28)"
   ]
  },
  {
   "cell_type": "code",
   "execution_count": 6,
   "id": "329ae257-e420-4777-84cb-b73a259bc935",
   "metadata": {},
   "outputs": [],
   "source": [
    "sample_size = int(len(x_train))\n",
    "test_split = 5 * sample_size // 6\n",
    "seed = 1234\n",
    "rng = np.random.default_rng(seed=seed)\n",
    "index = rng.choice(len(x_train), sample_size)\n",
    "train_sample_X = x_train[index[:test_split]]\n",
    "val_sample_X = x_train[index[test_split:]]\n",
    "train_sample_y = y_train[index[:test_split]]\n",
    "val_sample_y = y_train[index[test_split:]]"
   ]
  },
  {
   "cell_type": "code",
   "execution_count": 7,
   "id": "6edd03a4-e4c0-45f1-af03-9d7054cadd61",
   "metadata": {},
   "outputs": [],
   "source": [
    "train_sample_X = train_sample_X * 1.0 / 255\n",
    "val_sample_X = val_sample_X * 1.0 / 255\n",
    "test_sample_X = x_test * 1.0 / 255"
   ]
  },
  {
   "cell_type": "code",
   "execution_count": 8,
   "id": "6f9c6d69-d1e0-47d7-ba41-66ed7e66f8ca",
   "metadata": {},
   "outputs": [],
   "source": [
    "def one_hot_encoding(labels, dim=10):\n",
    "    one_hot_labels = labels[..., None] == np.arange(dim)[None]\n",
    "    return one_hot_labels.astype(np.float64)"
   ]
  },
  {
   "cell_type": "code",
   "execution_count": 9,
   "id": "1b95016d-10ba-4c31-a0cb-c9076a49d0ca",
   "metadata": {},
   "outputs": [],
   "source": [
    "train_sample_labels = one_hot_encoding(train_sample_y)\n",
    "val_sample_labels = one_hot_encoding(val_sample_y)\n",
    "test_sample_labels = one_hot_encoding(y_test)"
   ]
  },
  {
   "cell_type": "code",
   "execution_count": 10,
   "id": "47d884f4-0928-4d46-a89b-8e3a8c715c70",
   "metadata": {},
   "outputs": [],
   "source": [
    "learning_rate = 0.001\n",
    "epochs = 20\n",
    "pixels_per_image = 28 * 28\n",
    "num_labels = 10\n",
    "batch_size = 200\n",
    "dropout = 0.45\n",
    "hidden_layer_sizes = [50, 50]"
   ]
  },
  {
   "cell_type": "code",
   "execution_count": 11,
   "id": "66fadb8c-7d00-4ed2-8125-e168a9535d4f",
   "metadata": {},
   "outputs": [],
   "source": [
    "model = Model(rng=rng,\n",
    "              training_data_X=train_sample_X,\n",
    "              training_data_y=train_sample_labels,\n",
    "              val_data_X=val_sample_X,\n",
    "              val_data_y=val_sample_labels,\n",
    "              objective_function='categoricalcrossentropy',\n",
    "              learning_rate=learning_rate,\n",
    "              epochs=epochs,\n",
    "              batch_size=batch_size\n",
    "             )"
   ]
  },
  {
   "cell_type": "code",
   "execution_count": 12,
   "id": "4ba18958-c946-46b2-8a3e-0fd3b1441ec5",
   "metadata": {},
   "outputs": [
    {
     "ename": "TypeError",
     "evalue": "__init__() got an unexpected keyword argument 'func'",
     "output_type": "error",
     "traceback": [
      "\u001b[0;31m---------------------------------------------------------------------------\u001b[0m",
      "\u001b[0;31mTypeError\u001b[0m                                 Traceback (most recent call last)",
      "Cell \u001b[0;32mIn[12], line 6\u001b[0m\n\u001b[1;32m      1\u001b[0m \u001b[38;5;28;01mfor\u001b[39;00m output_size \u001b[38;5;129;01min\u001b[39;00m hidden_layer_sizes:\n\u001b[1;32m      2\u001b[0m     model\u001b[38;5;241m.\u001b[39madd_layer(output_size\u001b[38;5;241m=\u001b[39moutput_size,\n\u001b[1;32m      3\u001b[0m                     func_name\u001b[38;5;241m=\u001b[39m\u001b[38;5;124m'\u001b[39m\u001b[38;5;124mrelu\u001b[39m\u001b[38;5;124m'\u001b[39m,\n\u001b[1;32m      4\u001b[0m                     dropout\u001b[38;5;241m=\u001b[39mdropout\n\u001b[1;32m      5\u001b[0m                    )\n\u001b[0;32m----> 6\u001b[0m \u001b[43mmodel\u001b[49m\u001b[38;5;241;43m.\u001b[39;49m\u001b[43madd_final_layer\u001b[49m\u001b[43m(\u001b[49m\u001b[43m)\u001b[49m\n",
      "File \u001b[0;32m~/openai/simple_nn/simple_dl.py:73\u001b[0m, in \u001b[0;36mModel.add_final_layer\u001b[0;34m(self)\u001b[0m\n\u001b[1;32m     70\u001b[0m \u001b[38;5;28;01melse\u001b[39;00m:\n\u001b[1;32m     71\u001b[0m     func \u001b[38;5;241m=\u001b[39m Activation(\u001b[38;5;124m\"\u001b[39m\u001b[38;5;124mrelu\u001b[39m\u001b[38;5;124m\"\u001b[39m)\n\u001b[1;32m     72\u001b[0m \u001b[38;5;28mself\u001b[39m\u001b[38;5;241m.\u001b[39mlayers\u001b[38;5;241m.\u001b[39mappend(\n\u001b[0;32m---> 73\u001b[0m     \u001b[43mFinalLayer\u001b[49m\u001b[43m(\u001b[49m\n\u001b[1;32m     74\u001b[0m \u001b[43m        \u001b[49m\u001b[43mshape\u001b[49m\u001b[38;5;241;43m=\u001b[39;49m\u001b[43m(\u001b[49m\u001b[43minput_size\u001b[49m\u001b[43m,\u001b[49m\u001b[43m \u001b[49m\u001b[43moutput_size\u001b[49m\u001b[43m)\u001b[49m\u001b[43m,\u001b[49m\n\u001b[1;32m     75\u001b[0m \u001b[43m        \u001b[49m\u001b[43mfunc\u001b[49m\u001b[38;5;241;43m=\u001b[39;49m\u001b[43mfunc\u001b[49m\u001b[43m,\u001b[49m\n\u001b[1;32m     76\u001b[0m \u001b[43m        \u001b[49m\u001b[43mobj_func\u001b[49m\u001b[38;5;241;43m=\u001b[39;49m\u001b[38;5;28;43mself\u001b[39;49m\u001b[38;5;241;43m.\u001b[39;49m\u001b[43mobjective\u001b[49m\u001b[43m,\u001b[49m\n\u001b[1;32m     77\u001b[0m \u001b[43m        \u001b[49m\u001b[43mrng\u001b[49m\u001b[38;5;241;43m=\u001b[39;49m\u001b[38;5;28;43mself\u001b[39;49m\u001b[38;5;241;43m.\u001b[39;49m\u001b[43mrng\u001b[49m\u001b[43m,\u001b[49m\n\u001b[1;32m     78\u001b[0m \u001b[43m    \u001b[49m\u001b[43m)\u001b[49m\n\u001b[1;32m     79\u001b[0m )\n",
      "File \u001b[0;32m~/openai/simple_nn/simple_dl.py:244\u001b[0m, in \u001b[0;36mFinalLayer.__init__\u001b[0;34m(self, shape, func, rng, obj_func)\u001b[0m\n\u001b[1;32m    240\u001b[0m \u001b[38;5;28;01mdef\u001b[39;00m \u001b[38;5;21m__init__\u001b[39m(\u001b[38;5;28mself\u001b[39m, shape, func, rng, obj_func):\n\u001b[1;32m    241\u001b[0m \u001b[38;5;250m    \u001b[39m\u001b[38;5;124;03m'''\u001b[39;00m\n\u001b[1;32m    242\u001b[0m \u001b[38;5;124;03m    Initialize the final layer\u001b[39;00m\n\u001b[1;32m    243\u001b[0m \u001b[38;5;124;03m    '''\u001b[39;00m\n\u001b[0;32m--> 244\u001b[0m     \u001b[38;5;28;43msuper\u001b[39;49m\u001b[43m(\u001b[49m\u001b[43m)\u001b[49m\u001b[38;5;241;43m.\u001b[39;49m\u001b[38;5;21;43m__init__\u001b[39;49m\u001b[43m(\u001b[49m\u001b[43mshape\u001b[49m\u001b[38;5;241;43m=\u001b[39;49m\u001b[43mshape\u001b[49m\u001b[43m,\u001b[49m\u001b[43m \u001b[49m\u001b[43mfunc\u001b[49m\u001b[38;5;241;43m=\u001b[39;49m\u001b[43mfunc\u001b[49m\u001b[43m,\u001b[49m\u001b[43m \u001b[49m\u001b[43mdropout\u001b[49m\u001b[38;5;241;43m=\u001b[39;49m\u001b[38;5;241;43m0\u001b[39;49m\u001b[43m,\u001b[49m\u001b[43m \u001b[49m\u001b[43mrng\u001b[49m\u001b[38;5;241;43m=\u001b[39;49m\u001b[43mrng\u001b[49m\u001b[43m)\u001b[49m\n\u001b[1;32m    245\u001b[0m     \u001b[38;5;28mself\u001b[39m\u001b[38;5;241m.\u001b[39mobj_func \u001b[38;5;241m=\u001b[39m obj_func\n\u001b[1;32m    246\u001b[0m     \u001b[38;5;28mself\u001b[39m\u001b[38;5;241m.\u001b[39mloss_val \u001b[38;5;241m=\u001b[39m \u001b[38;5;241m0.0\u001b[39m\n",
      "\u001b[0;31mTypeError\u001b[0m: __init__() got an unexpected keyword argument 'func'"
     ]
    }
   ],
   "source": [
    "for output_size in hidden_layer_sizes:\n",
    "    model.add_layer(output_size=output_size,\n",
    "                    func_name='relu',\n",
    "                    dropout=dropout\n",
    "                   )\n",
    "model.add_final_layer()"
   ]
  },
  {
   "cell_type": "code",
   "execution_count": null,
   "id": "8718eb6c-cba0-43c1-b8d1-4e765137298b",
   "metadata": {},
   "outputs": [],
   "source": [
    "model.run()"
   ]
  }
 ],
 "metadata": {
  "kernelspec": {
   "display_name": "Python 3 (ipykernel)",
   "language": "python",
   "name": "python3"
  },
  "language_info": {
   "codemirror_mode": {
    "name": "ipython",
    "version": 3
   },
   "file_extension": ".py",
   "mimetype": "text/x-python",
   "name": "python",
   "nbconvert_exporter": "python",
   "pygments_lexer": "ipython3",
   "version": "3.9.2"
  }
 },
 "nbformat": 4,
 "nbformat_minor": 5
}
