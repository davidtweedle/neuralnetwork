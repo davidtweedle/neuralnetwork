{
 "cells": [
  {
   "cell_type": "code",
   "execution_count": 1,
   "id": "d7656a8c-5b79-4472-9b75-4df85a6e8245",
   "metadata": {},
   "outputs": [],
   "source": [
    "import requests\n",
    "import os\n",
    "import numpy as np\n",
    "import matplotlib\n",
    "%matplotlib widget"
   ]
  },
  {
   "cell_type": "code",
   "execution_count": 2,
   "id": "fbec4391-3818-472e-9c82-667f04f70ce4",
   "metadata": {},
   "outputs": [],
   "source": [
    "headers = {\n",
    "    \"User-Agent\": \"Mozilla/5.0 (X11; Linux x86_64; rv:10.0) Gecko/20100101 Firefox/10.0\"\n",
    "}\n",
    "request_opts = {\n",
    "    \"headers\": headers,\n",
    "    \"params\": {\"raw\":\"true\"}\n",
    "}"
   ]
  },
  {
   "cell_type": "code",
   "execution_count": 4,
   "id": "8022d8bf-ff25-4471-82f4-aa5c295f8cc8",
   "metadata": {},
   "outputs": [
    {
     "name": "stdout",
     "output_type": "stream",
     "text": [
      "Downloading file: mnist.npz\n"
     ]
    }
   ],
   "source": [
    "data_dir = \"../data\"\n",
    "os.makedirs(data_dir, exist_ok=True)\n",
    "\n",
    "base_url = \"https://storage.googleapis.com/tensorflow/tf-keras-datasets/\"\n",
    "fname = \"mnist.npz\"\n",
    "fpath = os.path.join(data_dir, fname)\n",
    "if not os.path.exists(fpath):\n",
    "    print('Downloading file: ' + fname)\n",
    "    resp = requests.get(base_url + fname, stream = True, **request_opts)\n",
    "    resp.raise_for_status()\n",
    "    with open(fpath, \"wb\") as fh:\n",
    "        for chunk in resp.iter_content(chunk_size=128):\n",
    "            fh.write(chunk)"
   ]
  },
  {
   "cell_type": "code",
   "execution_count": 6,
   "id": "abd55720-770a-4ccc-9ac1-5978dde12f04",
   "metadata": {},
   "outputs": [],
   "source": [
    "data_file = np.load(fpath)\n",
    "x_train = data_file[\"x_train\"]\n",
    "x_test = data_file[\"x_test\"]\n",
    "y_train = data_file[\"y_train\"]\n",
    "y_test = data_file[\"y_test\"]\n",
    "data_file.close()"
   ]
  },
  {
   "cell_type": "code",
   "execution_count": 7,
   "id": "01094486-f37e-434a-8526-be208beff2c2",
   "metadata": {},
   "outputs": [],
   "source": [
    "x_train = x_train.reshape(len(x_train), 28 * 28)\n",
    "x_test = x_test.reshape(len(x_test), 28 * 28)"
   ]
  },
  {
   "cell_type": "code",
   "execution_count": 8,
   "id": "329ae257-e420-4777-84cb-b73a259bc935",
   "metadata": {},
   "outputs": [],
   "source": [
    "sample_size = int(len(x_train))\n",
    "test_split = 5 * sample_size // 6\n",
    "seed = 1234\n",
    "rng = np.random.default_rng(seed=seed)\n",
    "index = rng.choice(len(x_train), sample_size)\n",
    "train_sample_X = x_train[index[:test_split]]\n",
    "val_sample_X = x_train[index[test_split:]]\n",
    "train_sample_y = y_train[index[:test_split]]\n",
    "val_sample_y = y_train[index[test_split:]]"
   ]
  },
  {
   "cell_type": "code",
   "execution_count": 9,
   "id": "6edd03a4-e4c0-45f1-af03-9d7054cadd61",
   "metadata": {},
   "outputs": [],
   "source": [
    "train_sample_X = train_sample_X * 1.0 / 255\n",
    "val_sample_X = val_sample_X * 1.0 / 255\n",
    "test_sample_X = x_test * 1.0 / 255"
   ]
  },
  {
   "cell_type": "code",
   "execution_count": 10,
   "id": "6f9c6d69-d1e0-47d7-ba41-66ed7e66f8ca",
   "metadata": {},
   "outputs": [],
   "source": [
    "def one_hot_encoding(labels, dim=10):\n",
    "    one_hot_labels = labels[..., None] == np.arange(dim)[None]\n",
    "    return one_hot_labels.astype(np.float64)"
   ]
  },
  {
   "cell_type": "code",
   "execution_count": 11,
   "id": "1b95016d-10ba-4c31-a0cb-c9076a49d0ca",
   "metadata": {},
   "outputs": [],
   "source": [
    "train_sample_labels = one_hot_encoding(train_sample_y)\n",
    "val_sample_labels = one_hot_encoding(val_sample_y)\n",
    "test_sample_labels = one_hot_encoding(y_test)"
   ]
  },
  {
   "cell_type": "code",
   "execution_count": null,
   "id": "47d884f4-0928-4d46-a89b-8e3a8c715c70",
   "metadata": {},
   "outputs": [],
   "source": []
  }
 ],
 "metadata": {
  "kernelspec": {
   "display_name": "Python 3 (ipykernel)",
   "language": "python",
   "name": "python3"
  },
  "language_info": {
   "codemirror_mode": {
    "name": "ipython",
    "version": 3
   },
   "file_extension": ".py",
   "mimetype": "text/x-python",
   "name": "python",
   "nbconvert_exporter": "python",
   "pygments_lexer": "ipython3",
   "version": "3.9.2"
  }
 },
 "nbformat": 4,
 "nbformat_minor": 5
}
