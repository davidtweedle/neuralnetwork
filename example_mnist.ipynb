{
 "cells": [
  {
   "cell_type": "markdown",
   "id": "e8fa3d91-bbcd-4231-8293-b118f3238f8a",
   "metadata": {},
   "source": [
    "Imports\n",
    "-------"
   ]
  },
  {
   "cell_type": "code",
   "execution_count": 1,
   "id": "d7656a8c-5b79-4472-9b75-4df85a6e8245",
   "metadata": {
    "editable": true,
    "slideshow": {
     "slide_type": "slide"
    },
    "tags": []
   },
   "outputs": [],
   "source": [
    "import os\n",
    "\n",
    "import matplotlib\n",
    "import numpy as np\n",
    "import requests\n",
    "from matplotlib import pyplot as plt\n",
    "from matplotlib.pyplot import subplots\n",
    "\n",
    "from genericdlmodel import Model\n",
    "\n",
    "%matplotlib widget"
   ]
  },
  {
   "cell_type": "markdown",
   "id": "6275edf5-b017-4887-80d1-c7ae94bfbe6c",
   "metadata": {},
   "source": [
    "Download data\n",
    "-------------"
   ]
  },
  {
   "cell_type": "code",
   "execution_count": 2,
   "id": "fbec4391-3818-472e-9c82-667f04f70ce4",
   "metadata": {
    "editable": true,
    "slideshow": {
     "slide_type": "slide"
    },
    "tags": []
   },
   "outputs": [],
   "source": [
    "# headers = {\n",
    "#    \"User-Agent\": \"Mozilla/5.0 (X11; Linux x86_64; rv:10.0) Gecko/20100101 Firefox/10.0\"\n",
    "# }\n",
    "request_opts = {\"params\": {\"raw\": \"true\"}}"
   ]
  },
  {
   "cell_type": "code",
   "execution_count": 3,
   "id": "8022d8bf-ff25-4471-82f4-aa5c295f8cc8",
   "metadata": {
    "editable": true,
    "slideshow": {
     "slide_type": "slide"
    },
    "tags": []
   },
   "outputs": [],
   "source": [
    "data_dir = \"./data\"\n",
    "os.makedirs(data_dir, exist_ok=True)\n",
    "\n",
    "base_url = \"https://storage.googleapis.com/tensorflow/tf-keras-datasets/\"\n",
    "fname = \"mnist.npz\"\n",
    "fpath = os.path.join(data_dir, fname)\n",
    "if not os.path.exists(fpath):\n",
    "    print(\"Downloading file: \" + fname)\n",
    "    resp = requests.get(base_url + fname, stream=True, **request_opts)\n",
    "    resp.raise_for_status()\n",
    "    with open(fpath, \"wb\") as fh:\n",
    "        for chunk in resp.iter_content(chunk_size=128):\n",
    "            fh.write(chunk)"
   ]
  },
  {
   "cell_type": "code",
   "execution_count": 4,
   "id": "abd55720-770a-4ccc-9ac1-5978dde12f04",
   "metadata": {
    "editable": true,
    "slideshow": {
     "slide_type": "slide"
    },
    "tags": []
   },
   "outputs": [],
   "source": [
    "data_file = np.load(fpath)\n",
    "x_train = data_file[\"x_train\"]\n",
    "x_test = data_file[\"x_test\"]\n",
    "y_train = data_file[\"y_train\"]\n",
    "y_test = data_file[\"y_test\"]\n",
    "data_file.close()"
   ]
  },
  {
   "cell_type": "markdown",
   "id": "90fd755f-a00e-4d56-885c-201f439d9f09",
   "metadata": {},
   "source": [
    "Data preprocessing\n",
    "------------------"
   ]
  },
  {
   "cell_type": "code",
   "execution_count": 5,
   "id": "01094486-f37e-434a-8526-be208beff2c2",
   "metadata": {
    "editable": true,
    "slideshow": {
     "slide_type": "slide"
    },
    "tags": []
   },
   "outputs": [],
   "source": [
    "x_train = x_train.reshape(len(x_train), 28 * 28)\n",
    "x_test = x_test.reshape(len(x_test), 28 * 28)"
   ]
  },
  {
   "cell_type": "code",
   "execution_count": 6,
   "id": "329ae257-e420-4777-84cb-b73a259bc935",
   "metadata": {
    "editable": true,
    "slideshow": {
     "slide_type": "slide"
    },
    "tags": []
   },
   "outputs": [],
   "source": [
    "sample_size = int(len(x_train))\n",
    "test_split = 5 * sample_size // 6\n",
    "seed = 1234\n",
    "rng = np.random.default_rng(seed=seed)\n",
    "index = rng.choice(len(x_train), sample_size)\n",
    "train_sample_X = x_train[index[:test_split]]\n",
    "val_sample_X = x_train[index[test_split:]]\n",
    "train_sample_y = y_train[index[:test_split]]\n",
    "val_sample_y = y_train[index[test_split:]]"
   ]
  },
  {
   "cell_type": "code",
   "execution_count": 7,
   "id": "6edd03a4-e4c0-45f1-af03-9d7054cadd61",
   "metadata": {
    "editable": true,
    "slideshow": {
     "slide_type": "slide"
    },
    "tags": []
   },
   "outputs": [],
   "source": [
    "train_sample_X = train_sample_X * 1.0 / 255\n",
    "val_sample_X = val_sample_X * 1.0 / 255\n",
    "test_sample_X = x_test * 1.0 / 255"
   ]
  },
  {
   "cell_type": "code",
   "execution_count": 8,
   "id": "6f9c6d69-d1e0-47d7-ba41-66ed7e66f8ca",
   "metadata": {
    "editable": true,
    "slideshow": {
     "slide_type": "slide"
    },
    "tags": []
   },
   "outputs": [],
   "source": [
    "def one_hot_encoding(labels, dim=10):\n",
    "    one_hot_labels = labels[..., None] == np.arange(dim)[None]\n",
    "    return one_hot_labels.astype(np.float64)"
   ]
  },
  {
   "cell_type": "code",
   "execution_count": 9,
   "id": "1b95016d-10ba-4c31-a0cb-c9076a49d0ca",
   "metadata": {
    "editable": true,
    "slideshow": {
     "slide_type": "slide"
    },
    "tags": []
   },
   "outputs": [],
   "source": [
    "train_sample_labels = one_hot_encoding(train_sample_y)\n",
    "val_sample_labels = one_hot_encoding(val_sample_y)\n",
    "test_sample_labels = one_hot_encoding(y_test)"
   ]
  },
  {
   "cell_type": "markdown",
   "id": "4b6c5f18-d480-4570-812e-88330b1fceb1",
   "metadata": {},
   "source": [
    "Initializing hyperparameters\n",
    "----------------------------"
   ]
  },
  {
   "cell_type": "code",
   "execution_count": 13,
   "id": "47d884f4-0928-4d46-a89b-8e3a8c715c70",
   "metadata": {
    "editable": true,
    "slideshow": {
     "slide_type": "slide"
    },
    "tags": []
   },
   "outputs": [],
   "source": [
    "learning_rate = 0.7\n",
    "epochs = 20\n",
    "pixels_per_image = 28 * 28\n",
    "num_labels = 10\n",
    "batch_size = 200\n",
    "dropout = 0\n",
    "hidden_layer_sizes = [200, 50]\n",
    "update_rule = \"svd_lowrank\"\n",
    "update_args = {\"rank\": 10, \"q\": 10, \"niter\": 2}"
   ]
  },
  {
   "cell_type": "markdown",
   "id": "0546cf5a-3b51-420c-b805-999baf7b27c3",
   "metadata": {},
   "source": [
    "Running the models\n",
    "------------------"
   ]
  },
  {
   "cell_type": "code",
   "execution_count": 14,
   "id": "66fadb8c-7d00-4ed2-8125-e168a9535d4f",
   "metadata": {
    "editable": true,
    "slideshow": {
     "slide_type": "slide"
    },
    "tags": []
   },
   "outputs": [],
   "source": [
    "model = Model(\n",
    "    rng=rng,\n",
    "    training_data_X=train_sample_X,\n",
    "    training_data_y=train_sample_labels,\n",
    "    val_data_X=val_sample_X,\n",
    "    val_data_y=val_sample_labels,\n",
    "    objective_function=\"categoricalcrossentropy\",\n",
    "    learning_rate=learning_rate,\n",
    "    epochs=epochs,\n",
    "    batch_size=batch_size,\n",
    ")\n",
    "for output_size in hidden_layer_sizes:\n",
    "    model.add_layer(\n",
    "        output_size=output_size,\n",
    "        func_name=\"relu\",\n",
    "        dropout=dropout,\n",
    "        update_rule=update_rule,\n",
    "        update_args=update_args,\n",
    "    )\n",
    "model.add_final_layer()"
   ]
  },
  {
   "cell_type": "code",
   "execution_count": 15,
   "id": "e4d2a549-b4c3-4d2a-b684-4e8a89488a38",
   "metadata": {},
   "outputs": [
    {
     "name": "stdout",
     "output_type": "stream",
     "text": [
      "Epoch: 0\n",
      "  Training loss:          19.565\n",
      "  Training accuracy:      0.660\n",
      "  Validation loss:        23.304\n",
      "  Validation accuracy:    0.799\n",
      "\n",
      "Epoch: 1\n",
      "  Training loss:          19.795\n",
      "  Training accuracy:      0.830\n",
      "  Validation loss:        23.341\n",
      "  Validation accuracy:    0.854\n",
      "\n"
     ]
    },
    {
     "ename": "KeyboardInterrupt",
     "evalue": "",
     "output_type": "error",
     "traceback": [
      "\u001b[0;31m---------------------------------------------------------------------------\u001b[0m",
      "\u001b[0;31mKeyboardInterrupt\u001b[0m                         Traceback (most recent call last)",
      "Cell \u001b[0;32mIn[15], line 1\u001b[0m\n\u001b[0;32m----> 1\u001b[0m \u001b[43mget_ipython\u001b[49m\u001b[43m(\u001b[49m\u001b[43m)\u001b[49m\u001b[38;5;241;43m.\u001b[39;49m\u001b[43mrun_cell_magic\u001b[49m\u001b[43m(\u001b[49m\u001b[38;5;124;43m'\u001b[39;49m\u001b[38;5;124;43mtimeit\u001b[39;49m\u001b[38;5;124;43m'\u001b[39;49m\u001b[43m,\u001b[49m\u001b[43m \u001b[49m\u001b[38;5;124;43m'\u001b[39;49m\u001b[38;5;124;43m'\u001b[39;49m\u001b[43m,\u001b[49m\u001b[43m \u001b[49m\u001b[38;5;124;43m'\u001b[39;49m\u001b[38;5;124;43mmodel.run()\u001b[39;49m\u001b[38;5;130;43;01m\\n\u001b[39;49;00m\u001b[38;5;124;43m'\u001b[39;49m\u001b[43m)\u001b[49m\n",
      "File \u001b[0;32m~/projects/simple_nn/.venv/lib/python3.12/site-packages/IPython/core/interactiveshell.py:2517\u001b[0m, in \u001b[0;36mInteractiveShell.run_cell_magic\u001b[0;34m(self, magic_name, line, cell)\u001b[0m\n\u001b[1;32m   2515\u001b[0m \u001b[38;5;28;01mwith\u001b[39;00m \u001b[38;5;28mself\u001b[39m\u001b[38;5;241m.\u001b[39mbuiltin_trap:\n\u001b[1;32m   2516\u001b[0m     args \u001b[38;5;241m=\u001b[39m (magic_arg_s, cell)\n\u001b[0;32m-> 2517\u001b[0m     result \u001b[38;5;241m=\u001b[39m \u001b[43mfn\u001b[49m\u001b[43m(\u001b[49m\u001b[38;5;241;43m*\u001b[39;49m\u001b[43margs\u001b[49m\u001b[43m,\u001b[49m\u001b[43m \u001b[49m\u001b[38;5;241;43m*\u001b[39;49m\u001b[38;5;241;43m*\u001b[39;49m\u001b[43mkwargs\u001b[49m\u001b[43m)\u001b[49m\n\u001b[1;32m   2519\u001b[0m \u001b[38;5;66;03m# The code below prevents the output from being displayed\u001b[39;00m\n\u001b[1;32m   2520\u001b[0m \u001b[38;5;66;03m# when using magics with decorator @output_can_be_silenced\u001b[39;00m\n\u001b[1;32m   2521\u001b[0m \u001b[38;5;66;03m# when the last Python token in the expression is a ';'.\u001b[39;00m\n\u001b[1;32m   2522\u001b[0m \u001b[38;5;28;01mif\u001b[39;00m \u001b[38;5;28mgetattr\u001b[39m(fn, magic\u001b[38;5;241m.\u001b[39mMAGIC_OUTPUT_CAN_BE_SILENCED, \u001b[38;5;28;01mFalse\u001b[39;00m):\n",
      "File \u001b[0;32m~/projects/simple_nn/.venv/lib/python3.12/site-packages/IPython/core/magics/execution.py:1185\u001b[0m, in \u001b[0;36mExecutionMagics.timeit\u001b[0;34m(self, line, cell, local_ns)\u001b[0m\n\u001b[1;32m   1183\u001b[0m \u001b[38;5;28;01mfor\u001b[39;00m index \u001b[38;5;129;01min\u001b[39;00m \u001b[38;5;28mrange\u001b[39m(\u001b[38;5;241m0\u001b[39m, \u001b[38;5;241m10\u001b[39m):\n\u001b[1;32m   1184\u001b[0m     number \u001b[38;5;241m=\u001b[39m \u001b[38;5;241m10\u001b[39m \u001b[38;5;241m*\u001b[39m\u001b[38;5;241m*\u001b[39m index\n\u001b[0;32m-> 1185\u001b[0m     time_number \u001b[38;5;241m=\u001b[39m \u001b[43mtimer\u001b[49m\u001b[38;5;241;43m.\u001b[39;49m\u001b[43mtimeit\u001b[49m\u001b[43m(\u001b[49m\u001b[43mnumber\u001b[49m\u001b[43m)\u001b[49m\n\u001b[1;32m   1186\u001b[0m     \u001b[38;5;28;01mif\u001b[39;00m time_number \u001b[38;5;241m>\u001b[39m\u001b[38;5;241m=\u001b[39m \u001b[38;5;241m0.2\u001b[39m:\n\u001b[1;32m   1187\u001b[0m         \u001b[38;5;28;01mbreak\u001b[39;00m\n",
      "File \u001b[0;32m~/projects/simple_nn/.venv/lib/python3.12/site-packages/IPython/core/magics/execution.py:173\u001b[0m, in \u001b[0;36mTimer.timeit\u001b[0;34m(self, number)\u001b[0m\n\u001b[1;32m    171\u001b[0m gc\u001b[38;5;241m.\u001b[39mdisable()\n\u001b[1;32m    172\u001b[0m \u001b[38;5;28;01mtry\u001b[39;00m:\n\u001b[0;32m--> 173\u001b[0m     timing \u001b[38;5;241m=\u001b[39m \u001b[38;5;28;43mself\u001b[39;49m\u001b[38;5;241;43m.\u001b[39;49m\u001b[43minner\u001b[49m\u001b[43m(\u001b[49m\u001b[43mit\u001b[49m\u001b[43m,\u001b[49m\u001b[43m \u001b[49m\u001b[38;5;28;43mself\u001b[39;49m\u001b[38;5;241;43m.\u001b[39;49m\u001b[43mtimer\u001b[49m\u001b[43m)\u001b[49m\n\u001b[1;32m    174\u001b[0m \u001b[38;5;28;01mfinally\u001b[39;00m:\n\u001b[1;32m    175\u001b[0m     \u001b[38;5;28;01mif\u001b[39;00m gcold:\n",
      "File \u001b[0;32m<magic-timeit>:1\u001b[0m, in \u001b[0;36minner\u001b[0;34m(_it, _timer)\u001b[0m\n",
      "File \u001b[0;32m~/projects/simple_nn/genericdlmodel.py:246\u001b[0m, in \u001b[0;36mModel.run\u001b[0;34m(self, all_weights, stopping_rule)\u001b[0m\n\u001b[1;32m    244\u001b[0m     train_loss \u001b[38;5;241m+\u001b[39m\u001b[38;5;241m=\u001b[39m \u001b[38;5;28mself\u001b[39m\u001b[38;5;241m.\u001b[39mlayers[\u001b[38;5;241m-\u001b[39m\u001b[38;5;241m1\u001b[39m]\u001b[38;5;241m.\u001b[39mget_loss()\n\u001b[1;32m    245\u001b[0m     num_acc_pred \u001b[38;5;241m+\u001b[39m\u001b[38;5;241m=\u001b[39m \u001b[38;5;28mself\u001b[39m\u001b[38;5;241m.\u001b[39mlayers[\u001b[38;5;241m-\u001b[39m\u001b[38;5;241m1\u001b[39m]\u001b[38;5;241m.\u001b[39mget_num_acc_pred()\n\u001b[0;32m--> 246\u001b[0m     \u001b[38;5;28;43mself\u001b[39;49m\u001b[38;5;241;43m.\u001b[39;49m\u001b[43mpropogate_all_layers\u001b[49m\u001b[43m(\u001b[49m\u001b[43m)\u001b[49m\n\u001b[1;32m    248\u001b[0m \u001b[38;5;28mself\u001b[39m\u001b[38;5;241m.\u001b[39mtraining_loss\u001b[38;5;241m.\u001b[39mappend(train_loss \u001b[38;5;241m/\u001b[39m \u001b[38;5;28mself\u001b[39m\u001b[38;5;241m.\u001b[39mnum_training_samples)\n\u001b[1;32m    249\u001b[0m \u001b[38;5;28mself\u001b[39m\u001b[38;5;241m.\u001b[39mtraining_acc\u001b[38;5;241m.\u001b[39mappend(num_acc_pred \u001b[38;5;241m/\u001b[39m \u001b[38;5;28mself\u001b[39m\u001b[38;5;241m.\u001b[39mnum_training_samples)\n",
      "File \u001b[0;32m~/projects/simple_nn/genericdlmodel.py:166\u001b[0m, in \u001b[0;36mModel.propogate_all_layers\u001b[0;34m(self)\u001b[0m\n\u001b[1;32m    164\u001b[0m delta \u001b[38;5;241m=\u001b[39m final_layer\u001b[38;5;241m.\u001b[39mpropogate(rate\u001b[38;5;241m=\u001b[39m\u001b[38;5;28mself\u001b[39m\u001b[38;5;241m.\u001b[39mlearning_rate)\n\u001b[1;32m    165\u001b[0m \u001b[38;5;28;01mfor\u001b[39;00m layer \u001b[38;5;129;01min\u001b[39;00m \u001b[38;5;28mreversed\u001b[39m(\u001b[38;5;28mself\u001b[39m\u001b[38;5;241m.\u001b[39mlayers[:\u001b[38;5;241m-\u001b[39m\u001b[38;5;241m1\u001b[39m]):\n\u001b[0;32m--> 166\u001b[0m     delta \u001b[38;5;241m=\u001b[39m \u001b[43mlayer\u001b[49m\u001b[38;5;241;43m.\u001b[39;49m\u001b[43mpropogate\u001b[49m\u001b[43m(\u001b[49m\u001b[43mrate\u001b[49m\u001b[38;5;241;43m=\u001b[39;49m\u001b[38;5;28;43mself\u001b[39;49m\u001b[38;5;241;43m.\u001b[39;49m\u001b[43mlearning_rate\u001b[49m\u001b[43m,\u001b[49m\u001b[43m \u001b[49m\u001b[43mdelta\u001b[49m\u001b[38;5;241;43m=\u001b[39;49m\u001b[43mdelta\u001b[49m\u001b[43m)\u001b[49m\n",
      "File \u001b[0;32m~/projects/simple_nn/genericdlmodel.py:428\u001b[0m, in \u001b[0;36mLayer.propogate\u001b[0;34m(self, rate, delta)\u001b[0m\n\u001b[1;32m    424\u001b[0m res \u001b[38;5;241m=\u001b[39m new_delta \u001b[38;5;241m@\u001b[39m \u001b[38;5;28mself\u001b[39m\u001b[38;5;241m.\u001b[39mweights\u001b[38;5;241m.\u001b[39mT\n\u001b[1;32m    425\u001b[0m \u001b[38;5;28mself\u001b[39m\u001b[38;5;241m.\u001b[39mweights \u001b[38;5;241m-\u001b[39m\u001b[38;5;241m=\u001b[39m (\n\u001b[1;32m    426\u001b[0m     (rate \u001b[38;5;241m/\u001b[39m \u001b[38;5;28mself\u001b[39m\u001b[38;5;241m.\u001b[39mbatch_size) \u001b[38;5;241m*\u001b[39m low_rk_grad\n\u001b[1;32m    427\u001b[0m )\n\u001b[0;32m--> 428\u001b[0m \u001b[38;5;28mself\u001b[39m\u001b[38;5;241m.\u001b[39mbias \u001b[38;5;241m-\u001b[39m\u001b[38;5;241m=\u001b[39m rate \u001b[38;5;241m*\u001b[39m \u001b[43mnp\u001b[49m\u001b[38;5;241;43m.\u001b[39;49m\u001b[43mmean\u001b[49m\u001b[43m(\u001b[49m\u001b[43mnew_delta\u001b[49m\u001b[43m,\u001b[49m\u001b[43m \u001b[49m\u001b[43maxis\u001b[49m\u001b[38;5;241;43m=\u001b[39;49m\u001b[38;5;241;43m0\u001b[39;49m\u001b[43m)\u001b[49m\n\u001b[1;32m    429\u001b[0m \u001b[38;5;28;01mreturn\u001b[39;00m res\n",
      "File \u001b[0;32m~/projects/simple_nn/.venv/lib/python3.12/site-packages/numpy/core/fromnumeric.py:3380\u001b[0m, in \u001b[0;36m_mean_dispatcher\u001b[0;34m(a, axis, dtype, out, keepdims, where)\u001b[0m\n\u001b[1;32m   3365\u001b[0m \u001b[38;5;250m    \u001b[39m\u001b[38;5;124;03m\"\"\"\u001b[39;00m\n\u001b[1;32m   3366\u001b[0m \u001b[38;5;124;03m    Round an array to the given number of decimals.\u001b[39;00m\n\u001b[1;32m   3367\u001b[0m \n\u001b[0;32m   (...)\u001b[0m\n\u001b[1;32m   3375\u001b[0m \n\u001b[1;32m   3376\u001b[0m \u001b[38;5;124;03m    \"\"\"\u001b[39;00m\n\u001b[1;32m   3377\u001b[0m     \u001b[38;5;28;01mreturn\u001b[39;00m _wrapfunc(a, \u001b[38;5;124m'\u001b[39m\u001b[38;5;124mround\u001b[39m\u001b[38;5;124m'\u001b[39m, decimals\u001b[38;5;241m=\u001b[39mdecimals, out\u001b[38;5;241m=\u001b[39mout)\n\u001b[0;32m-> 3380\u001b[0m \u001b[38;5;28;01mdef\u001b[39;00m \u001b[38;5;21m_mean_dispatcher\u001b[39m(a, axis\u001b[38;5;241m=\u001b[39m\u001b[38;5;28;01mNone\u001b[39;00m, dtype\u001b[38;5;241m=\u001b[39m\u001b[38;5;28;01mNone\u001b[39;00m, out\u001b[38;5;241m=\u001b[39m\u001b[38;5;28;01mNone\u001b[39;00m, keepdims\u001b[38;5;241m=\u001b[39m\u001b[38;5;28;01mNone\u001b[39;00m, \u001b[38;5;241m*\u001b[39m,\n\u001b[1;32m   3381\u001b[0m                      where\u001b[38;5;241m=\u001b[39m\u001b[38;5;28;01mNone\u001b[39;00m):\n\u001b[1;32m   3382\u001b[0m     \u001b[38;5;28;01mreturn\u001b[39;00m (a, where, out)\n\u001b[1;32m   3385\u001b[0m \u001b[38;5;129m@array_function_dispatch\u001b[39m(_mean_dispatcher)\n\u001b[1;32m   3386\u001b[0m \u001b[38;5;28;01mdef\u001b[39;00m \u001b[38;5;21mmean\u001b[39m(a, axis\u001b[38;5;241m=\u001b[39m\u001b[38;5;28;01mNone\u001b[39;00m, dtype\u001b[38;5;241m=\u001b[39m\u001b[38;5;28;01mNone\u001b[39;00m, out\u001b[38;5;241m=\u001b[39m\u001b[38;5;28;01mNone\u001b[39;00m, keepdims\u001b[38;5;241m=\u001b[39mnp\u001b[38;5;241m.\u001b[39m_NoValue, \u001b[38;5;241m*\u001b[39m,\n\u001b[1;32m   3387\u001b[0m          where\u001b[38;5;241m=\u001b[39mnp\u001b[38;5;241m.\u001b[39m_NoValue):\n",
      "\u001b[0;31mKeyboardInterrupt\u001b[0m: "
     ]
    }
   ],
   "source": [
    "%%timeit\n",
    "model.run()"
   ]
  },
  {
   "cell_type": "markdown",
   "id": "d77914cf-f2e0-4a13-9318-1d972cd401ac",
   "metadata": {},
   "source": [
    "TODO\n",
    "----\n",
    "1. test parallelization\n",
    "2. compare times between rank one update and SVD\n",
    "3. compare number of iterations for rank one updates\n",
    "4. test taking svd of svd_lowrank\n",
    "5. pytorch\n",
    "6. test learning rate\n",
    "7. "
   ]
  }
 ],
 "metadata": {
  "kernelspec": {
   "display_name": "Python 3 (ipykernel)",
   "language": "python",
   "name": "python3"
  },
  "language_info": {
   "codemirror_mode": {
    "name": "ipython",
    "version": 3
   },
   "file_extension": ".py",
   "mimetype": "text/x-python",
   "name": "python",
   "nbconvert_exporter": "python",
   "pygments_lexer": "ipython3",
   "version": "3.12.1"
  }
 },
 "nbformat": 4,
 "nbformat_minor": 5
}
