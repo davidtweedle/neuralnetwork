{
 "cells": [
  {
   "cell_type": "markdown",
   "id": "e8fa3d91-bbcd-4231-8293-b118f3238f8a",
   "metadata": {},
   "source": [
    "Imports\n",
    "-------"
   ]
  },
  {
   "cell_type": "code",
   "execution_count": 1,
   "id": "d7656a8c-5b79-4472-9b75-4df85a6e8245",
   "metadata": {
    "editable": true,
    "slideshow": {
     "slide_type": "slide"
    },
    "tags": []
   },
   "outputs": [],
   "source": [
    "import os\n",
    "\n",
    "import torch\n",
    "from torchvision import datasets, transforms\n",
    "import torch.nn as nn\n",
    "import torch.optim as optim\n",
    "\n",
    "from genericdlmodel import Model\n",
    "\n",
    "import numpy as np"
   ]
  },
  {
   "cell_type": "markdown",
   "id": "6275edf5-b017-4887-80d1-c7ae94bfbe6c",
   "metadata": {},
   "source": [
    "Download data\n",
    "-------------"
   ]
  },
  {
   "cell_type": "code",
   "execution_count": 2,
   "id": "b005bae4-8121-4132-8d5c-fe47f818ecf4",
   "metadata": {},
   "outputs": [],
   "source": [
    "transform = transforms.ToTensor()\n",
    "train_set = datasets.MNIST('data/', train=True, download=True, transform=transform)\n",
    "test_set = datasets.MNIST('data/', train=False, download=True, transform=transform)"
   ]
  },
  {
   "cell_type": "markdown",
   "id": "4b6c5f18-d480-4570-812e-88330b1fceb1",
   "metadata": {},
   "source": [
    "Initializing hyperparameters\n",
    "----------------------------"
   ]
  },
  {
   "cell_type": "code",
   "execution_count": 3,
   "id": "47d884f4-0928-4d46-a89b-8e3a8c715c70",
   "metadata": {
    "editable": true,
    "slideshow": {
     "slide_type": "slide"
    },
    "tags": []
   },
   "outputs": [],
   "source": [
    "learning_rate = 1e-3\n",
    "epochs = 14\n",
    "pixels_per_image = 28 * 28\n",
    "num_labels = 10\n",
    "batch_size = 64\n",
    "test_batch_size=1000\n",
    "dropout = 0.4\n",
    "hidden_layer_sizes = [512, 512]\n",
    "update_rule = \"identity\"\n",
    "update_args = {}\n",
    "# update_args = {\"rank\": 10, \"q\": 10, \"niter\": 2}\n",
    "seed=101\n",
    "rng = np.random.default_rng(seed=seed)"
   ]
  },
  {
   "cell_type": "markdown",
   "id": "0546cf5a-3b51-420c-b805-999baf7b27c3",
   "metadata": {},
   "source": [
    "Running the models\n",
    "------------------"
   ]
  },
  {
   "cell_type": "code",
   "execution_count": 4,
   "id": "0e341785-189c-4551-852d-9d0aadcd3417",
   "metadata": {},
   "outputs": [],
   "source": [
    "train_dataloader = torch.utils.data.DataLoader(train_set, batch_size=batch_size)\n",
    "test_dataloader = torch.utils.data.DataLoader(test_set, batch_size=test_batch_size)"
   ]
  },
  {
   "cell_type": "code",
   "execution_count": 5,
   "id": "b64d2303-bf85-4ff7-b435-18862de098c0",
   "metadata": {},
   "outputs": [],
   "source": [
    "# construct Neural Network in torch\n",
    "class Net(nn.Module):\n",
    "    def __init__(self):\n",
    "        super().__init__()\n",
    "        self.linear_relu_stack = nn.Sequential(\n",
    "            nn.Flatten(),\n",
    "            nn.Linear(28 * 28, 512),\n",
    "            nn.Dropout(dropout),\n",
    "            nn.ReLU(),\n",
    "            nn.Linear(512, 512),\n",
    "            nn.Dropout(dropout),\n",
    "            nn.ReLU(),\n",
    "            nn.Linear(512,10)\n",
    "        )\n",
    "\n",
    "    def forward(self, x):\n",
    "        return self.linear_relu_stack(x)"
   ]
  },
  {
   "cell_type": "code",
   "execution_count": 6,
   "id": "e09f6b29-7253-4deb-8da0-6861112dfb67",
   "metadata": {},
   "outputs": [],
   "source": [
    "def train(dataloader, model, loss_fn, optimizer):\n",
    "    size = len(dataloader.dataset)\n",
    "    model.train()\n",
    "    for batch, (X, y) in enumerate(dataloader):\n",
    "        pred = model(X)\n",
    "        loss = loss_fn(pred, y)\n",
    "        loss.backward()\n",
    "        optimizer.step()\n",
    "        optimizer.zero_grad()"
   ]
  },
  {
   "cell_type": "code",
   "execution_count": 7,
   "id": "1d2664fc-467c-4e22-a63b-456b76628b79",
   "metadata": {},
   "outputs": [],
   "source": [
    "def test(dataloader, model, loss_fn):\n",
    "    size = len(dataloader.dataset)\n",
    "    num_batches = len(dataloader)\n",
    "    model.eval()\n",
    "    test_loss, correct = 0, 0\n",
    "    with torch.no_grad():\n",
    "        for X, y in dataloader:\n",
    "            pred = model(X)\n",
    "            test_loss += loss_fn(pred, y).item()\n",
    "            correct += (pred.argmax(1) == y).type(torch.float).sum().item()\n",
    "        test_loss /= num_batches\n",
    "        correct /= size\n",
    "        print(f\"Test Error: \\n Accuracy: {(100 * correct):>0.1f}%, Avg loss: {test_loss:>8f} \\n\")"
   ]
  },
  {
   "cell_type": "code",
   "execution_count": 8,
   "id": "781fe3be-39e4-4677-8793-a7181a3aecac",
   "metadata": {},
   "outputs": [
    {
     "name": "stdout",
     "output_type": "stream",
     "text": [
      "Epoch 1\n",
      "-----------------------\n",
      "Test Error: \n",
      " Accuracy: 29.9%, Avg loss: 2.261942 \n",
      "\n",
      "Epoch 2\n",
      "-----------------------\n",
      "Test Error: \n",
      " Accuracy: 51.6%, Avg loss: 2.203831 \n",
      "\n",
      "Epoch 3\n",
      "-----------------------\n",
      "Test Error: \n",
      " Accuracy: 61.6%, Avg loss: 2.113331 \n",
      "\n",
      "Epoch 4\n",
      "-----------------------\n",
      "Test Error: \n",
      " Accuracy: 68.6%, Avg loss: 1.963091 \n",
      "\n",
      "Epoch 5\n",
      "-----------------------\n",
      "Test Error: \n",
      " Accuracy: 73.0%, Avg loss: 1.727096 \n",
      "\n",
      "Epoch 6\n",
      "-----------------------\n",
      "Test Error: \n",
      " Accuracy: 75.0%, Avg loss: 1.423817 \n",
      "\n",
      "Epoch 7\n",
      "-----------------------\n",
      "Test Error: \n",
      " Accuracy: 78.1%, Avg loss: 1.141047 \n",
      "\n",
      "Epoch 8\n",
      "-----------------------\n",
      "Test Error: \n",
      " Accuracy: 80.1%, Avg loss: 0.935096 \n",
      "\n",
      "Epoch 9\n",
      "-----------------------\n",
      "Test Error: \n",
      " Accuracy: 81.7%, Avg loss: 0.796455 \n",
      "\n",
      "Epoch 10\n",
      "-----------------------\n",
      "Test Error: \n",
      " Accuracy: 83.0%, Avg loss: 0.700925 \n",
      "\n",
      "Epoch 11\n",
      "-----------------------\n",
      "Test Error: \n",
      " Accuracy: 84.2%, Avg loss: 0.632282 \n",
      "\n",
      "Epoch 12\n",
      "-----------------------\n",
      "Test Error: \n",
      " Accuracy: 85.1%, Avg loss: 0.581744 \n",
      "\n",
      "Epoch 13\n",
      "-----------------------\n",
      "Test Error: \n",
      " Accuracy: 85.9%, Avg loss: 0.542700 \n",
      "\n",
      "Epoch 14\n",
      "-----------------------\n",
      "Test Error: \n",
      " Accuracy: 86.6%, Avg loss: 0.511408 \n",
      "\n",
      "Done!\n",
      "CPU times: user 19min 52s, sys: 4.37 s, total: 19min 56s\n",
      "Wall time: 7min\n"
     ]
    }
   ],
   "source": [
    "%%time\n",
    "model = Net()\n",
    "loss_fn = nn.CrossEntropyLoss()\n",
    "optimizer = torch.optim.SGD(model.parameters(), lr=learning_rate)\n",
    "for t in range(epochs):\n",
    "    print(f\"Epoch {t+1}\\n-----------------------\")\n",
    "    train(train_dataloader, model, loss_fn, optimizer)\n",
    "    test(test_dataloader, model, loss_fn)\n",
    "print(\"Done!\")"
   ]
  },
  {
   "cell_type": "code",
   "execution_count": 9,
   "id": "961c4ee3-1b42-44d0-8365-b2592f9eba23",
   "metadata": {},
   "outputs": [],
   "source": [
    "train_set = datasets.MNIST('data/', train=True, download=True)\n",
    "test_set = datasets.MNIST('data/', train=False, download=True)\n",
    "def one_hot_encoding(labels, dim=10):\n",
    "    one_hot_labels = labels[..., None] == np.arange(dim)[None]\n",
    "    return one_hot_labels.astype(np.float64)\n",
    "    \n",
    "def to_numpy(dataset):\n",
    "    x, y = zip(*dataset)\n",
    "    x = np.array(x, dtype='float64')\n",
    "    x = x.reshape(x.shape[0], x.shape[1] * x.shape[2])\n",
    "    x /= 255.\n",
    "    y = one_hot_encoding(np.array(y, dtype='float64'), dim=10)\n",
    "    return x, y\n",
    "\n",
    "x_train, y_train = to_numpy(train_set)\n",
    "x_test, y_test = to_numpy(test_set)"
   ]
  },
  {
   "cell_type": "code",
   "execution_count": 10,
   "id": "66fadb8c-7d00-4ed2-8125-e168a9535d4f",
   "metadata": {
    "editable": true,
    "slideshow": {
     "slide_type": "slide"
    },
    "tags": []
   },
   "outputs": [],
   "source": [
    "model = Model(\n",
    "    rng=rng,\n",
    "    training_data_X=x_train,\n",
    "    training_data_y=y_train,\n",
    "    val_data_X=x_test,\n",
    "    val_data_y=y_test,\n",
    "    objective_function=\"categoricalcrossentropy\",\n",
    "    learning_rate=learning_rate,\n",
    "    batch_size=batch_size,\n",
    "    eps=1e-7\n",
    ")\n",
    "for output_size in hidden_layer_sizes:\n",
    "    model.add_layer(\n",
    "        output_size=output_size,\n",
    "        func_name=\"relu\",\n",
    "        dropout=dropout,\n",
    "        update_rule=update_rule,\n",
    "        update_args=update_args,\n",
    "    )\n",
    "model.add_final_layer()"
   ]
  },
  {
   "cell_type": "code",
   "execution_count": 11,
   "id": "e4d2a549-b4c3-4d2a-b684-4e8a89488a38",
   "metadata": {},
   "outputs": [
    {
     "name": "stdout",
     "output_type": "stream",
     "text": [
      "Epoch: 0\n",
      "  Training loss:          2.197\n",
      "  Training accuracy:      0.227\n",
      "  Validation loss:        1.566\n",
      "  Validation accuracy:    0.673\n",
      "\n",
      "Epoch: 1\n",
      "  Training loss:          1.645\n",
      "  Training accuracy:      0.458\n",
      "  Validation loss:        1.146\n",
      "  Validation accuracy:    0.763\n",
      "\n",
      "Epoch: 2\n",
      "  Training loss:          1.332\n",
      "  Training accuracy:      0.578\n",
      "  Validation loss:        0.902\n",
      "  Validation accuracy:    0.801\n",
      "\n",
      "Epoch: 3\n",
      "  Training loss:          1.131\n",
      "  Training accuracy:      0.644\n",
      "  Validation loss:        0.755\n",
      "  Validation accuracy:    0.824\n",
      "\n",
      "Epoch: 4\n",
      "  Training loss:          1.006\n",
      "  Training accuracy:      0.681\n",
      "  Validation loss:        0.661\n",
      "  Validation accuracy:    0.840\n",
      "\n",
      "Epoch: 5\n",
      "  Training loss:          0.913\n",
      "  Training accuracy:      0.710\n",
      "  Validation loss:        0.595\n",
      "  Validation accuracy:    0.854\n",
      "\n",
      "Epoch: 6\n",
      "  Training loss:          0.847\n",
      "  Training accuracy:      0.732\n",
      "  Validation loss:        0.549\n",
      "  Validation accuracy:    0.863\n",
      "\n",
      "Epoch: 7\n",
      "  Training loss:          0.789\n",
      "  Training accuracy:      0.750\n",
      "  Validation loss:        0.513\n",
      "  Validation accuracy:    0.870\n",
      "\n",
      "Epoch: 8\n",
      "  Training loss:          0.752\n",
      "  Training accuracy:      0.760\n",
      "  Validation loss:        0.486\n",
      "  Validation accuracy:    0.874\n",
      "\n",
      "Epoch: 9\n",
      "  Training loss:          0.718\n",
      "  Training accuracy:      0.773\n",
      "  Validation loss:        0.463\n",
      "  Validation accuracy:    0.878\n",
      "\n",
      "Epoch: 10\n",
      "  Training loss:          0.693\n",
      "  Training accuracy:      0.780\n",
      "  Validation loss:        0.444\n",
      "  Validation accuracy:    0.882\n",
      "\n",
      "Epoch: 11\n",
      "  Training loss:          0.666\n",
      "  Training accuracy:      0.788\n",
      "  Validation loss:        0.429\n",
      "  Validation accuracy:    0.886\n",
      "\n",
      "Epoch: 12\n",
      "  Training loss:          0.644\n",
      "  Training accuracy:      0.796\n",
      "  Validation loss:        0.416\n",
      "  Validation accuracy:    0.888\n",
      "\n",
      "Epoch: 13\n",
      "  Training loss:          0.623\n",
      "  Training accuracy:      0.805\n",
      "  Validation loss:        0.404\n",
      "  Validation accuracy:    0.892\n",
      "\n",
      "Epoch: 14\n",
      "  Training loss:          0.608\n",
      "  Training accuracy:      0.810\n",
      "  Validation loss:        0.394\n",
      "  Validation accuracy:    0.894\n",
      "\n",
      "CPU times: user 57min 28s, sys: 35min 44s, total: 1h 33min 13s\n",
      "Wall time: 24min 58s\n"
     ]
    }
   ],
   "source": [
    "%%time\n",
    "model.run(stopping_rule=\"epoch\",epochs=epochs)"
   ]
  }
 ],
 "metadata": {
  "kernelspec": {
   "display_name": "Python 3 (ipykernel)",
   "language": "python",
   "name": "python3"
  },
  "language_info": {
   "codemirror_mode": {
    "name": "ipython",
    "version": 3
   },
   "file_extension": ".py",
   "mimetype": "text/x-python",
   "name": "python",
   "nbconvert_exporter": "python",
   "pygments_lexer": "ipython3",
   "version": "3.12.1"
  }
 },
 "nbformat": 4,
 "nbformat_minor": 5
}
