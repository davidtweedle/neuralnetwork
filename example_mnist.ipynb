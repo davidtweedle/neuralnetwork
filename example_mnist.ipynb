{
  "cells": [
    {
      "cell_type": "markdown",
      "metadata": {
        "id": "view-in-github",
        "colab_type": "text"
      },
      "source": [
        "<a href=\"https://colab.research.google.com/github/davidtweedle/neuralnetwork/blob/main/example_mnist.ipynb\" target=\"_parent\"><img src=\"https://colab.research.google.com/assets/colab-badge.svg\" alt=\"Open In Colab\"/></a>"
      ]
    },
    {
      "cell_type": "markdown",
      "id": "e8fa3d91-bbcd-4231-8293-b118f3238f8a",
      "metadata": {
        "id": "e8fa3d91-bbcd-4231-8293-b118f3238f8a"
      },
      "source": [
        "Imports\n",
        "-------"
      ]
    },
    {
      "cell_type": "code",
      "source": [
        "import os\n",
        "using_colab = 'COLAB_GPU' in os.environ"
      ],
      "metadata": {
        "id": "ffx9GJj5iQs7"
      },
      "id": "ffx9GJj5iQs7",
      "execution_count": 1,
      "outputs": []
    },
    {
      "cell_type": "code",
      "source": [
        "if using_colab:\n",
        "  ! git clone https://github.com/davidtweedle/neuralnetwork.git \\\n",
        "    && cd neuralnetwork/ \\\n",
        "    && pip install ."
      ],
      "metadata": {
        "id": "EqEyZkJQpTQ8",
        "outputId": "1d07c42d-9475-4758-d7db-91e708fda3e5",
        "colab": {
          "base_uri": "https://localhost:8080/"
        }
      },
      "id": "EqEyZkJQpTQ8",
      "execution_count": 2,
      "outputs": [
        {
          "output_type": "stream",
          "name": "stdout",
          "text": [
            "Cloning into 'neuralnetwork'...\n",
            "remote: Enumerating objects: 225, done.\u001b[K\n",
            "remote: Counting objects: 100% (225/225), done.\u001b[K\n",
            "remote: Compressing objects: 100% (100/100), done.\u001b[K\n",
            "remote: Total 225 (delta 127), reused 222 (delta 124), pack-reused 0\u001b[K\n",
            "Receiving objects: 100% (225/225), 311.16 KiB | 5.36 MiB/s, done.\n",
            "Resolving deltas: 100% (127/127), done.\n",
            "Processing /content/neuralnetwork\n",
            "  Installing build dependencies ... \u001b[?25l\u001b[?25hdone\n",
            "  Getting requirements to build wheel ... \u001b[?25l\u001b[?25hdone\n",
            "  Installing backend dependencies ... \u001b[?25l\u001b[?25hdone\n",
            "  Preparing metadata (pyproject.toml) ... \u001b[?25l\u001b[?25hdone\n",
            "Requirement already satisfied: numpy in /usr/local/lib/python3.10/dist-packages (from generic-deep-learning-model==0.0.1) (1.25.2)\n",
            "Building wheels for collected packages: generic-deep-learning-model\n",
            "  Building wheel for generic-deep-learning-model (pyproject.toml) ... \u001b[?25l\u001b[?25hdone\n",
            "  Created wheel for generic-deep-learning-model: filename=generic_deep_learning_model-0.0.1-py3-none-any.whl size=7745 sha256=cd8c3f94882eb79b019a1ec826bdd515c61f1a75850a51c186484de6670c464c\n",
            "  Stored in directory: /tmp/pip-ephem-wheel-cache-xao9brcz/wheels/9f/da/25/a5baba62ad557687df3cf1b5eb61c349077f1d5b24827081ff\n",
            "Successfully built generic-deep-learning-model\n",
            "Installing collected packages: generic-deep-learning-model\n",
            "Successfully installed generic-deep-learning-model-0.0.1\n"
          ]
        }
      ]
    },
    {
      "cell_type": "code",
      "execution_count": 3,
      "id": "d7656a8c-5b79-4472-9b75-4df85a6e8245",
      "metadata": {
        "editable": true,
        "tags": [],
        "id": "d7656a8c-5b79-4472-9b75-4df85a6e8245"
      },
      "outputs": [],
      "source": [
        "import torch\n",
        "from torchvision import datasets, transforms\n",
        "import torch.nn as nn\n",
        "import torch.optim as optim\n",
        "\n",
        "from genericdlmodel import Model\n",
        "\n",
        "import numpy as np"
      ]
    },
    {
      "cell_type": "markdown",
      "id": "6275edf5-b017-4887-80d1-c7ae94bfbe6c",
      "metadata": {
        "id": "6275edf5-b017-4887-80d1-c7ae94bfbe6c"
      },
      "source": [
        "Download data\n",
        "-------------"
      ]
    },
    {
      "cell_type": "code",
      "execution_count": 4,
      "id": "b005bae4-8121-4132-8d5c-fe47f818ecf4",
      "metadata": {
        "id": "b005bae4-8121-4132-8d5c-fe47f818ecf4",
        "outputId": "41eb6e96-efeb-4de3-9711-ff024437a9a3",
        "colab": {
          "base_uri": "https://localhost:8080/"
        }
      },
      "outputs": [
        {
          "output_type": "stream",
          "name": "stdout",
          "text": [
            "Downloading http://yann.lecun.com/exdb/mnist/train-images-idx3-ubyte.gz\n",
            "Failed to download (trying next):\n",
            "HTTP Error 503: Service Unavailable\n",
            "\n",
            "Downloading https://ossci-datasets.s3.amazonaws.com/mnist/train-images-idx3-ubyte.gz\n",
            "Downloading https://ossci-datasets.s3.amazonaws.com/mnist/train-images-idx3-ubyte.gz to data/MNIST/raw/train-images-idx3-ubyte.gz\n"
          ]
        },
        {
          "output_type": "stream",
          "name": "stderr",
          "text": [
            "100%|██████████| 9912422/9912422 [00:00<00:00, 56460354.50it/s]\n"
          ]
        },
        {
          "output_type": "stream",
          "name": "stdout",
          "text": [
            "Extracting data/MNIST/raw/train-images-idx3-ubyte.gz to data/MNIST/raw\n",
            "\n",
            "Downloading http://yann.lecun.com/exdb/mnist/train-labels-idx1-ubyte.gz\n",
            "Failed to download (trying next):\n",
            "HTTP Error 503: Service Unavailable\n",
            "\n",
            "Downloading https://ossci-datasets.s3.amazonaws.com/mnist/train-labels-idx1-ubyte.gz\n",
            "Downloading https://ossci-datasets.s3.amazonaws.com/mnist/train-labels-idx1-ubyte.gz to data/MNIST/raw/train-labels-idx1-ubyte.gz\n"
          ]
        },
        {
          "output_type": "stream",
          "name": "stderr",
          "text": [
            "100%|██████████| 28881/28881 [00:00<00:00, 1664454.83it/s]\n"
          ]
        },
        {
          "output_type": "stream",
          "name": "stdout",
          "text": [
            "Extracting data/MNIST/raw/train-labels-idx1-ubyte.gz to data/MNIST/raw\n",
            "\n",
            "Downloading http://yann.lecun.com/exdb/mnist/t10k-images-idx3-ubyte.gz\n",
            "Failed to download (trying next):\n",
            "HTTP Error 503: Service Unavailable\n",
            "\n",
            "Downloading https://ossci-datasets.s3.amazonaws.com/mnist/t10k-images-idx3-ubyte.gz\n",
            "Downloading https://ossci-datasets.s3.amazonaws.com/mnist/t10k-images-idx3-ubyte.gz to data/MNIST/raw/t10k-images-idx3-ubyte.gz\n"
          ]
        },
        {
          "output_type": "stream",
          "name": "stderr",
          "text": [
            "100%|██████████| 1648877/1648877 [00:00<00:00, 14412641.05it/s]\n"
          ]
        },
        {
          "output_type": "stream",
          "name": "stdout",
          "text": [
            "Extracting data/MNIST/raw/t10k-images-idx3-ubyte.gz to data/MNIST/raw\n",
            "\n",
            "Downloading http://yann.lecun.com/exdb/mnist/t10k-labels-idx1-ubyte.gz\n",
            "Failed to download (trying next):\n",
            "HTTP Error 503: Service Unavailable\n",
            "\n",
            "Downloading https://ossci-datasets.s3.amazonaws.com/mnist/t10k-labels-idx1-ubyte.gz\n",
            "Downloading https://ossci-datasets.s3.amazonaws.com/mnist/t10k-labels-idx1-ubyte.gz to data/MNIST/raw/t10k-labels-idx1-ubyte.gz\n"
          ]
        },
        {
          "output_type": "stream",
          "name": "stderr",
          "text": [
            "100%|██████████| 4542/4542 [00:00<00:00, 5688423.04it/s]\n"
          ]
        },
        {
          "output_type": "stream",
          "name": "stdout",
          "text": [
            "Extracting data/MNIST/raw/t10k-labels-idx1-ubyte.gz to data/MNIST/raw\n",
            "\n"
          ]
        }
      ],
      "source": [
        "transform = transforms.ToTensor()\n",
        "train_set = datasets.MNIST('data/', train=True, download=True, transform=transform)\n",
        "test_set = datasets.MNIST('data/', train=False, download=True, transform=transform)"
      ]
    },
    {
      "cell_type": "markdown",
      "id": "4b6c5f18-d480-4570-812e-88330b1fceb1",
      "metadata": {
        "id": "4b6c5f18-d480-4570-812e-88330b1fceb1"
      },
      "source": [
        "Initializing hyperparameters\n",
        "----------------------------"
      ]
    },
    {
      "cell_type": "code",
      "execution_count": 5,
      "id": "47d884f4-0928-4d46-a89b-8e3a8c715c70",
      "metadata": {
        "editable": true,
        "tags": [],
        "id": "47d884f4-0928-4d46-a89b-8e3a8c715c70"
      },
      "outputs": [],
      "source": [
        "learning_rate = 1e-3\n",
        "epochs = 14\n",
        "pixels_per_image = 28 * 28\n",
        "num_labels = 10\n",
        "batch_size = 128\n",
        "test_batch_size=1000\n",
        "dropout = 0.4\n",
        "hidden_layer_sizes = [512, 512]\n",
        "update_rule = \"identity\"\n",
        "update_args = {}\n",
        "# update_args = {\"rank\": 10, \"q\": 10, \"niter\": 2}\n",
        "seed=101\n",
        "rng = np.random.default_rng(seed=seed)"
      ]
    },
    {
      "cell_type": "markdown",
      "id": "0546cf5a-3b51-420c-b805-999baf7b27c3",
      "metadata": {
        "id": "0546cf5a-3b51-420c-b805-999baf7b27c3"
      },
      "source": [
        "Running the models\n",
        "------------------"
      ]
    },
    {
      "cell_type": "code",
      "execution_count": 6,
      "id": "0e341785-189c-4551-852d-9d0aadcd3417",
      "metadata": {
        "id": "0e341785-189c-4551-852d-9d0aadcd3417"
      },
      "outputs": [],
      "source": [
        "train_dataloader = torch.utils.data.DataLoader(train_set, batch_size=batch_size)\n",
        "test_dataloader = torch.utils.data.DataLoader(test_set, batch_size=test_batch_size)"
      ]
    },
    {
      "cell_type": "code",
      "execution_count": 7,
      "id": "b64d2303-bf85-4ff7-b435-18862de098c0",
      "metadata": {
        "id": "b64d2303-bf85-4ff7-b435-18862de098c0"
      },
      "outputs": [],
      "source": [
        "# construct Neural Network in torch\n",
        "class Net(nn.Module):\n",
        "    def __init__(self):\n",
        "        super().__init__()\n",
        "        self.linear_relu_stack = nn.Sequential(\n",
        "            nn.Flatten(),\n",
        "            nn.Linear(28 * 28, 512),\n",
        "            nn.Dropout(dropout),\n",
        "            nn.ReLU(),\n",
        "            nn.Linear(512, 512),\n",
        "            nn.Dropout(dropout),\n",
        "            nn.ReLU(),\n",
        "            nn.Linear(512,10)\n",
        "        )\n",
        "\n",
        "    def forward(self, x):\n",
        "        return self.linear_relu_stack(x)"
      ]
    },
    {
      "cell_type": "code",
      "execution_count": 8,
      "id": "e09f6b29-7253-4deb-8da0-6861112dfb67",
      "metadata": {
        "id": "e09f6b29-7253-4deb-8da0-6861112dfb67"
      },
      "outputs": [],
      "source": [
        "def train(dataloader, model, loss_fn, optimizer):\n",
        "    size = len(dataloader.dataset)\n",
        "    model.train()\n",
        "    for batch, (X, y) in enumerate(dataloader):\n",
        "        pred = model(X)\n",
        "        loss = loss_fn(pred, y)\n",
        "        loss.backward()\n",
        "        optimizer.step()\n",
        "        optimizer.zero_grad()"
      ]
    },
    {
      "cell_type": "code",
      "execution_count": 9,
      "id": "1d2664fc-467c-4e22-a63b-456b76628b79",
      "metadata": {
        "id": "1d2664fc-467c-4e22-a63b-456b76628b79"
      },
      "outputs": [],
      "source": [
        "def test(dataloader, model, loss_fn):\n",
        "    size = len(dataloader.dataset)\n",
        "    num_batches = len(dataloader)\n",
        "    model.eval()\n",
        "    test_loss, correct = 0, 0\n",
        "    with torch.no_grad():\n",
        "        for X, y in dataloader:\n",
        "            pred = model(X)\n",
        "            test_loss += loss_fn(pred, y).item()\n",
        "            correct += (pred.argmax(1) == y).type(torch.float).sum().item()\n",
        "        test_loss /= num_batches\n",
        "        correct /= size\n",
        "        print(f\"Test Error: \\n Accuracy: {(100 * correct):>0.1f}%, Avg loss: {test_loss:>8f} \\n\")"
      ]
    },
    {
      "cell_type": "code",
      "execution_count": 10,
      "id": "781fe3be-39e4-4677-8793-a7181a3aecac",
      "metadata": {
        "id": "781fe3be-39e4-4677-8793-a7181a3aecac",
        "outputId": "9634fa26-5753-4adc-9a1e-ee0dc46fac5b",
        "colab": {
          "base_uri": "https://localhost:8080/"
        }
      },
      "outputs": [
        {
          "output_type": "stream",
          "name": "stdout",
          "text": [
            "Epoch 1\n",
            "-----------------------\n",
            "Test Error: \n",
            " Accuracy: 22.9%, Avg loss: 2.282504 \n",
            "\n",
            "Epoch 2\n",
            "-----------------------\n",
            "Test Error: \n",
            " Accuracy: 44.5%, Avg loss: 2.261180 \n",
            "\n",
            "Epoch 3\n",
            "-----------------------\n",
            "Test Error: \n",
            " Accuracy: 58.7%, Avg loss: 2.236307 \n",
            "\n",
            "Epoch 4\n",
            "-----------------------\n",
            "Test Error: \n",
            " Accuracy: 63.3%, Avg loss: 2.205478 \n",
            "\n",
            "Epoch 5\n",
            "-----------------------\n",
            "Test Error: \n",
            " Accuracy: 65.2%, Avg loss: 2.166027 \n",
            "\n",
            "Epoch 6\n",
            "-----------------------\n",
            "Test Error: \n",
            " Accuracy: 66.1%, Avg loss: 2.114758 \n",
            "\n",
            "Epoch 7\n",
            "-----------------------\n",
            "Test Error: \n",
            " Accuracy: 66.4%, Avg loss: 2.048414 \n",
            "\n",
            "Epoch 8\n",
            "-----------------------\n",
            "Test Error: \n",
            " Accuracy: 68.1%, Avg loss: 1.963713 \n",
            "\n",
            "Epoch 9\n",
            "-----------------------\n",
            "Test Error: \n",
            " Accuracy: 69.8%, Avg loss: 1.858224 \n",
            "\n",
            "Epoch 10\n",
            "-----------------------\n",
            "Test Error: \n",
            " Accuracy: 71.2%, Avg loss: 1.732018 \n",
            "\n",
            "Epoch 11\n",
            "-----------------------\n",
            "Test Error: \n",
            " Accuracy: 72.4%, Avg loss: 1.589693 \n",
            "\n",
            "Epoch 12\n",
            "-----------------------\n",
            "Test Error: \n",
            " Accuracy: 73.3%, Avg loss: 1.440569 \n",
            "\n",
            "Epoch 13\n",
            "-----------------------\n",
            "Test Error: \n",
            " Accuracy: 74.7%, Avg loss: 1.296750 \n",
            "\n",
            "Epoch 14\n",
            "-----------------------\n",
            "Test Error: \n",
            " Accuracy: 75.8%, Avg loss: 1.168411 \n",
            "\n",
            "Done!\n",
            "CPU times: user 3min 23s, sys: 749 ms, total: 3min 24s\n",
            "Wall time: 3min 30s\n"
          ]
        }
      ],
      "source": [
        "%%time\n",
        "model = Net()\n",
        "loss_fn = nn.CrossEntropyLoss()\n",
        "optimizer = torch.optim.SGD(model.parameters(), lr=learning_rate)\n",
        "for t in range(epochs):\n",
        "    print(f\"Epoch {t+1}\\n-----------------------\")\n",
        "    train(train_dataloader, model, loss_fn, optimizer)\n",
        "    test(test_dataloader, model, loss_fn)\n",
        "print(\"Done!\")"
      ]
    },
    {
      "cell_type": "code",
      "execution_count": 11,
      "id": "961c4ee3-1b42-44d0-8365-b2592f9eba23",
      "metadata": {
        "id": "961c4ee3-1b42-44d0-8365-b2592f9eba23"
      },
      "outputs": [],
      "source": [
        "train_set = datasets.MNIST('data/', train=True, download=True)\n",
        "test_set = datasets.MNIST('data/', train=False, download=True)\n",
        "def one_hot_encoding(labels, dim=10):\n",
        "    one_hot_labels = labels[..., None] == np.arange(dim)[None]\n",
        "    return one_hot_labels.astype(np.float64)\n",
        "\n",
        "def to_numpy(dataset):\n",
        "    x, y = zip(*dataset)\n",
        "    x = np.array(x, dtype='float64')\n",
        "    x = x.reshape(x.shape[0], x.shape[1] * x.shape[2])\n",
        "    x /= 255.\n",
        "    y = one_hot_encoding(np.array(y, dtype='float64'), dim=10)\n",
        "    return x, y\n",
        "\n",
        "x_train, y_train = to_numpy(train_set)\n",
        "x_test, y_test = to_numpy(test_set)"
      ]
    },
    {
      "cell_type": "code",
      "execution_count": 12,
      "id": "66fadb8c-7d00-4ed2-8125-e168a9535d4f",
      "metadata": {
        "editable": true,
        "tags": [],
        "id": "66fadb8c-7d00-4ed2-8125-e168a9535d4f"
      },
      "outputs": [],
      "source": [
        "model = Model(\n",
        "    rng=rng,\n",
        "    training_data_X=x_train,\n",
        "    training_data_y=y_train,\n",
        "    val_data_X=x_test,\n",
        "    val_data_y=y_test,\n",
        "    objective_function=\"categoricalcrossentropy\",\n",
        "    learning_rate=learning_rate,\n",
        "    batch_size=batch_size,\n",
        "    eps=1e-7\n",
        ")\n",
        "for output_size in hidden_layer_sizes:\n",
        "    model.add_layer(\n",
        "        output_size=output_size,\n",
        "        func_name=\"relu\",\n",
        "        dropout=dropout,\n",
        "        update_rule=update_rule,\n",
        "        update_args=update_args,\n",
        "    )\n",
        "model.add_final_layer()"
      ]
    },
    {
      "cell_type": "code",
      "execution_count": 13,
      "id": "e4d2a549-b4c3-4d2a-b684-4e8a89488a38",
      "metadata": {
        "id": "e4d2a549-b4c3-4d2a-b684-4e8a89488a38",
        "outputId": "32dee1aa-6afa-4cdb-b703-3a525276518d",
        "colab": {
          "base_uri": "https://localhost:8080/"
        }
      },
      "outputs": [
        {
          "output_type": "stream",
          "name": "stdout",
          "text": [
            "Epoch: 0\n",
            "  Training loss:          2.386\n",
            "  Training accuracy:      0.159\n",
            "  Validation loss:        1.891\n",
            "  Validation accuracy:    0.502\n",
            "\n",
            "Epoch: 1\n",
            "  Training loss:          2.010\n",
            "  Training accuracy:      0.295\n",
            "  Validation loss:        1.566\n",
            "  Validation accuracy:    0.672\n",
            "\n",
            "Epoch: 2\n",
            "  Training loss:          1.742\n",
            "  Training accuracy:      0.418\n",
            "  Validation loss:        1.326\n",
            "  Validation accuracy:    0.731\n",
            "\n",
            "Epoch: 3\n",
            "  Training loss:          1.545\n",
            "  Training accuracy:      0.499\n",
            "  Validation loss:        1.145\n",
            "  Validation accuracy:    0.763\n",
            "\n",
            "Epoch: 4\n",
            "  Training loss:          1.390\n",
            "  Training accuracy:      0.560\n",
            "  Validation loss:        1.007\n",
            "  Validation accuracy:    0.786\n",
            "\n",
            "Epoch: 5\n",
            "  Training loss:          1.267\n",
            "  Training accuracy:      0.601\n",
            "  Validation loss:        0.901\n",
            "  Validation accuracy:    0.803\n",
            "\n",
            "Epoch: 6\n",
            "  Training loss:          1.172\n",
            "  Training accuracy:      0.631\n",
            "  Validation loss:        0.819\n",
            "  Validation accuracy:    0.814\n",
            "\n",
            "Epoch: 7\n",
            "  Training loss:          1.088\n",
            "  Training accuracy:      0.658\n",
            "  Validation loss:        0.754\n",
            "  Validation accuracy:    0.824\n",
            "\n",
            "Epoch: 8\n",
            "  Training loss:          1.034\n",
            "  Training accuracy:      0.672\n",
            "  Validation loss:        0.702\n",
            "  Validation accuracy:    0.834\n",
            "\n",
            "Epoch: 9\n",
            "  Training loss:          0.977\n",
            "  Training accuracy:      0.691\n",
            "  Validation loss:        0.659\n",
            "  Validation accuracy:    0.843\n",
            "\n",
            "Epoch: 10\n",
            "  Training loss:          0.933\n",
            "  Training accuracy:      0.702\n",
            "  Validation loss:        0.625\n",
            "  Validation accuracy:    0.847\n",
            "\n",
            "Epoch: 11\n",
            "  Training loss:          0.895\n",
            "  Training accuracy:      0.715\n",
            "  Validation loss:        0.595\n",
            "  Validation accuracy:    0.854\n",
            "\n",
            "Epoch: 12\n",
            "  Training loss:          0.863\n",
            "  Training accuracy:      0.727\n",
            "  Validation loss:        0.570\n",
            "  Validation accuracy:    0.858\n",
            "\n",
            "Epoch: 13\n",
            "  Training loss:          0.826\n",
            "  Training accuracy:      0.738\n",
            "  Validation loss:        0.549\n",
            "  Validation accuracy:    0.862\n",
            "\n",
            "Epoch: 14\n",
            "  Training loss:          0.806\n",
            "  Training accuracy:      0.743\n",
            "  Validation loss:        0.530\n",
            "  Validation accuracy:    0.866\n",
            "\n",
            "CPU times: user 6min 12s, sys: 1min 31s, total: 7min 44s\n",
            "Wall time: 4min 32s\n"
          ]
        }
      ],
      "source": [
        "%%time\n",
        "model.run(stopping_rule=\"epoch\",epochs=epochs)"
      ]
    }
  ],
  "metadata": {
    "kernelspec": {
      "display_name": "Python 3 (ipykernel)",
      "language": "python",
      "name": "python3"
    },
    "language_info": {
      "codemirror_mode": {
        "name": "ipython",
        "version": 3
      },
      "file_extension": ".py",
      "mimetype": "text/x-python",
      "name": "python",
      "nbconvert_exporter": "python",
      "pygments_lexer": "ipython3",
      "version": "3.12.1"
    },
    "colab": {
      "provenance": [],
      "include_colab_link": true
    }
  },
  "nbformat": 4,
  "nbformat_minor": 5
}