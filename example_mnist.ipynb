{
 "cells": [
  {
   "cell_type": "code",
   "execution_count": 1,
   "id": "d7656a8c-5b79-4472-9b75-4df85a6e8245",
   "metadata": {
    "editable": true,
    "slideshow": {
     "slide_type": "slide"
    },
    "tags": []
   },
   "outputs": [],
   "source": [
    "import requests\n",
    "import os\n",
    "import numpy as np\n",
    "import matplotlib\n",
    "from simple_dl import Model, Layer, FinalLayer, Activation\n",
    "%matplotlib ipympl"
   ]
  },
  {
   "cell_type": "code",
   "execution_count": 2,
   "id": "fbec4391-3818-472e-9c82-667f04f70ce4",
   "metadata": {
    "editable": true,
    "slideshow": {
     "slide_type": "slide"
    },
    "tags": []
   },
   "outputs": [],
   "source": [
    "headers = {\n",
    "    \"User-Agent\": \"Mozilla/5.0 (X11; Linux x86_64; rv:10.0) Gecko/20100101 Firefox/10.0\"\n",
    "}\n",
    "request_opts = {\n",
    "    \"headers\": headers,\n",
    "    \"params\": {\"raw\":\"true\"}\n",
    "}"
   ]
  },
  {
   "cell_type": "code",
   "execution_count": 3,
   "id": "8022d8bf-ff25-4471-82f4-aa5c295f8cc8",
   "metadata": {
    "editable": true,
    "slideshow": {
     "slide_type": "slide"
    },
    "tags": []
   },
   "outputs": [],
   "source": [
    "data_dir = \"../data\"\n",
    "os.makedirs(data_dir, exist_ok=True)\n",
    "\n",
    "base_url = \"https://storage.googleapis.com/tensorflow/tf-keras-datasets/\"\n",
    "fname = \"mnist.npz\"\n",
    "fpath = os.path.join(data_dir, fname)\n",
    "if not os.path.exists(fpath):\n",
    "    print('Downloading file: ' + fname)\n",
    "    resp = requests.get(base_url + fname, stream = True, **request_opts)\n",
    "    resp.raise_for_status()\n",
    "    with open(fpath, \"wb\") as fh:\n",
    "        for chunk in resp.iter_content(chunk_size=128):\n",
    "            fh.write(chunk)"
   ]
  },
  {
   "cell_type": "code",
   "execution_count": 4,
   "id": "abd55720-770a-4ccc-9ac1-5978dde12f04",
   "metadata": {
    "editable": true,
    "slideshow": {
     "slide_type": "slide"
    },
    "tags": []
   },
   "outputs": [],
   "source": [
    "data_file = np.load(fpath)\n",
    "x_train = data_file[\"x_train\"]\n",
    "x_test = data_file[\"x_test\"]\n",
    "y_train = data_file[\"y_train\"]\n",
    "y_test = data_file[\"y_test\"]\n",
    "data_file.close()"
   ]
  },
  {
   "cell_type": "code",
   "execution_count": 5,
   "id": "01094486-f37e-434a-8526-be208beff2c2",
   "metadata": {
    "editable": true,
    "slideshow": {
     "slide_type": "slide"
    },
    "tags": []
   },
   "outputs": [],
   "source": [
    "x_train = x_train.reshape(len(x_train), 28 * 28)\n",
    "x_test = x_test.reshape(len(x_test), 28 * 28)"
   ]
  },
  {
   "cell_type": "code",
   "execution_count": 6,
   "id": "329ae257-e420-4777-84cb-b73a259bc935",
   "metadata": {
    "editable": true,
    "slideshow": {
     "slide_type": "slide"
    },
    "tags": []
   },
   "outputs": [],
   "source": [
    "sample_size = int(len(x_train))\n",
    "test_split = 5 * sample_size // 6\n",
    "seed = 1234\n",
    "rng = np.random.default_rng(seed=seed)\n",
    "index = rng.choice(len(x_train), sample_size)\n",
    "train_sample_X = x_train[index[:test_split]]\n",
    "val_sample_X = x_train[index[test_split:]]\n",
    "train_sample_y = y_train[index[:test_split]]\n",
    "val_sample_y = y_train[index[test_split:]]"
   ]
  },
  {
   "cell_type": "code",
   "execution_count": 7,
   "id": "6edd03a4-e4c0-45f1-af03-9d7054cadd61",
   "metadata": {
    "editable": true,
    "slideshow": {
     "slide_type": "slide"
    },
    "tags": []
   },
   "outputs": [],
   "source": [
    "train_sample_X = train_sample_X * 1.0 / 255\n",
    "val_sample_X = val_sample_X * 1.0 / 255\n",
    "test_sample_X = x_test * 1.0 / 255"
   ]
  },
  {
   "cell_type": "code",
   "execution_count": 8,
   "id": "6f9c6d69-d1e0-47d7-ba41-66ed7e66f8ca",
   "metadata": {
    "editable": true,
    "slideshow": {
     "slide_type": "slide"
    },
    "tags": []
   },
   "outputs": [],
   "source": [
    "def one_hot_encoding(labels, dim=10):\n",
    "    one_hot_labels = labels[..., None] == np.arange(dim)[None]\n",
    "    return one_hot_labels.astype(np.float64)"
   ]
  },
  {
   "cell_type": "code",
   "execution_count": 9,
   "id": "1b95016d-10ba-4c31-a0cb-c9076a49d0ca",
   "metadata": {
    "editable": true,
    "slideshow": {
     "slide_type": "slide"
    },
    "tags": []
   },
   "outputs": [],
   "source": [
    "train_sample_labels = one_hot_encoding(train_sample_y)\n",
    "val_sample_labels = one_hot_encoding(val_sample_y)\n",
    "test_sample_labels = one_hot_encoding(y_test)"
   ]
  },
  {
   "cell_type": "code",
   "execution_count": 10,
   "id": "47d884f4-0928-4d46-a89b-8e3a8c715c70",
   "metadata": {
    "editable": true,
    "slideshow": {
     "slide_type": "slide"
    },
    "tags": []
   },
   "outputs": [],
   "source": [
    "learning_rate = 0.0005\n",
    "epochs = 20\n",
    "pixels_per_image = 28 * 28\n",
    "num_labels = 10\n",
    "batch_size = 100\n",
    "dropout = 0.45\n",
    "hidden_layer_sizes = [200,50]"
   ]
  },
  {
   "cell_type": "code",
   "execution_count": 11,
   "id": "66fadb8c-7d00-4ed2-8125-e168a9535d4f",
   "metadata": {
    "editable": true,
    "slideshow": {
     "slide_type": "slide"
    },
    "tags": []
   },
   "outputs": [],
   "source": [
    "model = Model(rng=rng,\n",
    "              training_data_X=train_sample_X,\n",
    "              training_data_y=train_sample_labels,\n",
    "              val_data_X=val_sample_X,\n",
    "              val_data_y=val_sample_labels,\n",
    "              objective_function='categoricalcrossentropy',\n",
    "              learning_rate=learning_rate,\n",
    "              epochs=epochs,\n",
    "              batch_size=batch_size\n",
    "             )"
   ]
  },
  {
   "cell_type": "code",
   "execution_count": 12,
   "id": "4ba18958-c946-46b2-8a3e-0fd3b1441ec5",
   "metadata": {
    "editable": true,
    "slideshow": {
     "slide_type": "slide"
    },
    "tags": []
   },
   "outputs": [],
   "source": [
    "for output_size in hidden_layer_sizes:\n",
    "    model.add_layer(output_size=output_size,\n",
    "                    func_name='relu',\n",
    "                    dropout=dropout\n",
    "                   )\n",
    "model.add_final_layer()"
   ]
  },
  {
   "cell_type": "code",
   "execution_count": 13,
   "id": "8718eb6c-cba0-43c1-b8d1-4e765137298b",
   "metadata": {
    "editable": true,
    "slideshow": {
     "slide_type": "slide"
    },
    "tags": []
   },
   "outputs": [
    {
     "name": "stdout",
     "output_type": "stream",
     "text": [
      "Epoch: 0\n",
      "  Training loss:          25.230\n",
      "  Training accuracy:      0.218\n",
      "  Validation loss:        24.512\n",
      "  Validation accuracy:    0.351\n",
      "\n",
      "Epoch: 1\n",
      "  Training loss:          21.524\n",
      "  Training accuracy:      0.419\n",
      "  Validation loss:        21.039\n",
      "  Validation accuracy:    0.491\n",
      "\n",
      "Epoch: 2\n",
      "  Training loss:          19.581\n",
      "  Training accuracy:      0.530\n",
      "  Validation loss:        19.721\n",
      "  Validation accuracy:    0.573\n",
      "\n",
      "Epoch: 3\n",
      "  Training loss:          18.611\n",
      "  Training accuracy:      0.595\n",
      "  Validation loss:        19.519\n",
      "  Validation accuracy:    0.620\n",
      "\n",
      "Epoch: 4\n",
      "  Training loss:          18.391\n",
      "  Training accuracy:      0.633\n",
      "  Validation loss:        19.655\n",
      "  Validation accuracy:    0.644\n",
      "\n",
      "Epoch: 5\n",
      "  Training loss:          18.403\n",
      "  Training accuracy:      0.662\n",
      "  Validation loss:        19.669\n",
      "  Validation accuracy:    0.669\n",
      "\n",
      "Epoch: 6\n",
      "  Training loss:          18.406\n",
      "  Training accuracy:      0.688\n",
      "  Validation loss:        19.795\n",
      "  Validation accuracy:    0.699\n",
      "\n",
      "Epoch: 7\n",
      "  Training loss:          18.375\n",
      "  Training accuracy:      0.706\n",
      "  Validation loss:        19.797\n",
      "  Validation accuracy:    0.717\n",
      "\n",
      "Epoch: 8\n",
      "  Training loss:          18.371\n",
      "  Training accuracy:      0.727\n",
      "  Validation loss:        19.928\n",
      "  Validation accuracy:    0.733\n",
      "\n",
      "Epoch: 9\n",
      "  Training loss:          18.333\n",
      "  Training accuracy:      0.747\n",
      "  Validation loss:        19.896\n",
      "  Validation accuracy:    0.752\n",
      "\n",
      "Epoch: 10\n",
      "  Training loss:          18.367\n",
      "  Training accuracy:      0.755\n",
      "  Validation loss:        19.967\n",
      "  Validation accuracy:    0.768\n",
      "\n",
      "Epoch: 11\n",
      "  Training loss:          18.307\n",
      "  Training accuracy:      0.771\n",
      "  Validation loss:        19.919\n",
      "  Validation accuracy:    0.781\n",
      "\n",
      "Epoch: 12\n",
      "  Training loss:          18.307\n",
      "  Training accuracy:      0.783\n",
      "  Validation loss:        20.042\n",
      "  Validation accuracy:    0.784\n",
      "\n",
      "Epoch: 13\n",
      "  Training loss:          18.297\n",
      "  Training accuracy:      0.789\n",
      "  Validation loss:        20.026\n",
      "  Validation accuracy:    0.796\n",
      "\n",
      "Epoch: 14\n",
      "  Training loss:          18.351\n",
      "  Training accuracy:      0.797\n",
      "  Validation loss:        20.048\n",
      "  Validation accuracy:    0.793\n",
      "\n",
      "Epoch: 15\n",
      "  Training loss:          18.396\n",
      "  Training accuracy:      0.804\n",
      "  Validation loss:        20.142\n",
      "  Validation accuracy:    0.803\n",
      "\n",
      "Epoch: 16\n",
      "  Training loss:          18.381\n",
      "  Training accuracy:      0.810\n",
      "  Validation loss:        20.348\n",
      "  Validation accuracy:    0.814\n",
      "\n",
      "Epoch: 17\n",
      "  Training loss:          18.522\n",
      "  Training accuracy:      0.813\n",
      "  Validation loss:        20.452\n",
      "  Validation accuracy:    0.815\n",
      "\n",
      "Epoch: 18\n",
      "  Training loss:          18.545\n",
      "  Training accuracy:      0.820\n",
      "  Validation loss:        20.431\n",
      "  Validation accuracy:    0.824\n",
      "\n",
      "Epoch: 19\n",
      "  Training loss:          18.619\n",
      "  Training accuracy:      0.823\n",
      "  Validation loss:        20.459\n",
      "  Validation accuracy:    0.823\n",
      "\n"
     ]
    }
   ],
   "source": [
    "model.run()"
   ]
  },
  {
   "cell_type": "code",
   "execution_count": 19,
   "id": "4ec9ccf4-7823-43b3-a5bb-f155994cd5eb",
   "metadata": {},
   "outputs": [
    {
     "data": {
      "text/plain": [
       "[<matplotlib.lines.Line2D at 0x79db553fca40>]"
      ]
     },
     "execution_count": 19,
     "metadata": {},
     "output_type": "execute_result"
    },
    {
     "data": {
      "application/vnd.jupyter.widget-view+json": {
       "model_id": "29177d6043ca43daa29fda7d718b53f5",
       "version_major": 2,
       "version_minor": 0
      },
      "image/png": "[encoded data removed]",
      "text/html": [
       "\n",
       "            <div style=\"display: inline-block;\">\n",
       "                <div class=\"jupyter-widgets widget-label\" style=\"text-align: center;\">\n",
       "                    Figure\n",
       "                </div>\n",
       "                <img src='data:image/png;base64,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' width=640.0/>\n",
       "            </div>\n",
       "        "
      ],
      "text/plain": [
       "Canvas(toolbar=Toolbar(toolitems=[('Home', 'Reset original view', 'home', 'home'), ('Back', 'Back to previous …"
      ]
     },
     "metadata": {},
     "output_type": "display_data"
    }
   ],
   "source": [
    "from matplotlib import pyplot as plt\n",
    "from matplotlib.pyplot import subplots\n",
    "fig, axs = subplots(2, sharex='col')\n",
    "x = np.arange(epochs)\n",
    "y1 = model.training_acc\n",
    "y2 = model.training_loss\n",
    "y3 = model.val_acc\n",
    "y4 = model.val_loss\n",
    "axs[0].plot(x,y1,'b-')\n",
    "axs[1].plot(x,y2,'b-')\n",
    "axs[0].plot(x,y3,'r-')\n",
    "axs[1].plot(x,y4,'r-')"
   ]
  },
  {
   "cell_type": "code",
   "execution_count": 15,
   "id": "c58ddf28-dd5d-4711-8605-297c74362406",
   "metadata": {},
   "outputs": [],
   "source": [
    "layer1 = model.layers[0]\n",
    "layer2 = model.layers[1]\n",
    "layer3 = model.layers[2]"
   ]
  },
  {
   "cell_type": "code",
   "execution_count": 16,
   "id": "b6ebc82c-30cd-4d6f-af80-a69e10573969",
   "metadata": {},
   "outputs": [
    {
     "data": {
      "text/plain": [
       "((784, 200), (200, 50), (50, 10))"
      ]
     },
     "execution_count": 16,
     "metadata": {},
     "output_type": "execute_result"
    }
   ],
   "source": [
    "layer1.weights.shape,layer2.weights.shape, layer3.weights.shape\n"
   ]
  },
  {
   "cell_type": "code",
   "execution_count": 17,
   "id": "297aba0a-ae1b-4c11-8708-35d44a9f7f74",
   "metadata": {},
   "outputs": [],
   "source": [
    "U1,S1,V1 = np.linalg.svd(layer1.weights)\n",
    "U2, S2, V2 = np.linalg.svd(layer2.weights)\n",
    "U3, S3, V3 = np.linalg.svd(layer3.weights)"
   ]
  },
  {
   "cell_type": "code",
   "execution_count": 18,
   "id": "67cf98cc-ea80-4147-ad34-0cca03d9c9ea",
   "metadata": {},
   "outputs": [
    {
     "data": {
      "text/plain": [
       "(array([2.93967529, 2.75873632, 2.66213595, 2.54752755, 2.44603926,\n",
       "        2.42064022, 2.40136518, 2.37236114, 2.34388857, 2.32633732,\n",
       "        2.31103743, 2.29682584, 2.28483343, 2.24980024, 2.23013101,\n",
       "        2.22106728, 2.21723187, 2.18684446, 2.17524785, 2.16392214,\n",
       "        2.14816955, 2.14312736, 2.12930632, 2.11995963, 2.10824738,\n",
       "        2.10304105, 2.09794341, 2.08861337, 2.07941174, 2.06732867,\n",
       "        2.06302767, 2.04413804, 2.03588166, 2.03181125, 2.0180624 ,\n",
       "        2.01085162, 2.00337081, 1.99494229, 1.98470702, 1.9755784 ,\n",
       "        1.96894838, 1.96613956, 1.96246351, 1.94846978, 1.93625534,\n",
       "        1.92548174, 1.92227952, 1.91979651, 1.90753181, 1.89756258,\n",
       "        1.89160397, 1.88447395, 1.87817877, 1.8769453 , 1.87146413,\n",
       "        1.8559019 , 1.84942286, 1.83776151, 1.82865945, 1.81781243,\n",
       "        1.80773076, 1.80267112, 1.79671709, 1.78935462, 1.78533955,\n",
       "        1.78486   , 1.77545366, 1.76971202, 1.7651766 , 1.75411013,\n",
       "        1.74422325, 1.73629567, 1.73374315, 1.72531509, 1.72218106,\n",
       "        1.70865598, 1.70740088, 1.69984691, 1.69548567, 1.69107272,\n",
       "        1.67751111, 1.67234546, 1.66773612, 1.66265474, 1.65938354,\n",
       "        1.64747425, 1.63871565, 1.62674453, 1.62117323, 1.61658952,\n",
       "        1.60909437, 1.59764771, 1.59232512, 1.58283369, 1.57594748,\n",
       "        1.57361122, 1.56358976, 1.55862959, 1.55457405, 1.55118088,\n",
       "        1.53915306, 1.535918  , 1.53238638, 1.52364125, 1.51319824,\n",
       "        1.50976986, 1.50236355, 1.49640204, 1.48333628, 1.47950581,\n",
       "        1.4678958 , 1.46309012, 1.45673384, 1.4550195 , 1.45219309,\n",
       "        1.45164461, 1.43874913, 1.43039476, 1.42265704, 1.41139507,\n",
       "        1.40463145, 1.40151671, 1.39683219, 1.38752975, 1.38124588,\n",
       "        1.37758542, 1.36485899, 1.35866754, 1.35578474, 1.35024671,\n",
       "        1.33964632, 1.33718454, 1.32594036, 1.32293737, 1.31475969,\n",
       "        1.31248811, 1.29974818, 1.29875038, 1.29153791, 1.27844696,\n",
       "        1.2781694 , 1.27016979, 1.26691619, 1.25495097, 1.25176159,\n",
       "        1.25029411, 1.23830267, 1.2301884 , 1.22178444, 1.21616457,\n",
       "        1.21390169, 1.20292226, 1.19557069, 1.19148372, 1.18512106,\n",
       "        1.18057499, 1.17509367, 1.16991081, 1.16902166, 1.16115596,\n",
       "        1.1509958 , 1.14594673, 1.14028455, 1.13601863, 1.12064815,\n",
       "        1.10917792, 1.10372842, 1.09934059, 1.09462027, 1.07900619,\n",
       "        1.07241317, 1.06179588, 1.05270891, 1.04766775, 1.03972295,\n",
       "        1.03690657, 1.0341757 , 1.01960517, 1.01662338, 1.012186  ,\n",
       "        1.00122541, 0.98885586, 0.98784437, 0.97528201, 0.9689244 ,\n",
       "        0.96681509, 0.96061049, 0.94824895, 0.93512067, 0.92269736,\n",
       "        0.91749208, 0.91292564, 0.90157929, 0.88030178, 0.87486324,\n",
       "        0.85675452, 0.8442627 , 0.83162975, 0.81820121, 0.80923295]),\n",
       " array([2.00022896, 1.92227917, 1.84414396, 1.80557298, 1.7858007 ,\n",
       "        1.67811215, 1.59710565, 1.47116789, 1.37143247, 1.22663962,\n",
       "        0.92590453, 0.8693775 , 0.84133866, 0.8332256 , 0.79670104,\n",
       "        0.77298141, 0.7703068 , 0.7350878 , 0.72913075, 0.71276473,\n",
       "        0.69283874, 0.67779109, 0.66570653, 0.65382557, 0.65124083,\n",
       "        0.63486271, 0.63274087, 0.60562647, 0.60503327, 0.59275438,\n",
       "        0.58411942, 0.57663859, 0.56362804, 0.55472492, 0.53348677,\n",
       "        0.50796812, 0.50046258, 0.49010857, 0.48945841, 0.47720913,\n",
       "        0.4649388 , 0.4486757 , 0.442275  , 0.43200156, 0.41490774,\n",
       "        0.40185417, 0.38520516, 0.38020204, 0.35952721, 0.3419738 ]),\n",
       " array([1.26826831, 1.18713603, 1.14488151, 1.11761724, 1.07749305,\n",
       "        1.05775243, 1.00229407, 0.96871413, 0.93447168, 0.81918557]))"
      ]
     },
     "execution_count": 18,
     "metadata": {},
     "output_type": "execute_result"
    }
   ],
   "source": [
    "S1,S2,S3"
   ]
  },
  {
   "cell_type": "code",
   "execution_count": null,
   "id": "9212bee2-cf6c-434c-8a28-005ac0e31138",
   "metadata": {},
   "outputs": [],
   "source": []
  }
 ],
 "metadata": {
  "kernelspec": {
   "display_name": "Python 3 (ipykernel)",
   "language": "python",
   "name": "python3"
  },
  "language_info": {
   "codemirror_mode": {
    "name": "ipython",
    "version": 3
   },
   "file_extension": ".py",
   "mimetype": "text/x-python",
   "name": "python",
   "nbconvert_exporter": "python",
   "pygments_lexer": "ipython3",
   "version": "3.12.1"
  }
 },
 "nbformat": 4,
 "nbformat_minor": 5
}
