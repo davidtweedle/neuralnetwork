{
 "cells": [
  {
   "cell_type": "code",
   "execution_count": 1,
   "id": "d7656a8c-5b79-4472-9b75-4df85a6e8245",
   "metadata": {
    "editable": true,
    "slideshow": {
     "slide_type": "slide"
    },
    "tags": []
   },
   "outputs": [],
   "source": [
    "import requests\n",
    "import os\n",
    "import numpy as np\n",
    "import matplotlib\n",
    "from genericdlmodel import Model, Layer, FinalLayer, Activation\n",
    "%matplotlib widget"
   ]
  },
  {
   "cell_type": "code",
   "execution_count": 2,
   "id": "fbec4391-3818-472e-9c82-667f04f70ce4",
   "metadata": {
    "editable": true,
    "slideshow": {
     "slide_type": "slide"
    },
    "tags": []
   },
   "outputs": [],
   "source": [
    "headers = {\n",
    "    \"User-Agent\": \"Mozilla/5.0 (X11; Linux x86_64; rv:10.0) Gecko/20100101 Firefox/10.0\"\n",
    "}\n",
    "request_opts = {\n",
    "    \"headers\": headers,\n",
    "    \"params\": {\"raw\":\"true\"}\n",
    "}"
   ]
  },
  {
   "cell_type": "code",
   "execution_count": 3,
   "id": "8022d8bf-ff25-4471-82f4-aa5c295f8cc8",
   "metadata": {
    "editable": true,
    "slideshow": {
     "slide_type": "slide"
    },
    "tags": []
   },
   "outputs": [],
   "source": [
    "data_dir = \"../data\"\n",
    "os.makedirs(data_dir, exist_ok=True)\n",
    "\n",
    "base_url = \"https://storage.googleapis.com/tensorflow/tf-keras-datasets/\"\n",
    "fname = \"mnist.npz\"\n",
    "fpath = os.path.join(data_dir, fname)\n",
    "if not os.path.exists(fpath):\n",
    "    print('Downloading file: ' + fname)\n",
    "    resp = requests.get(base_url + fname, stream = True, **request_opts)\n",
    "    resp.raise_for_status()\n",
    "    with open(fpath, \"wb\") as fh:\n",
    "        for chunk in resp.iter_content(chunk_size=128):\n",
    "            fh.write(chunk)"
   ]
  },
  {
   "cell_type": "code",
   "execution_count": 4,
   "id": "abd55720-770a-4ccc-9ac1-5978dde12f04",
   "metadata": {
    "editable": true,
    "slideshow": {
     "slide_type": "slide"
    },
    "tags": []
   },
   "outputs": [],
   "source": [
    "data_file = np.load(fpath)\n",
    "x_train = data_file[\"x_train\"]\n",
    "x_test = data_file[\"x_test\"]\n",
    "y_train = data_file[\"y_train\"]\n",
    "y_test = data_file[\"y_test\"]\n",
    "data_file.close()"
   ]
  },
  {
   "cell_type": "code",
   "execution_count": 5,
   "id": "01094486-f37e-434a-8526-be208beff2c2",
   "metadata": {
    "editable": true,
    "slideshow": {
     "slide_type": "slide"
    },
    "tags": []
   },
   "outputs": [],
   "source": [
    "x_train = x_train.reshape(len(x_train), 28 * 28)\n",
    "x_test = x_test.reshape(len(x_test), 28 * 28)"
   ]
  },
  {
   "cell_type": "code",
   "execution_count": 6,
   "id": "329ae257-e420-4777-84cb-b73a259bc935",
   "metadata": {
    "editable": true,
    "slideshow": {
     "slide_type": "slide"
    },
    "tags": []
   },
   "outputs": [],
   "source": [
    "sample_size = int(len(x_train))\n",
    "test_split = 5 * sample_size // 6\n",
    "seed = 1234\n",
    "rng = np.random.default_rng(seed=seed)\n",
    "index = rng.choice(len(x_train), sample_size)\n",
    "train_sample_X = x_train[index[:test_split]]\n",
    "val_sample_X = x_train[index[test_split:]]\n",
    "train_sample_y = y_train[index[:test_split]]\n",
    "val_sample_y = y_train[index[test_split:]]"
   ]
  },
  {
   "cell_type": "code",
   "execution_count": 7,
   "id": "6edd03a4-e4c0-45f1-af03-9d7054cadd61",
   "metadata": {
    "editable": true,
    "slideshow": {
     "slide_type": "slide"
    },
    "tags": []
   },
   "outputs": [],
   "source": [
    "train_sample_X = train_sample_X * 1.0 / 255\n",
    "val_sample_X = val_sample_X * 1.0 / 255\n",
    "test_sample_X = x_test * 1.0 / 255"
   ]
  },
  {
   "cell_type": "code",
   "execution_count": 8,
   "id": "6f9c6d69-d1e0-47d7-ba41-66ed7e66f8ca",
   "metadata": {
    "editable": true,
    "slideshow": {
     "slide_type": "slide"
    },
    "tags": []
   },
   "outputs": [],
   "source": [
    "def one_hot_encoding(labels, dim=10):\n",
    "    one_hot_labels = labels[..., None] == np.arange(dim)[None]\n",
    "    return one_hot_labels.astype(np.float64)"
   ]
  },
  {
   "cell_type": "code",
   "execution_count": 9,
   "id": "1b95016d-10ba-4c31-a0cb-c9076a49d0ca",
   "metadata": {
    "editable": true,
    "slideshow": {
     "slide_type": "slide"
    },
    "tags": []
   },
   "outputs": [],
   "source": [
    "train_sample_labels = one_hot_encoding(train_sample_y)\n",
    "val_sample_labels = one_hot_encoding(val_sample_y)\n",
    "test_sample_labels = one_hot_encoding(y_test)"
   ]
  },
  {
   "cell_type": "code",
   "execution_count": 10,
   "id": "47d884f4-0928-4d46-a89b-8e3a8c715c70",
   "metadata": {
    "editable": true,
    "slideshow": {
     "slide_type": "slide"
    },
    "tags": []
   },
   "outputs": [],
   "source": [
    "learning_rate = 0.1\n",
    "epochs = 20\n",
    "pixels_per_image = 28 * 28\n",
    "num_labels = 10\n",
    "batch_size = 100\n",
    "dropout = 0.45\n",
    "hidden_layer_sizes = [200,50]"
   ]
  },
  {
   "cell_type": "code",
   "execution_count": 11,
   "id": "66fadb8c-7d00-4ed2-8125-e168a9535d4f",
   "metadata": {
    "editable": true,
    "slideshow": {
     "slide_type": "slide"
    },
    "tags": []
   },
   "outputs": [],
   "source": [
    "model = Model(rng=rng,\n",
    "              training_data_X=train_sample_X,\n",
    "              training_data_y=train_sample_labels,\n",
    "              val_data_X=val_sample_X,\n",
    "              val_data_y=val_sample_labels,\n",
    "              objective_function='categoricalcrossentropy',\n",
    "              learning_rate=learning_rate,\n",
    "              epochs=epochs,\n",
    "              batch_size=batch_size\n",
    "             )"
   ]
  },
  {
   "cell_type": "code",
   "execution_count": 12,
   "id": "4ba18958-c946-46b2-8a3e-0fd3b1441ec5",
   "metadata": {
    "editable": true,
    "slideshow": {
     "slide_type": "slide"
    },
    "tags": []
   },
   "outputs": [],
   "source": [
    "for output_size in hidden_layer_sizes:\n",
    "    model.add_layer(output_size=output_size,\n",
    "                    func_name='relu',\n",
    "                    dropout=dropout\n",
    "                   )\n",
    "model.add_final_layer()"
   ]
  },
  {
   "cell_type": "code",
   "execution_count": 13,
   "id": "8718eb6c-cba0-43c1-b8d1-4e765137298b",
   "metadata": {
    "editable": true,
    "slideshow": {
     "slide_type": "slide"
    },
    "tags": []
   },
   "outputs": [
    {
     "name": "stdout",
     "output_type": "stream",
     "text": [
      "Epoch: 0\n",
      "  Training loss:          21.409\n",
      "  Training accuracy:      0.340\n",
      "  Validation loss:        17.978\n",
      "  Validation accuracy:    0.475\n",
      "\n",
      "Epoch: 1\n",
      "  Training loss:          19.083\n",
      "  Training accuracy:      0.531\n",
      "  Validation loss:        16.539\n",
      "  Validation accuracy:    0.586\n",
      "\n",
      "Epoch: 2\n",
      "  Training loss:          18.714\n",
      "  Training accuracy:      0.617\n",
      "  Validation loss:        16.724\n",
      "  Validation accuracy:    0.649\n",
      "\n",
      "Epoch: 3\n",
      "  Training loss:          18.789\n",
      "  Training accuracy:      0.665\n",
      "  Validation loss:        16.887\n",
      "  Validation accuracy:    0.682\n",
      "\n",
      "Epoch: 4\n",
      "  Training loss:          18.855\n",
      "  Training accuracy:      0.704\n",
      "  Validation loss:        16.624\n",
      "  Validation accuracy:    0.714\n",
      "\n",
      "Epoch: 5\n",
      "  Training loss:          19.031\n",
      "  Training accuracy:      0.726\n",
      "  Validation loss:        16.240\n",
      "  Validation accuracy:    0.731\n",
      "\n",
      "Epoch: 6\n",
      "  Training loss:          19.275\n",
      "  Training accuracy:      0.748\n",
      "  Validation loss:        16.815\n",
      "  Validation accuracy:    0.753\n",
      "\n",
      "Epoch: 7\n",
      "  Training loss:          19.450\n",
      "  Training accuracy:      0.766\n",
      "  Validation loss:        17.435\n",
      "  Validation accuracy:    0.770\n",
      "\n",
      "Epoch: 8\n",
      "  Training loss:          19.646\n",
      "  Training accuracy:      0.776\n",
      "  Validation loss:        17.253\n",
      "  Validation accuracy:    0.774\n",
      "\n",
      "Epoch: 9\n",
      "  Training loss:          19.600\n",
      "  Training accuracy:      0.788\n",
      "  Validation loss:        16.465\n",
      "  Validation accuracy:    0.790\n",
      "\n",
      "Epoch: 10\n",
      "  Training loss:          19.767\n",
      "  Training accuracy:      0.795\n",
      "  Validation loss:        16.887\n",
      "  Validation accuracy:    0.800\n",
      "\n",
      "Epoch: 11\n",
      "  Training loss:          19.567\n",
      "  Training accuracy:      0.803\n",
      "  Validation loss:        16.675\n",
      "  Validation accuracy:    0.805\n",
      "\n",
      "Epoch: 12\n",
      "  Training loss:          19.843\n",
      "  Training accuracy:      0.810\n",
      "  Validation loss:        17.361\n",
      "  Validation accuracy:    0.811\n",
      "\n",
      "Epoch: 13\n",
      "  Training loss:          19.924\n",
      "  Training accuracy:      0.815\n",
      "  Validation loss:        16.744\n",
      "  Validation accuracy:    0.814\n",
      "\n",
      "Epoch: 14\n",
      "  Training loss:          19.999\n",
      "  Training accuracy:      0.820\n",
      "  Validation loss:        17.104\n",
      "  Validation accuracy:    0.812\n",
      "\n",
      "Epoch: 15\n",
      "  Training loss:          19.938\n",
      "  Training accuracy:      0.824\n",
      "  Validation loss:        17.118\n",
      "  Validation accuracy:    0.821\n",
      "\n",
      "Epoch: 16\n",
      "  Training loss:          20.033\n",
      "  Training accuracy:      0.825\n",
      "  Validation loss:        17.417\n",
      "  Validation accuracy:    0.827\n",
      "\n",
      "Epoch: 17\n",
      "  Training loss:          20.050\n",
      "  Training accuracy:      0.831\n",
      "  Validation loss:        16.249\n",
      "  Validation accuracy:    0.826\n",
      "\n",
      "Epoch: 18\n",
      "  Training loss:          20.044\n",
      "  Training accuracy:      0.836\n",
      "  Validation loss:        17.487\n",
      "  Validation accuracy:    0.832\n",
      "\n",
      "Epoch: 19\n",
      "  Training loss:          20.038\n",
      "  Training accuracy:      0.838\n",
      "  Validation loss:        17.619\n",
      "  Validation accuracy:    0.832\n",
      "\n"
     ]
    }
   ],
   "source": [
    "model.run()"
   ]
  },
  {
   "cell_type": "code",
   "execution_count": 14,
   "id": "4ec9ccf4-7823-43b3-a5bb-f155994cd5eb",
   "metadata": {},
   "outputs": [
    {
     "data": {
      "text/plain": [
       "[<matplotlib.lines.Line2D at 0x7cfe9f714d40>]"
      ]
     },
     "execution_count": 14,
     "metadata": {},
     "output_type": "execute_result"
    },
    {
     "data": {
      "application/vnd.jupyter.widget-view+json": {
       "model_id": "d90ae879607f404db9dba8275d72f884",
       "version_major": 2,
       "version_minor": 0
      },
      "image/png": "[encoded data removed]",
      "text/html": [
       "\n",
       "            <div style=\"display: inline-block;\">\n",
       "                <div class=\"jupyter-widgets widget-label\" style=\"text-align: center;\">\n",
       "                    Figure\n",
       "                </div>\n",
       "                <img src='data:image/png;base64,iVBORw0KGgoAAAANSUhEUgAAAoAAAAHgCAYAAAA10dzkAAAAOXRFWHRTb2Z0d2FyZQBNYXRwbG90bGliIHZlcnNpb24zLjguMiwgaHR0cHM6Ly9tYXRwbG90bGliLm9yZy8g+/7EAAAACXBIWXMAAA9hAAAPYQGoP6dpAABj7UlEQVR4nO3deXwTZeIG8Ce9CzQtpTct9yWigAVKkVORQ+QQD1BXDkEUi6vi+lNcgcVVusqKrIiCCqKyCuKCqAiIlUPklENAbkQoR0tLadL7SN7fHy9pmt5Hkklmnu/nM58kk5nJO03SefK+876jE0IIEBEREZFmeChdACIiIiJyLgZAIiIiIo1hACQiIiLSGAZAIiIiIo1hACQiIiLSGAZAIiIiIo1hACQiIiLSGAZAIiIiIo1hACQiIiLSGAZAIiIiIo1hACQiIiLSGAZAIiIiIo1hACQiIiLSGAZAIiIiIo1hACQiIiLSGAZAIiIiIo1hACQiIiLSGAZAIiIiIo1hACQiIiLSGAZAIiIiIo1hACQiIiLSGAZAIiIiIo1hACQiIiLSGAZAIiIiIo1hACQiIiLSGAZAIiIiIo1hACQiIiLSGAZAIiIiIo1hACQiIiLSGAZAIiIiIo1hACQiIiLSGAZAIiIiIo1hACQiIiLSGAZAIiIiIo1hACQiIiLSGAZAIiIiIo1hACQiIiLSGAZAIiIiIo1hACQiIiLSGAZAIiIiIo1hACQiIiLSGAZAIiIiIo1hACQiIiLSGAZAIiIiIo1hACQiIiLSGAZAIiIiIo1hACQiIiLSGAZAIiIiIo1hACQiIiLSGAZAIiIiIo1hACQiIiLSGAZAIiIiIo1hACQiIiLSGAZAIiIiIo1hACQiIiLSGAZAIiIiIo3xUroA7sxsNuPy5csICAiATqdTujhERERUA0IIZGVlISoqCh4e2qwLYwCsh8uXLyMmJkbpYhAREVEdJCcnIzo6WuliKIIBsB4CAgIAyA+QXq9XuDRERERUE0ajETExMSXHcS1iAKwHS7OvXq9nACQiInIzWj59S5sN30REREQaxgBIREREpDEMgEREREQaw3MAiYiIqM6EAAoLgby8yqfc3Lo//9RTwOOPK72X6sMASEREpGEmE2AwAJmZNZuuX7d9nJsLmM2OK9/Fi47btpYxABIREbm5/HwZzDIy5G3Z+1UFOqPRuh0vFCEYGWiCazZTMDLQscy8JriGxrgOLxQDAAR0ENBBBwA6HaDTQacD4FHq/o1b3Y15Hjee13lY5+t0Oug8btz30CEPTwN42nl/TI1gACQiInI2k0mmr4wMICurZFZWFmDM0sFolLVylvtGI2DI0sFokPczjTpk3VjGYNQhv0BuVsj4VXILAA2QWxLYmuMabrsR6MqGuSa4Bj2y7LN/4sYEAKb6baqhR0Z9S0MVYAAkIiLNEgIoKACysyufcnLkOW5FRUBxsby1TKaCYnhnX4dPdgZ8sjPgl5sB39wMNMi9hgb5GfDPz0DD/Aw0LMxAQGEGAoquIaAoA3pTZrmyeAIIujEpSqcDgoKAJk0qn4KDrbc+PvIPKW4kvoruV/VcdfebNXPKbmsNAyAREbkVyzlrGRnWyWi0hrWqwlxF4c5UpoZKDwOa4QJikIwYJKMpLqEJriESGSU1Z8E37gfBUK99MSIAWQgoqbHTQUCnAzw8AA+dkLcV3dcBujL3daXr/SwBCgD8/CoPcBVNQUGAp2e99otcHwMgEREporDQeq5aRVNlz2Vm2uab2vBHLqJxETeVCniWqZlO3gaI2jeD5vkGIr9BMPIbBKOgQTAKGgWjsFETFAUEo0gfjOKAYJgCg2EOCoa5cROIxsEQQY3h5e8NPz+gcWOZyYKCAG/vuu0bUW0wABIRUZ0JIXuBZlwTyLhaDGNqHoypechKy0d2Wh5yM/KRl5GHbIMJGVnecjJ64ZrRG4ZcLxTBG0XwRjHK3zfBE0Dll+pq1EiGpsaNgcBAILBBEZp5XkK0SEaUKRnhBRcQkpeMxjnJCDQmo9H1ZPhmXatiZ0rdDw4GYmLkFB0NhIZaa87KTo0bw9/LC/52+6sSOZ6qAuCiRYswb948pKSkoHPnzli4cCF69OhR6fILFizA+++/jwsXLiAkJAT3338/EhMT4efn58RSExE5kRCyp0FaGpCeLm/T0mC+dh351/OQfz0PBYY8FBrzUZyVB1N2Hsy5+RC5eUB+PjwK8uBZmAev4nx4F+fBx5wPf+QhCnmIgf3HAjF5eEF4eUN4eQNeXtB5e0Pn4wUPH2/ofOQ8mL2A0+lASkrNqgYbNbKGO8vUrJlt4GvY0O77QuRKVBMAV61ahenTp2Px4sWIi4vDggULMHjwYJw8eRJhYWHllv/888/x0ksvYdmyZejVqxdOnTqFCRMmQKfTYf78+QrsARFRHZjNsl30RpBDejrE1TQUXEpDQXIaiq6kQVxNg0dGOnwMafDPToOXqbDcZjwANLgx2UOBhx+KvfxQ7O0Ps48fdF6e8EIxvMxF8DQXwUMUw6O4CDAVQ2fpXVEBT3MxUFgMFObV7IV9fMqHu7IhLzBQdnQg0jCdEHU9k8K1xMXFoXv37nj33XcBAGazGTExMXj66afx0ksvlVt+2rRpOH78OJKSkkrmPf/889izZw927NhRo9c0Go0IDAyEwWCAXq+3z44QkfZYxv8w3Bjjo2TcD/nYnGlEzmUDCi6nw5wig55XZhp8jenwz7sGD1H7mrccNEAaQkumDAQjFw1g9vaD8POHRwM/eDT0h1eAP7wD/OAT6A/fQD/4B/vDv7EfGob4o1GoPwJC/aAP90eDYD/oGvjLDge+vrK3Qm0IIf8OZbvaWu5XN69xYxnuQkNr/9qkOTx+q6QGsLCwEPv378eMGTNK5nl4eGDgwIHYtWtXhev06tULK1aswN69e9GjRw/88ccf+P777/Hoo486q9hEpBYFBcCff8om1VLBraIwV/axMBqhy8mpcvMeAAJuTJW5jiCbQJeGUBi8QpDXKBRFQaEwBYdCFxYK76hQ+EWHICiqAUJCZF5qEQLE3ji9TbEOCDqdbM71UsVhicjlqeKblp6eDpPJhPDwcJv54eHhOHHiRIXrPPzww0hPT0fv3r0hhEBxcTGefPJJvPzyy5W+TkFBAQoKCkoeG0sPn05E6paVBZw9a53OnLHeJifXuVtq6YbIfPjCCD0MCIQR+pLJgEBk6fTIb9AE+QGhKG4cCoSGwiM8FD5NQ9EgpgmaRHgjJAQICQFib/RXaGCv9lwiUh1VBMC62Lp1K+bOnYv33nsPcXFxOHPmDJ555hn885//xMyZMytcJzExEXPmzHFySYnIKYQArl2zDXalw97Vq1WuXujdEJn+ETBCjwxTINIL9bhWpK800JV+nOcdiMDoAITF+CI6GiVT06bytns0EB7OodmIyH5UcQ5gYWEhGjRogK+++gqjRo0qmT9+/HhkZmZi3bp15dbp06cPevbsiXnz5pXMW7FiBaZMmYLs7Gx4VHAOSUU1gDExMZo+h4DIrZjNwOXL5UKe+Yy875FVda1+hkcTnBZtcEa0xlm0xhm0wVnI+6kIR0VDljRsCJtQV3Zq2lTW2rFPApHz8BxAldQA+vj4IDY2FklJSSUB0Gw2IykpCdOmTatwndzc3HIhz/PGz+vKMrGvry98fX3tV3Aicpy8PODwYeT9cgBZW/fD87cD0F8+Du/i/HKLlv5PkIzoklBXOuCdRWsYzEEly+n1QFiYrJnrFSbPpYuKKh/w9HqGOyJyPaoIgAAwffp0jB8/Ht26dUOPHj2wYMEC5OTkYOLEiQCAcePGoWnTpkhMTAQADB8+HPPnz0fXrl1LmoBnzpyJ4cOHlwRBInIPIjsH6Um/IWPzfph/PQD9mf2IyDgGT2GCP2AzQG8RvPAnWpQLeH96tkFOWEvow/0RFoaSqVs4cHepx+HhMuxxuFAicmeqCYBjxoxBWloaZs2ahZSUFHTp0gUbN24s6Rhy4cIFmxq/V155BTqdDq+88gouXbqE0NBQDB8+HK+//rpSu0BE1SguBv48koWUjYdQsHM//I4dQOSV/WiedwKhMCO0zPJXEYr9iMWpRrG43vI2FN3cGT5tmiMkwgthYcCt4cDAG8EuKIijhxCRdqjiHECl8BwCIsfIzQVOnQLO7DfAuO0gPH/bjybnD6CtYT/a4hQ8UP7f1mVE4mSD25AaHYuCTrFo0Ps2NO/VFO076BAYqMBOEJHL4vFbRTWAROResrOBc6eLkXwsC5dPGJF21ojsMykIOHMQLa4fQCz2436cqXDdFO9oXAy7DdntYuEVF4vQwbehRXwkBvAUXSKiGmEAJKLaEQLIz7cd1Dgrq9zAx+ZMI7IvG5GbYkRBmhHF1+VyXrlG+BUa0chsxC3IxS3VvFx6o+a43jIWouttCLxDhr2IiDBEOGVniYjUiQGQiCpnNAL79gG7d8vp11/l1S4quW5raR4A9Dem6hR6+KLQT4/igMYo6nAr/PvEolHfWKBrV4SEhCCkvvtBREQ2GACJSDKbgRMnrGFv1y7g99+rvMKFEQE2AxpnlXmc46GHV7AefmF6NGqqR1CMHk1a6hHeVo+oDgHQN9UDAQHw8fWFjxN3lYhI6xgAibQqIwPYs8ca+PbskdenLeOiV3PsKO6JXYjHHsThIqJhhB7ZaAQBD0RGAq1aAS1byttWrYDWN+5HRbFnLRGRK2IAJNKC4mLg6FHb2r1Tp8otlu/hj1913bHDFI/d6Ik9iENKcSR0OuCWW4D4eOCRm62Br0ULXm+WiMgdMQASqVFqqm3Y27dPjq1Sxp8+bbGtUIa93eiJI+ZbYIIXAgKAnj2BJ3oBvXoBcXHgUCpERCrCAEikBunpwKZNwMaNwI4dwJ9/llsk1ysA+3Rx2FZkrd3LKGwCQNbo9eoFTLkR+Dp1AnhBHCIi9WIAJHJHZrPskbthg5z27rXprGGGDn/6d8SWgnjsNMvavRPFHWCGJ3x8gNhYYOKNsNerFxDBMVWIiDSFAZDIXVhq+TZskLfp6TZPn/K/FWvyhiIJd2IvesCYJ9tsw8JkyJvQC7j9duC223gdWyIirWMAJHJVpWv5vv9ensdXqpYv11uPn3QD8XXhUGzEEFzKiwYgm28ful2Gvttvl827Op1SO0FERK6IAZDIlVRTy3e6wa1YkzsU32Modhb1QjG8odcDgwYBd98NDBkCREYqVHYiInIbDIBESjKZbM/lq6iWz+MurC2QtXyXc5sCkEOyPH+3DH3x8YC3t1I7QERE7ogBkMjZLLV8338P/PBD+Vq+hp2xJnco1ouh2FUUj2J4o2FD4K67gKFD5RQTo1DZiYhIFRgAiRxJCOD0aTkW365dcly+w4dtavnyvPVI8hyENfmylu9KThQAoEMH4K83avl69wZ8fZXaCSIiUhsGQCJ7ysqSzbilA9+1a+UWO9NI1vJ9Z75Ry1fkDX9/4I47ZOAbOlReaYOIiMgRGACJ6qps7d6uXfJya2azzWImb1+ca9INP+X2xCZjPHaiF1KyZU+N1q2BqTdq+fr1A/z9ldgRIiLSGgZAopqqYe1eYWQz/BEWj6TcePz3j3j8WtQFRSk+AGQzbr9+wEs3Ql/bts7eCSIiIgZAoorVsHYPvr4o7toN58J6Iik3HkuPxePXy1HAFesirVpZO2/07w80bOjUPSEiIiqHAZDIoqAA+OorYOVKGfgqqN1Ds2YQ8fG43FzW8H12uAu27vRBcbF1ET8/GfQsoa9NGw7ETERErkVVAXDRokWYN28eUlJS0LlzZyxcuBA9evSocNn+/ftj27Zt5ebffffdWL9+vaOLSq7kjz+AJUuAZctsh2Tx9QW6dQN69kTOrfHYWhCPtXuisHEjcGmV7SbatpWDMFtq+XguHxERuTLVBMBVq1Zh+vTpWLx4MeLi4rBgwQIMHjwYJ0+eRFhYWLnl16xZg8LCwpLH165dQ+fOnfHAAw84s9ikFJNJjsP33ntyTD7LsCzR0cDjj0MMHoLDHl2wIckHGzYAO/8Dm1o+f39gwABrLV/r1srsBhERUV3ohCg1IJkbi4uLQ/fu3fHuu+8CAMxmM2JiYvD000/jpZdeqnb9BQsWYNasWbhy5Qoa1vAkLaPRiMDAQBgMBuj1+nqVn5wkJQVYuhT44APgwgXr/MGDgalTsTd0GJYs9cKGDcCVK7artm9vreXr25e1fERE7orHb5XUABYWFmL//v2YMWNGyTwPDw8MHDgQu3btqtE2li5dirFjx9Y4/JEbEQLYvl3W9q1ZY63KCw4GHnsMeOIJ7LnWBnPmyKuxWTRoIMflGzpUBr9WrZQpPhERkb2pIgCmp6fDZDIhPDzcZn54eDhOnDhR7fp79+7F0aNHsXTp0iqXKygoQEFBQcljo9FYtwKTcxgMwKefAosXA8eOWefHxwNTpwIPPIDdh/ww52lg40b5lKcn8PDDwKOPAn36yA4dREREaqOKAFhfS5cuxS233FJphxGLxMREzJkzx0mlojo7cAB4/33g88+B3Fw5r2FD4JFHZPDr0gW7dgFzRsnT/wAZ/B59FPj732WvXSIiIjXzULoA9hASEgJPT0+kpqbazE9NTUVERESV6+bk5GDlypWYNGlSta8zY8YMGAyGkik5Oble5SY7yssDPvkE6NkTiI0FPvpIhr+bbwbefRe4dAlYsgS78rpg8GCgVy8Z/jw9gYkTgZMngY8/ZvgjIiJtUEUNoI+PD2JjY5GUlIRRo0YBkJ1AkpKSMG3atCrXXb16NQoKCvCXv/yl2tfx9fWFr6+vPYpM9nL6tGziXb4cyMiQ87y9gfvuk7V9ffoAOh127gT+8Q9g82a5iKcnMH488PLL7MFLRETao4oACADTp0/H+PHj0a1bN/To0QMLFixATk4OJk6cCAAYN24cmjZtisTERJv1li5dilGjRqFJkyZKFJvqorgY+PZb2cxrSXQA0Lw58MQTsmPHjfNBf/lFBr8ff5SLeHlZgx87dRARkVapJgCOGTMGaWlpmDVrFlJSUtClSxds3LixpGPIhQsX4OFh2+J98uRJ7NixAz/88IMSRabaSksDPvxQ9ua9dEnO0+lkN92pU+WtpycAYMcOGfySkuRiXl7AhAky+LVsqUjpiYiIXIZqxgFUAscRcpKDB4F33gG++EJerg0AQkOBSZOAKVNsEt3PP8vg99NP8rGXlzzH7+WXgRYtnF5yIiJyQTx+q6gGkFSmqAhYuxZYuFBW51l06wY88wzwwAPyUm03bN8ug9+WLfKxt7cMfjNmMPgRERGVxQBIrqWiZl4vLxn4/vpXIC5ONvvesG2bDH5bt8rH3t7yFMAZM+QpgURERFQeAyC5hoMHZW3f559bm3nDwoAnn5QdO6KibBbfulUGv23b5GNvb2DyZOCll4BmzZxaciIiIrfDAEjKKSoCvv5ant9Xtpn3r38FHnzQppkXAA4fli3Alho/Hx9r8IuJcVrJiYiI3BoDIDlferq1mffiRTmvimZeAMjJAebMAebPB0wmGfwef1wGv+hoBfaBiIjIjTEAkvMcOiRr+8o28z7xhGzqLdPMa7F+PZCQAJw/Lx/ff78MgqzxIyIiqhsGQHKs4mJrM+/PP1vnx8bKttwKmnktLl+Wi3z1lXzcvDmwaBEwbJjji01ERKRmDIDkGJU1895/v2zm7dmzXDOvhckkL/Lx8stAVpYc23n6dGD2bKBhQyfuAxERkUoxAJJ95ecDL74ILFliO2jzk09W2cxrcfCgbBHet08+jouTm+rc2cHlJiIi0hAGQLKfS5eA0aOBvXvl49hYa29eP78qV83OljV8CxYAZjMQGAgkJsoLfdy4uhsRERHZCQMg2ceuXTL8paQAwcHAihXAkCGVNvOW9s03wLRpQHKyfDxmDPD220BkpIPLTEREpFEeSheAVGDpUqB/fxn+OnWS7bdDh1Yb/pKTgXvvBUaOlPdbtgQ2bABWrmT4IyIiciQGQKq7oiLg6aflSMyFhcB998mawFatqlzNZAL+8x+gY0fZQdjLS47nd/SorDQkIiIix2ITMNVNWpo8t89ySY5XXwX+/nfAo+rfFPv3y/P6DhyQj3v1AhYvBm65xbHFJSIiIisGQKq9Q4eAUaPkyMwBAfJ8vxEjqlzFaARmzgTefVd28ggKAt54Q1YeVpMZiYiIyM4YAKl2Vq0CJk4E8vKANm2AdetkW24lhJDNvE8/LTsJA8DDD8sreYSHO6fIREREZIt1L1QzJpMcmXnsWBn+Bg+Ww71UEf4uXJAdPEaPluGvdWtg0ybgv/9l+CMiIlISAyBVLzNTNvEmJsrHL7wgL9DbuHGFixcXyxq+jh2Bb78FvL3l6YFHjgCDBjmv2ERERFQxNgFT1U6ckNV4p07JwZyXLpVtuJUwGmXl4O7d8nHv3vJKHlVUFBIREZGTsQaQKvfdd/JabKdOATExwC+/VBn+CgrkuH67d8tOHh99BGzbxvBHRETkalQVABctWoQWLVrAz88PcXFx2Gu5JFklMjMzkZCQgMjISPj6+qJdu3b4/vvvnVRaFyYEMHeubPY1GoE+fYBffwVuu63SVcxmYNw44KefgEaNgKQkYNIk9vAlIiJyRappAl61ahWmT5+OxYsXIy4uDgsWLMDgwYNx8uRJhIWFlVu+sLAQd911F8LCwvDVV1+hadOmOH/+PIKCgpxfeFeSkyN7+a5eLR9PnSov0OvjU+kqQgDPPgt8+aU832/t2iqzIhERESlMJ4QQShfCHuLi4tC9e3e8++67AACz2YyYmBg8/fTTeOmll8otv3jxYsybNw8nTpyAt7d3nV7TaDQiMDAQBoMBer2+XuV3CefOyfH9Dh+WSW7RIuDxx6tdLTFRdhAGgC++kB2FiYiIXJXqjt91oIoGusLCQuzfvx8DBw4smefh4YGBAwdi165dFa7zzTffID4+HgkJCQgPD0enTp0wd+5cmEymSl+noKAARqPRZlKNLVuA7t1l+AsPl49rEP4+/tga/hYsYPgjIiJyB6oIgOnp6TCZTAgvM7hceHg4UlJSKlznjz/+wFdffQWTyYTvv/8eM2fOxFtvvYXXXnut0tdJTExEYGBgyRQTE2PX/VCEEMDChcBddwHXrgHdusnz/W6/vdpVv/vOmhFffBF45hkHl5WIiIjsQhUBsC7MZjPCwsLwwQcfIDY2FmPGjMHf//53LF68uNJ1ZsyYAYPBUDIlJyc7scQOUFAge2r89a9yoOe//AXYvh2Ijq521V275KWATSbZ+cMyRCARERG5PlV0AgkJCYGnpydSU1Nt5qempiIiIqLCdSIjI+Ht7Q1PT8+SeTfddBNSUlJQWFgInwo6Pfj6+sLX19e+hVfK5cvyEh179siuuvPmAc89B+h01a56/Dhwzz3ygiBDh8rhXmqwGhEREbkIVdQA+vj4IDY2FklJSSXzzGYzkpKSEB8fX+E6t99+O86cOQOz2Vwy79SpU4iMjKww/KnKr7/Kpt49e+TVPDZuBKZPr1GKu3RJDvSckQH06CE7C9exDw0REREpRBUBEACmT5+ODz/8EJ988gmOHz+OqVOnIicnBxMnTgQAjBs3DjNmzChZfurUqcjIyMAzzzyDU6dOYf369Zg7dy4SEhKU2gXnSE8Hhg8HrlwBbr4Z2LdPnv9XA5mZwJAhQHIy0K6dvBpcw4aOLS4RERHZnyqagAFgzJgxSEtLw6xZs5CSkoIuXbpg48aNJR1DLly4AI9SoxLHxMRg06ZNeO6553DrrbeiadOmeOaZZ/Diiy8qtQuOJwTwxBNASgpw003yRL6AgBqtmp8vrwh39CgQGQls2gSEhDi4vEREROQQqhkHUAluN47Q8uVykGcvL9n8W8PRmk0m2eFjzRpArwd+/hm49VbHFpWIiMhR3O747QCqaQKmapw7J3v7AsCrr9Y4/AkBTJsmw5+PD7BuHcMfERGRu2MA1AKTCXj0USArC+jdG/i//6vxqv/8J7B4sewf8t//Av37O66YRERE5BwMgFrw5pvAL7/I8/0+/RQoNfRNVT74AJg9W95/913g/vsdWEYiIiJyGgZAtTtwAJg1S95/5x2gZcsarfb118DUqfL+K68ATz3lmOIRERGR8zEAqllenry6R3GxHPR5/PgarbZjB/DQQ4DZLC8U8uqrDi4nERERORUDoJq9+KK8bEdEBLBkSY0Gej56VA4TmJ8vby3n/xEREZF6MACq1Q8/AAsXyvsff1yjQfsuXJADPWdmAvHxwMqVcsQYIiIiUhcGQDW6dg2YMEHeT0iQqa4aGRlysUuX5BjR330HNGjg2GISERGRMhgA1UYI4Mkn5aXeOnSQPYCrkZsL3HOPbC1u2lRe5SM42AllJSIiIkUwAKrNZ58BX30l225XrKi2Gq+4GBg7Vl4VLihIhr+YGOcUlYiIiJTBAKgmf/4pL9sBAP/4BxAbW+XilsrCb78F/Pzk7c03O7yUREREpDAGQLUwmYBx4+TVPnr1kj2AqzFrFrB0KeDhITt89O7thHISERGR4hgA1eLf/wZ+/hlo1Eg2A1fTffe994DXXpP3Fy8GRo50QhmJiIjIJTAAqsHBg8DMmfL+f/4DtGpV5eJr11pbiufMAR5/3MHlIyIiIpfCAOjuLFf7KCoCRo0CJk6scnGTCXj2Wev5f5bcSERERNrBAOjuZswAjh0DwsOBDz6o9rIdGzfKAZ+Dg4G33+ZVPoiIiLSIAdCdbd4sm3wBYNkyIDS02lUWL5a3EybInr9ERESkPQyA7iojw3q1j6lTgbvvrnaV8+eB9evl/SlTHFc0IiIicm0MgO5ICBn6Ll8G2rWTPYBr4KOP5Kp33AG0b+/gMhIREZHLUlUAXLRoEVq0aAE/Pz/ExcVh7969lS67fPly6HQ6m8nPXdpE//tf4Msva3y1D0D2EVm6VN5/4gkHl4+IiIhcmmoC4KpVqzB9+nTMnj0bBw4cQOfOnTF48GBcvXq10nX0ej2uXLlSMp0/f96JJa6j8+eBhAR5f9YsoHv3Gq327bfy8sBhYbKzMBEREWmXagLg/Pnz8fjjj2PixIno2LEjFi9ejAYNGmDZsmWVrqPT6RAREVEyhYeHO7HEdWAyAePHA0Yj0LOn7AFcQ5bOH5MmAT4+DiofERERuQVVBMDCwkLs378fAwcOLJnn4eGBgQMHYteuXZWul52djebNmyMmJgYjR47E77//7ozi1t38+cC2bUDDhrLpt5qrfVicOSM7DOt0HPSZiIiIVBIA09PTYTKZytXghYeHIyUlpcJ12rdvj2XLlmHdunVYsWIFzGYzevXqhYsXL1b6OgUFBTAajTaT0/z2G/D3v8v7CxYArVvXeNUPP5S3gwcDLVvav2hERETkXlQRAOsiPj4e48aNQ5cuXdCvXz+sWbMGoaGhWLJkSaXrJCYmIjAwsGSKiYlxTmHz84FHHpE9OUaMkO24NVRQIIcIBOSVP4iIiIhUEQBDQkLg6emJ1NRUm/mpqamIiIio0Ta8vb3RtWtXnDlzptJlZsyYAYPBUDIlJyfXq9w19vLLwO+/yx4cH35Yq8t3rFkDpKcDTZsCw4Y5sIxERETkNlQRAH18fBAbG4ukpKSSeWazGUlJSYiPj6/RNkwmE44cOYLIyMhKl/H19YVer7eZHC4pSV6zDZBVeWFhtVrd0vlj8uQanzJIREREKqeaSDB9+nSMHz8e3bp1Q48ePbBgwQLk5ORg4sSJAIBx48ahadOmSExMBAC8+uqr6NmzJ9q0aYPMzEzMmzcP58+fx+TJk5XcDVvXr8tev4AcvK+WVXjHjwPbtwMeHjIAEhEREQEqCoBjxoxBWloaZs2ahZSUFHTp0gUbN24s6Rhy4cIFeHhYKzyvX7+Oxx9/HCkpKWjcuDFiY2Oxc+dOdOzYUaldKO+pp4BLl4C2bYG33qr16pbTGYcPB6Kj7Vw2IiIicls6IYRQuhDuymg0IjAwEAaDwf7NwZ9/Ljt+eHoCO3cCPXrUavXcXHneX2YmsGEDMGSIfYtHRETkrhx6/HYTqjgHUHUuXJC1fwAwc2atwx8grxSXmQm0aAEMGmTX0hEREZGbYwB0RdOnAwYDEBdnHfuvlizNv1OmyHMAiYiIiCxUcw6gqixcKG8TE+vUdffQIWD3brnqY4/Zt2hERETk/hgAXVFkJPDVV3Ve3VL7N3o04OqXNyYiIiLnY+OgymRlycsEA3LkGCIiIqKyGABV5osvgOxsoF07YMAApUtDRERErogBUEWEsF7544knanXFOCIiItIQBkAV2bcPOHgQ8PW1XkCEiIiIqCwGQBWx1P498ADQpImyZSEiIiLXxQCoEpmZwMqV8v6TTypaFCIiInJxDIAq8dlnQF4e0KkT0KuX0qUhIiIiV8YAqAKlO388+SQ7fxAREVHVGABVYMcO4NgxoEED4C9/Ubo0RERE5OoYAFXAcuWPhx4CAgOVLQsRERG5PgZAN5eeDqxeLe+z8wcRERHVBAOgm1u+HCgsBGJjgW7dlC4NERERuQMGQDdmNgMffCDv87q/REREVFMMgG5syxbg9GkgIECe/0dERERUEwyAbswy9MujjwKNGilbFiIiInIfDIBuKiUF+PpreZ/Nv0RERFQbqgqAixYtQosWLeDn54e4uDjs3bu3RuutXLkSOp0Oo0aNcmwB7WjZMqC4GIiPB269VenSEBERkTtRTQBctWoVpk+fjtmzZ+PAgQPo3LkzBg8ejKtXr1a53p9//om//e1v6NOnj5NKWn8mk7XzB4d+ISIiotpSTQCcP38+Hn/8cUycOBEdO3bE4sWL0aBBAyxbtqzSdUwmEx555BHMmTMHrVq1cmJp62fTJuD8eaBxY+CBB5QuDREREbkbVQTAwsJC7N+/HwMHDiyZ5+HhgYEDB2LXrl2Vrvfqq68iLCwMkyZNckYx7cbS+WP8eMDfX9myEBERkfvxUroA9pCeng6TyYTw8HCb+eHh4Thx4kSF6+zYsQNLly7FoUOHavw6BQUFKCgoKHlsNBrrVN76SE4G1q+X99n5g4iIiOpCFTWAtZWVlYVHH30UH374IUJCQmq8XmJiIgIDA0ummJgYB5ayYh99JAeA7t8f6NDB6S9PREREKqCKGsCQkBB4enoiNTXVZn5qaioiIiLKLX/27Fn8+eefGD58eMk8s9kMAPDy8sLJkyfRunXrcuvNmDED06dPL3lsNBqdGgKLioAPP5T32fmDiIiI6koVAdDHxwexsbFISkoqGcrFbDYjKSkJ06ZNK7d8hw4dcOTIEZt5r7zyCrKysvCf//yn0lDn6+sLX19fu5e/pr77DrhyBQgNBe69V7FiEBERkZtTRQAEgOnTp2P8+PHo1q0bevTogQULFiAnJwcTJ04EAIwbNw5NmzZFYmIi/Pz80KlTJ5v1g4KCAKDcfFeyZIm8fewxwMdH2bIQERGR+1JNABwzZgzS0tIwa9YspKSkoEuXLti4cWNJx5ALFy7Aw8N9T3n84w85/AsATJmibFmIiIjIvemEEELpQrgro9GIwMBAGAwG6PV6h77WSy8Bb7wBDB4MbNzo0JciIiJSNWcev12V+1aJaUhhobz0G8ChX4iIiKj+GADdwNq1QFoaEBUF3HOP0qUhIiIid8cA6AYsV/6YPBnw9la2LEREROT+GABd3IkTwNatgIeHDIBERERE9cUA6OIsQ78MGwYocOERIiIiUiEGQBeWlwd88om8zyt/EBERkb0wALqw1auB69eB5s3l8C9ERERE9sAA6MIsnT+mTAE8PZUtCxEREakHA6CLOnwY2LUL8PKSl34jIiIishcGQBdl6fwxahQQEaFoUYiIiEhlGABdUHY28Nln8j47fxAREZG9MQC6oC++ALKygLZtgQEDlC4NERERqQ0DoAs6f16e+zdlihwAmoiIiMiedEIIoXQh3JXRaERgYCAMBgP0er1dt52SAvj7A4GBdt0sERGR5jny+O0uvJQuAFWMHT+IiIjIUdjASERERKQxDIBEREREGsMASERERKQxDIBEREREGsNOIPVg6UBtNBoVLgkRERHVlOW4reWBUBgA6yErKwsAEBMTo3BJiIiIqLaysrIQqNHx1jgOYD2YzWZcvnwZAQEB0Ol0dt220WhETEwMkpOTVT9GEfdVvbS0v9xX9dLS/mplX4UQyMrKQlRUFDw0esUF1gDWg4eHB6Kjox36Gnq9XtVfwtK4r+qlpf3lvqqXlvZXC/uq1Zo/C23GXiIiIiINYwAkIiIi0hgGQBfl6+uL2bNnw9fXV+miOBz3Vb20tL/cV/XS0v5qaV+1jp1AiIiIiDSGNYBEREREGsMASERERKQxDIBEREREGsMASERERKQxDIBEREREGsMASERERKQxDIBEREREGsMASERERKQxDIBEREREGsMASERERKQxDIBEREREGsMASERERKQxDIBEREREGsMASERERKQxDIBEREREGsMASERERKQxDIBEREREGsMASERERKQxDIBEREREGsMASERERKQxDIBEREREGsMASERERKQxDIBEREREGsMASERERKQxDIBEREREGuOldAHcmdlsxuXLlxEQEACdTqd0cYiIiKgGhBDIyspCVFQUPDy0WRfGAFgPly9fRkxMjNLFICIiojpITk5GdHS00sVQBANgPQQEBACQHyC9Xq9waYiIiKgmjEYjYmJiSo7jWsQAWA+WZl+9Xs8ASERE5Ga0fPqWNhu+iYiIiDSMAZCIiIhIYxgAiYiIiDSGAdAFmUzAli3AuXNKl4SIiIjUiAHQBU2ZAtxxB7BkidIlISIiIjViAHRBQ4fK25UrASGULQsRERGpDwOgCxo2DGjUCDh/Hti9W+nSEBERkdowALogf39g1Ch5f+VKRYtCREREKsQA6KLGjpW3X34pO4UQERER2QsDoIu66y6gcWMgJQXYtk3p0hAREZGaMAC6KB8f4P775X02AxMREZE9MQC6MEsz8FdfAYWFypaFiIiI1EO1ATAxMRHdu3dHQEAAwsLCMGrUKJw8edJmmQ8++AD9+/eHXq+HTqdDZmamMoWtRL9+QEQEcP06sHmz0qUhIiIitVBtANy2bRsSEhKwe/dubN68GUVFRRg0aBBycnJKlsnNzcWQIUPw8ssvK1jSynl6Ag8+KO+zGZiIiIjsRSeENoYaTktLQ1hYGLZt24a+ffvaPLd161YMGDAA169fR1BQUI23aTQaERgYCIPBAL1eb+cSS7t2Ab16yXEBU1OBBg0c8jJERESa4Yzjt6tTbQ1gWQaDAQAQHByscElqp2dPoHlzIDsb+P57pUtDREREaqCJAGg2m/Hss8/i9ttvR6dOneq8nYKCAhiNRpvJ0XQ6a2cQNgMTERGRPWgiACYkJODo0aNYWc8ElZiYiMDAwJIpJibGTiWsmiUAfvcd4ITMSURERCqn+gA4bdo0fPfdd9iyZQuio6Prta0ZM2bAYDCUTMnJyXYqZdU6dwY6dAAKCoB165zykkRERKRiqg2AQghMmzYNa9euxU8//YSWLVvWe5u+vr7Q6/U2kzOUbgb+4gunvCQRERGpmGoDYEJCAlasWIHPP/8cAQEBSElJQUpKCvLy8kqWSUlJwaFDh3DmzBkAwJEjR3Do0CFkZGQoVexKWQLg5s1AerqyZSEiIiL3ptoA+P7778NgMKB///6IjIwsmVatWlWyzOLFi9G1a1c8/vjjAIC+ffuia9eu+Oabb5QqdqXatwe6dgWKi4E1a5QuDREREbkzzYwD6AjOHkfozTeBF18E+vcHtmxx+MsRERGpEscBVHENoBqNGSNvt20DLl9WtixERETkvhgA3Ujz5vKqIEIAq1crXRoiIiJyVwyAboa9gYmIiKi+GADdzAMPAB4ewJ49wLlzSpeGiIiI3BEDoJuJiAAGDJD3eWk4IiIiqgsGQDfEawMTERFRfTAAuqHRowFvb+DwYeDYMaVLQ0RERO6GAdANBQcDgwfL+6wFJCIiotpiAHRTDz0kb1eulMPCEBEREdUUA6CbGjEC8PcHTp8GDh5UujRERETkThgA3VSjRsA998j7HBOQiIiIaoMB0I1ZmoFXrQLMZmXLQkRERO6DAdCNDR0KBAQAycnAzp1Kl4aIiIjcBQOgG/PzA+69V95nb2AiIiKqKQZAN2dpBl69GiguVrYsRERE5B4YAN3cnXcCTZoAV68CW7YoXRoiIiJyBwyAbs7bG7j/fnmfzcBERERUEwyAKmBpBl6zBigoULYsRERE5PoYAFWgd28gKgrIzAQ2bVK6NEREROTqVBsAExMT0b17dwQEBCAsLAyjRo3CyZMnbZbJz89HQkICmjRpgkaNGuG+++5DamqqQiWuO09PYMwYeZ/NwERERFQd1QbAbdu2ISEhAbt378bmzZtRVFSEQYMGIScnp2SZ5557Dt9++y1Wr16Nbdu24fLlyxg9erSCpa67sWPl7bp1QKldJCIiDTKb5SlB2dlAVpY8LuTlyXlFRYDJxOvIa51OCG18BNLS0hAWFoZt27ahb9++MBgMCA0Nxeeff477b/SiOHHiBG666Sbs2rULPXv2rHabRqMRgYGBMBgM0Ov1jt6FKgkBtGkD/PGHrAW01AgSEZHrMJmAlBTg/HngwgU5paYChYUymNnjtrBQvk5NeXhUPXl6Vr+MZdLp7P/cQw9ZKznsxZWO30rxUroAzmIwGAAAwcHBAID9+/ejqKgIAwcOLFmmQ4cOaNasWaUBsKCgAAWlelkYjUYHl7rmdDr5BZk7lwGQiNQrL08GqNRUeWu57+0NhITIYbFK3wYHAz4+zitfbq412JUOeZb7Fy/KoOZKzGbXvpxobKzSJVAnTQRAs9mMZ599Frfffjs6deoEAEhJSYGPjw+CgoJslg0PD0dKSkqF20lMTMScOXMcXdw6swTA77+XHULK7BoRkUsqKpJjmZYOdJb7ZR/X5Xd3QEDF4bBJk8rn+fuX344QQFqabaArG/LS06svj6cnEB0NNG8ONGsGRETIKzt5e8uwWtltVc9VdevhYQ15tZ1MpuqfF8J2XtnH9X3utttq/55T9TQRABMSEnD06FHs2LGjXtuZMWMGpk+fXvLYaDQiJiamvsWzm06dgI4dgWPHgK+/BiZMULpERKRVQgAGA3D5spxKB7qywa4moak0Pz8ZmiIigPBwORUVye1cuyan9HQgI0OWIytLTufO1fw1GjSwhsKAAFnOCxeA/Pzq1w0IsIa7srfNmslRGzw9a7fPRPam+gA4bdo0fPfdd9i+fTuio6NL5kdERKCwsBCZmZk2tYCpqamIiIiocFu+vr7w9fV1dJHrTKeT50rMnCmbgRkAicjeLIHKEuwuXwauXLF9bJmXl1fz7Xp6yiBnCXWWgFd6sszX6+X/u+qYTLI1pHQoLHu/onnFxbIpNzcXSE623aZOB0RGVhzsLPfZ+kLuQLUBUAiBp59+GmvXrsXWrVvRsmVLm+djY2Ph7e2NpKQk3HfffQCAkydP4sKFC4iPj1eiyHYxdqwMgD/+KJsqQkOVLhERuYusrPJhrqJwl5tb820GBckar8jIqkNdkyayqdKePD2tTbo1ZQm4pYOhwSDL2bw50LSpc88pJHIU1QbAhIQEfP7551i3bh0CAgJKzusLDAyEv78/AgMDMWnSJEyfPh3BwcHQ6/V4+umnER8fX6MewK6qTRugWzfg11+Br74Cpk5VukRE5KqysoBvvgFWrQK2bpWPayowUIa6qCjbqfS8yMiKz6VzZTqdrGHU64FWrZQuDZHjqDYAvv/++wCA/v3728z/+OOPMeFG2+jbb78NDw8P3HfffSgoKMDgwYPx3nvvObmk9jd2rAyAX3zBAEhEtvLyZEexlSuB774rf05bQEDNgl3DhsqUn4jsQzPjADqCq44jlJwsz0Ox3C916iMR2VFeHnDoELBvH3DwoKwV698f6NtXDj/iKgoLgR9+kKFv3To5OLBFu3byR+O99wKtW8sASKR2rnr8dibV1gBqWUwM0KcP8PPPwJdfAqU6LhNRHRUXA7//LsOeZTpyRM4v7T//kbe33irDoCUQ1uY8NHuVd+tWGfrWrAGuX7c+17y5DH1jxgBdutSsQwURqQtrAOvBlX9BvPcekJAgzwfct0/p0hC5FyGAM2esQW/vXlnDV1Gv1vBwoHt3OVhtWpoMXceOlV/ulltsA2FIiP3LbTYDv/wiz+lbvVqOrWcRGQk8+KAMfnFxDH2kba58/HYWBsB6cOUP0NWr8lwdkwk4fVp2DiFyZWazHBeuQQPZDGnvHqFVuXRJhjxL4Pv1Vzl8SFl6vfxR1b27dYqJKR+mUlOB7dtlGNy2TdYcltWpk20grGuPfSFkeVeulMHv0iXrc02aAPffL0Nfnz4ce47IwpWP387CAFgPrv4BGjxYnvfz2mvA3/+udGmIbJlMwG+/yYC0fbs8ZeHaNfmcTidDoF4vz6sLDLTer2heZc9XNGxnRoZtM+6+fXKok7J8fYGuXa1Br0cPoG3bugXTq1flPm7bJkPh0aPll7n5ZttAGBZW+faEkM3Pq1bJ4PfHH9bn9Hpg9GjZvHvnnfJKEERky9WP387AAFgPrv4B+vhj4LHH5IGlogMOkTMVFQH791sD344ddbusV234+NiGwsxM27Bk4ekpa+RK1+x16uS48JSWZhsIjxwpv0zHjtZA2K+fDISnTsnAt3IlcPy4ddkGDYARI2RN3+DB8koZRFQ5Vz9+OwMDYD24+gcoM1Oen1RYKA8wNy6DTOQU+fmyWdUSdHbuLD+AsF4P9O4ta7z69ZPn0ZlMcuBdg0EGxNK3NZ1X3Xh2bdvahr2uXWWIUkp6um0gPHy4/DJRUXIQZgtfX2DoUBn67rmHw7IQ1YarH7+dgQGwHtzhAzRqlBz24eWXgddfV7o0pGY5OcDu3TLEbNsG7NkDFBTYLhMcLMOeJfB17uyY89LMZhkCy4ZDHx95YfnGje3/mvZ07ZptIPztNznfywu46y4Z+kaOlLWaRFR77nD8djQGwHpwhw/QypXy+sCtWslejez5R/ZiNMoep5Ym3X37yg+JEh5uDXt9+8rTEZzZuUMtMjJkrWCnTo7pPUykNe5w/HY0jgOocsOHy6atP/6QPQW7d1e6ROSuUlOtNXzbt8thUcxm22Wio2XYswS+du34o8MegoPluYBERPbCAKhyDRvKk8NXrpSXhmMApJooKJABb88eGfp27wb+/LP8cq1aWcNev35AixYMfERE7oABUAPGjrWOEfbvf7MJjmwJIcOdJejt2SPDX2Gh7XI6HXDTTbLThiX08TKDRETuiQFQA4YMkSeLX74sh97o21fpEpGSsrLk+XqlA1/pK0ZYhIQAPXvKKS5O1h6z0wERkTowAGqAr68cGPbjj2UzMAOgdphMcry40k25v/8ua/1K8/aW14S1BL6ePYGWLdmcS0SkVuwFXA/u1Ivohx/kALEhIbImkFcHUKdr1+R4e5bAt3dvxWPiNW8ua/UsYa9rVw4eTETa4U7Hb0dhDaBG3HGHvNZoWhqQlCSbhUkdTp4EvvlGTjt3lu+Z27ChbL61NOXGxQGRkcqUlYiIXAMDoEZ4eQEPPAC8957sEMIA6L6Ki2XQ++Yb4Ntv5eXBSuvQAYiPtwa+m2+W7z8REZEFm4Drwd2qkHfsAPr0kZffSk1lk587ycoCNm2SoW/9ejkwsIW3NzBggBzuZ/hwoFkz5cpJROQO3O347QisF9CQXr3ksB0XLwIbNgD33qt0iagqycmyhu+bb4AtW2yHZQkOBoYNk6Fv0CAZ6omIiGqKAVBDPDyAMWOAt96SzcAMgK5FCDn+nuV8voMHbZ9v00Ze/3XECBnm2axLRER1pdohgbdv347hw4cjKioKOp0OX3/9tc3zqampmDBhAqKiotCgQQMMGTIEp0+fVqawTvTQQ/L222+B9HRly0JAfr6sjZ06FYiJAWJjgTlzZPjz8JCDLr/xhhzK5dQpOZB3374Mf0REVD+qPYzk5OSgc+fOeOyxxzB69Gib54QQGDVqFLy9vbFu3Tro9XrMnz8fAwcOxLFjx9CwYUOFSu14t90GtG0LnD4tL+P1+OPAs8/K8EHOkZYGfP+9rOXbtAnIybE+17ChHK5nxAjg7rtlz20iIiJ700QnEJ1Oh7Vr12LUqFEAgFOnTqF9+/Y4evQobr75ZgCA2WxGREQE5s6di8mTJ9dou+56EumePcDkycDRo/Kxl5esGXzhBeCWW5Qtm9oIAZw5Yx2Eefdu4NAh26FaoqJk4BsxQnbmYOccIiLHctfjtz2ptgawKgUFBQAAv1JHWg8PD/j6+mLHjh2VBsCCgoKSdQH5AXJHcXHA4cPAxo3Am28CW7cCn30mpyFDZBAcMIBXgaiLzEw5+HLpy6yV7rFr0bWrNfR17cq/NREROZcmA2CHDh3QrFkzzJgxA0uWLEHDhg3x9ttv4+LFi7hy5Uql6yUmJmLOnDlOLKnj6HTA0KFy+vVXYN484KuvZCjcuFGei/bCC8B99/F8s8qYTPKyaqVr944fL7+cry/QrZv1yhu9egFNmzq/vERERBaabAIGgP3792PSpEn47bff4OnpiYEDB8LDwwNCCGzYsKHC7VRUAxgTE6OaKuQ//gDmzweWLQPy8uS8li2B554DHntMnp+mZSkpttfU3bfP9vw9i9atba+pe+utgI+P88tLREQVYxOwhgOghcFgQGFhIUJDQxEXF4du3bph0aJFNdquWj9A6enAokXAu+9aewoHBwMJCcC0aUBYmLLlc4aCAtkTt3Tg+/PP8ssFBFgvr2a58gY7bhARuTa1Hr9rQ/MB0OL06dPo0KEDNmzYgEGDBtVou2r/AOXmAp98IscNPHtWzvPzAyZMAJ5/Xo5L526KimSoTUureLp6VQ7A/NtvtgMvA7LZ/OabbWv3OnQAPD2V2RciIqobtR+/a0K1ATA7OxtnzpwBAHTt2hXz58/HgAEDEBwcjGbNmmH16tUIDQ1Fs2bNcOTIETzzzDOIjY3F//73vxq/hlY+QCYTsHat7DCyb5+cp9PJgaT/7/9krZdSCgttw1tlwc7yfGZmzbcdEmIb9rp35xU3iIjUQCvH76qoNgBu3boVAwYMKDd//PjxWL58Od555x3MmzcPqampiIyMxLhx4zBz5kz41OJkLa19gIQAtm+XHUbWr7fO79NHBsG775aDF9dXXp68VnFqqjzvzjKVfmwJe3XpiO3hATRpIptqS09hYfI2PFyOl9iyJXvnEhGpkdaO3xVRbQB0Bi1/gH7/XTYNr1ghm1UB4KabgL/9DXjkEdnztbTiYhnayga5isKdwVC7snh6ytq6isJcRVNwMJttiYi0TMvHbwsGwHrgBwi4dAl45x1g8WJrbVxkJNC/v6yhs4S79HRZg1hTPj5ARIScwsOt9y2PLQEvLAwICrJPzSMREWkDj98MgPXCD5CV0Qh88AGwYIEMhRXx8JCBrXSYqyzgBQWx+ZWIiByDx28GwHrhB6i8wkJgzRrZk7ZsuGvShE2vRESkPB6/NXolEHIcHx9g7FilS0FERERV4ZlTRERERBrDAEhERESkMQyARERERBrDAEhERESkMQyARERERBrDAEhERESkMQyARERERBrDAEhERESkMQyARERERBrDAEhERESkMQyARERERBrDAEhERESkMQyARERERBrDAEhERESkMaoNgNu3b8fw4cMRFRUFnU6Hr7/+2ub57OxsTJs2DdHR0fD390fHjh2xePFiZQpLRERE5ESqDYA5OTno3LkzFi1aVOHz06dPx8aNG7FixQocP34czz77LKZNm4ZvvvnGySUlIiIici4vpQvgKEOHDsXQoUMrfX7nzp0YP348+vfvDwCYMmUKlixZgr1792LEiBFOKiURERGR86m2BrA6vXr1wjfffINLly5BCIEtW7bg1KlTGDRokNJFk7KyALNZ6VIQERGRCmk2AC5cuBAdO3ZEdHQ0fHx8MGTIECxatAh9+/atdJ2CggIYjUabySGWLwfatAG+/NIx2yciIiJN03QA3L17N7755hvs378fb731FhISEvDjjz9Wuk5iYiICAwNLppiYGMcULjkZuHoVeOklID/fMa9BREREmqUTQgilC+FoOp0Oa9euxahRowAAeXl5CAwMxNq1azFs2LCS5SZPnoyLFy9i48aNFW6noKAABQUFJY+NRiNiYmJgMBig1+vtV+DcXKBdO+DSJeCNN4D/+z/7bZuIiEjjjEYjAgMD7X/8diOarAEsKipCUVERPDxsd9/T0xPmKs678/X1hV6vt5kcokED4PXX5f3XXwfS0hzzOkRERKRJqg2A2dnZOHToEA4dOgQAOHfuHA4dOoQLFy5Ar9ejX79+eOGFF7B161acO3cOy5cvx6effop7771X2YJbPPoo0LUrYDQCc+YoXRoiIiJSEdU2AW/duhUDBgwoN3/8+PFYvnw5UlJSMGPGDPzwww/IyMhA8+bNMWXKFDz33HPQ6XQ1eg2HVyFv2QLccQfg6QkcPQp06GD/1yAiItIYNgGrOAA6g1M+QCNGAN9+K2/XrXPMaxAREWkIA6CKm4BV4803ZQ3gN98AW7cqXRoiIiJSAQZAV9ehA/DEE/L+889zcGgiIiKqNwZAd/CPfwB6PXDgALBihdKlISIiIjfHAOgOQkOBl1+W919+WY4TSEREpGbXrgE//wycP690SVSJAdBdPPMM0Ly5HBx6/nylS0NERFR/QgCpqXLUi0WLgIQEYMAAIDwcCAkB+vblZVEdxEvpAlAN+fkBiYnAww8D//oXMHkyEBGhdKmIiIiqJwRw5Qpw7Jicfv/dej8jo/L1WrSQHSHJ7hgA3cmYMcDbbwP79gGzZwNLlihdIiIiIish5PXsLeGu9GQwVLyOTge0bg107Gg7degANGzo3PJrCMcBrAdFxhHasQPo0wfw8AB++w3o1Mk5r0tERFTWrl3yuGSp1Tt+HMjOrnhZT0+gTZvyQa99e8Df36nF5jiArAF0P717A6NHA2vWAC+8AGzYoHSJiIhIiz79FBg/vvx8b2+gXbvyQa9tW8DX1/nlpAqxBrAeFPsFceaM/DIVFQGbNgGDBjnvtUm79u8H5s6VTTK9esnp5pt5fg5RfVy7Jqd27ZQuSe2kpAA33QRkZspjUO/e1qDXpo0MgS6MNYCsAXRPbdrInlILFgB/+xtw8CAPwuQ4QgAffQQ8/TRQUCDnffaZvA0IAHr2tAbCuDggMFC5shK5g6Ii4PvvgU8+Ab77Tj7+6ivgvvuULlnNTZsmw19sLLB+PeDFOOFuWANYD4r+gsjIkCfNZmbKg/OkSc59fdKG3Fz5Y2P5cvn4nnuA224Ddu4Edu8uf66PTifPS7UEwl695OdUp3N60akW9uyRp5MkJMhxR8n+hAAOHZKh77//BdLTbZ9v0gQ4cgSIjFSkeLXyv/8B998vQ9+vvwKdOytdolpjDSADYL0o/gGaP19eHi4iAjh9GmjUyPllIPU6c0b+k//tN9npaO5ced6px43hQ00m4OhRGQYt0x9/lN9OaKg1DMbHA926Of2Eb6rCp5/KYaWKioCmTYHVq+X7RPaRkiID3yefyIBnER4O/OUvcmivSZNkOBw2DPj2W9f+wZSRIZt5U1OBV14B/vlPpUtUJ4ofv10AA2A9KP4BKiiQX8Q//gBmzQLmzHF+GUidvv5antxtNAJhYcDKlXJw1uqkpMhegZZA+OuvQGGh7TLe3kDXrra1hE2bOmQ3qApCyOGkLAfwgAAgK0vW6vz738Bf/+raQcSV5efLIPfJJ8DGjfLHEgD4+AAjR8rv1uDB1mbTo0dlU2phIfDhhzKQu6qJE2WLQIcOMrS6aacOxY/frkBQnRkMBgFAGAwG5QqxerUQgBD+/kJcvKhcOUgdioqE+L//k58pQIjbb6/f5yo/X4idO4X497+FGD1aiPBw67ZLT82aCTF2rBDvvy9EXp799ocqlpcn/96Wv//LLwthMAjx4IPWeQ88IOdRzZjNQuzeLcTUqUIEBdl+vuPi5Gc7I6Py9efNk8s2aiTE2bPOK3dtbNoky6jTye+1G3OJ47fCGADrwSU+QGazPEgDQkyYoFw5yP1duSJEv37Wg9ZzzwlRWGjf1zCbhfjjDyFWrBDiqaeE6NJFCA8P24PlwIFC5OTY93XJ6upVIeLj5d/a21uIjz+2Pmc2C/HOO3I+IES7dkIcOaJYUd1CcrIQc+cK0b697ec4OlqIGTOEOH68ZtspLhaiTx+5bp8+8rErycoSonlzWb5nnlG6NPXmEsdvhTEA1oPLfIB277b+Kjt4UNmykHvavl2IyEhrDcTq1c57baNRiKQkIebMEaJhQ1mGAQOEyM52Xhm04tgxIVq2lH/joCAhtmypeLldu2SAsbQufPqpU4vp8nJy5I+Yu+6S/3ctoc/fX4hHHhHihx/qFuDOnpXfP0DWCLqSp5+W5WrRQoZBN+cyx28FMQDWg0t9gCzNOXfeKX/FE9WE2SybZz095efn5puFOHFCufLs2GE9APbpI8Mh2cePPwoRGCj/tq1bV/8+p6UJMWiQNdw88YS2m+fNZvlDadIkIQICbGv7+vQRYulS+zSZf/ih3KaPj+vUvu7YYQ26P/ygdGnswqWO3wphJ5B6cKmTSM+dkyflFhbKcaWGDVO2POT6jEZ5QveaNfLxI4/I60srfe3N3bvlCfJGo+wgsmEDoPT3y9199BEwdSpQXAzcfrvs5BMSUv16JpPsJPLqqzLqxMbKXsItWzq8yLUiBGA2y57MRUVyP+15/8oV4PPPbXu5t2ghO3OMGwe0amXffRkxQv4f79JFDtHj42O/7ddWfr7stHXihPx/sWyZcmWxI5c6fitF6QTqKNu2bRP33HOPiIyMFADE2rVrbZ4HUOH05ptv1vg1XO4XxAsvyF9oN90kT+Ynqszhw0K0bWs9D+y991yr5njvXuuJ9HFxQly/rnSJ3JPJZNup55FHZMec2tq4UYgmTaxNx99+a/+y1sWlS7IDS0hIxZ2L7D01aiTExIlCbN0q/7aOcuWK9e/98suOe52a+PvfZTkiIqruxOJmXO74rQDV1gBu2LABv/zyC2JjYzF69GisXbsWo0aNKnk+JSWl3PKTJk3CmTNn0KqGv+Zc7hdEZqa8Ssi1a8B778lf/ERlffYZ8MQTQF4eEBMjr0DQo4fSpSrvwAHgrrvkuGPdusnLHgYHK10q95GbK2un/vc/+fgf/5DDRdV1aJfkZOCBB2SNFADMmCFrBpW4AsThw3Ic1M8/lzV0lfHykpO3t/W2JvfLzvP3l7XSo0c7r4bcMtiyhwewY4cyYzMeOgR07y5rQtesAe691/llcBCXO34rQekE6gyooAawrJEjR4o77rijVtt1yV8QCxfKX2uhoRzCgWzl5wvx5JPW2oxBg+R5Xq7s0CFr7U6XLkKkpytdIvdw5YoQ3btbzyVbscI+2y0osHYGsHTWSUmxz7arYzYLsWGD7CVeulbu9tuFWLNGfjYMBiFyc2XvdVeq0a6rv/xF7mObNs7vFFVUJMRtt8nXv/9+5762E7jk8dvJGACFECkpKcLLy0v897//rXI7+fn5wmAwlEzJycmu9wEqLLQORzBjhtKlIVfx559CdOtm7S0+e7brDTNRmSNHhAgLk2W/9VY5jAlV7vBhOa4iIJsRf/7Z/q+xcqW1s05kpOwc4Sh5eUJ89JEQHTtaQ5+HhxyzcPdux72uK7h+XYimTeU+P/WUc1/7X/+Sr9u4sfxBoTIMgAyAQggh3njjDdG4cWORV00Pt9mzZ1d43qDLfYDWrZNfXD8/Ic6fV7o0pLQNG4QIDpafieBg+djdHDsmz0Gy9FR2Vq2Tu9mwwdpDtV07IU6fdtxrHT9uDWWennLYEnvWul29KocGsoR/QO7bc88Jce6c/V7H1f3wg3X/N250zmuePCmEr698zeXLnfOaTsYAyAAohBCiffv2Ytq0adVuxy1qAIWQ/4QtA/o+8ojSpSGlFBcLMWuWdfiGbt1kTaC7OnFCiKgouS8dOghx+bLSJXItixZZB9Xu31+Ia9cc/5rZ2fJ/jCWgjBolRGZm/bZ5/LgQU6bIH7CW7cbEyOGK6rttdzVtmvw7REU5viOGyWQdkHrQIHU0pVeAAZABUGzfvl0AEIcOHar1dl36A/Trr9Z/nnv3Kl2a+isqkk2BH38sxPTpsteqCpsl7KbsGG5Tp9at96erOX3aOkBxu3auc/nDq1eFeP11Oe3e7dxe+MXFQjz7rPW9njBBnqvnLGazvMyZj491jMHa/j81m4X46Schhg2zPb8vNlaIzz+3/xVp3E1Ojvy8A0I8/LBjX+u99+TrNGyo6ppWlz5+O4nmA+D48eNFbGxsnbbr8h+gRx+1DlLqTr/iTCZZC/DZZ/KSQ7ffLkSDBuWHZNDphOjbV166ylWCgCvYs0fWmADyygSffaZ0iezr7FnrOW6tWyt7moPBIGtZLefDWabAQFkbtnCh/Cw76vuXlSXE8OHW1507V7nv+t691kuF+fkJsWxZ9esUFsrPZ9eutt/rESOE2LbNvf5vOdru3dYB21etcsxrnD9v/SwvXOiY13ARLn/8dgLVBsCsrCxx8OBBcfDgQQFAzJ8/Xxw8eFCcL3WwMBgMokGDBuL999+v02u4/AfowgVrM8qaNUqXpmImkxCnTslf+dOny6brsgfT0mNw9esnREKCHBuu7PO9egkxf752z3s0m4V4913rdVzbtpUdAtTozz+tlzRr0cL5NRW5ubJJ0jJWGyB7TI4ebR2/sPTUtKkQ48bJS6pdumSfMly8aA1Ovr6OCwW1kZ4uxN13W/f7scfk36qsjAwh3njD2sHB8mNl6lR5/hlVbOZM67m89j4FwmwWYuhQa89qR45z6AJc/vjtBKoNgFu2bKmww8b48eNLllmyZInw9/cXmXU8r8QtPkCWQTzbtHFus1BFzGYh/vhDiC+/lIPT3nGH9dJUZacGDYTo3Vs2ba1YIWtRyv5DOn9eiLfflv+syq7fo4cQb74pa4u0IC1NiJEjrfs/erT6hwG6cEF+rgFZI+iM97qwUIglS2yDS4cOQnz1lbW2qrhY1oYlJspLM1pOpi893XSTHE5l3bq6ndd24ID1fMjQUHntXldhMgnx2mvW8xE7d7Z2Rjl7Voi//tV6zWdAdu557TUO8VMTBQXWoVnuvtu+NaSffSa36+Mj/9+qnFscvx1MtQHQGdziA2Q0WnvR/ec/zntds1kGtDVr5Ej2gwZZe6KWnfz8hOjZU57ovHy5EEeP1n6IkosXZZNFv362F2e31MzMnStrGtVo82Y5FIfln/f8+dppOrt40XpuVHS0495jk0nWUlsCpyV0LltW/fl+ubnyOrwvvSQ74pT9fHp6ys//K6/IK0xUd67mN99YA1THjvJHlSv68UcZTgEh9HrZVG0JhYAQt9wiz+lVw7mpznT0qPVHxQcf2GebqanW/8+vv26fbbo4tzh+OxgDYD24zQdo8WJrs4GjepDl5sqxwObOlSdylx66ofTk7S0Pgk8+Kcf2OnTI/id4X7kiT0q/807bAw4gx5F79VU5rIi7KyiwXv7PUhN18KDSpXK+y5dljRogg/CJE/bbttksxHffyVosy985NFT+mKprcLl2TYj//U82d1oux1d68vcXYvBgOazKgQPWmm+zWdZ4WwLkXXe5/iXyLl4sX0M/eLAc2kQrP1Ic4a23rB017FHzPWaMtbZWIx1u3Ob47UAMgPXgNh+goiLreF3PP2+fbaamytq955+XtReW885KT15e8uoNkyfLEPrrr87/tX/1qhAffigPOl5etuXr2FGewH/kiPsdjE6csDYFATJQ5+QoXSrlpKQI0amT/FuEhwvx++/13+a2bbbhRa+XTZVZWfXfdmnnz8uaxIcflmUv+z0KCZGDHj/8sHXelCnuc6AuLJTj+T31lPyuUf2ZTNahvnr3rt+g7l9/ba2J3r/fbkV0dW5z/HYgBsB6cKsP0PffW5sIa/uL0WyWNWYffiiHmCjdDFZ6ioyUlwx6+215TlJFJ38r6do12eQ0bFj5wNq+vTxf8uBB1w6DZrN8Hyy9ooODhajmMoeacfWqrOG11NLVNWzs3y9/MJSukXvxReeMq2c2y3K//bYQ99xTvkOUTic7n7jyZ5Sc49w56+fjjTfqto3r163nkr70kj1L5/Lc6vjtIAyA9eBWHyCzWTYZAUI88EDVy+blyctHJSbKg1BF5+7pdLLG5YknZM/Gs2fd66B0/bo86XnkyPIn6bduLc+jc/a1N6tz7Zrs3GEp55132q9HqVqkp1t7xjZpUrvx6I4flz9gStdgT52q7N+4sFCIHTtkDdo998hOI0QWS5daf9j/9lvt1588Wa7frp3r/WB3MLc6fjuITgghQHViNBoRGBgIg8EAvV6vdHGqd/gw0KWLPLzt3AnEx8v5aWnAL79Yp/37gcJC23X9/YEePYDbb5dTfDzQuLHTd8EhsrKA9euBr74Cvv8eyMuT85s0AZ59Fpg2DQgKUrKEwJYtwKOPApcuAd7ewOuvA88/D3h4KFsuV3T9OjB4MLBvHxAcDGzeDNx2W+XLX7gAzJkDLF8OmM2ATgc88oic16qV04pNVGtCACNHAt9+C9x6K7B3L+DrW7N1k5KAgQPl/e3bgT59HFdOF+R2x29HUDqBujO3/AUxaZK1M8TEidYelGWn8HBZ2zR/vhxYWOkhZJwlO1v2rGvd2vq3CAiQzSNKXH+2sFC+tuXE/3bt5LmUVLXMTHluKiDH5avoajipqXKgccsVLABZI6zWsRNJnVJS5HmigBAzZtRsnexsIVq1kus89ZRjy+ei3PL4bWesAawHt/wFceUK0KYNkJtrO79jR6B3b2sNX6tWsiZEq4qLgdWrgblzgaNH5Tw/P2DyZOCFF4BmzRxfhtOngYcfBn79VT6ePBlYsABo2NDxr60GRiNw992yVluvBzZtAnr2BAwG4N//Bt5+G8jJkcsOGCDf6549lS0zUV2sWQPcd59sEfj5Z6BXr6qXf/55YP58ICZG/n9zl+OXHbnl8dvOGADrwW0/QF98AXz6KdC1q7U5NzhY6VK5JrMZ+O472eS6d6+c5+Ulm2NffBFo397+rymEbI58+mkZUBo3Bj78UP6Dp9rJzgaGDZNNXI0aAU89BXz0EZCRIZ/v3l0Gvzvv1PYPHnJ/48fL/+utWwOHDsnPe0X27JEB0WyWp7wMHerUYroKtz1+2xEDYD3wA6QhQgA//STDwk8/yXk6HfDAA8CMGfLcSnu4fh144glZ+wgA/fsDn30GREfbZ/talJMDjBhhfd8AWeP92mvAqFEMfqQOmZnyPMDkZGDqVOC998ovU1AAxMYCv/8uf8R++qnTi+kqePwGeAY5UU3odLKWKCkJ2LVLBgohgC+/lDWpw4bJjjX1sX070LmzDH9eXkBiIvDjjwx/9dWwoTxJ/v77ZfBbvlx2iLr3XoY/Uo+gIODjj+X999+XpzyUlZgow19oqDwFgjSNNYD1wF8QGnf4MPCvfwGrVsnmFADo1w94+WXgrrtqHi6KimSP08REuZ02bYDPP5fNk0REtfHMM8A77wBRUcCRI9bTe44ckbV/RUXyf9aDDypbToXx+M0aQKK6u/VWGdROngQef1wOz7JtmxyCpEcPYO1aazCszNmzcviF11+Xy06cCBw8yPBHRHWTmCjPTb58WQ5hBQAmEzBpkgx/I0fKU1dI81gDWA/8BUE2Ll4E3noLWLLEOpZgx47yHMGxY2WzroUQ8ty+hATZUSEwEPjgA83/KiciO9i7V3b0MJmAlSvl+KHPPy//zxw7JmsHNY7HbwbAeuEHiCqUliabYBYulEOOAEDLlsD//R8wYYI8EXvqVNkbG5A1gCtWOGdoGSLShtmzgVdflaMI5OfLH6UffSRrAonHbzAA1gs/QFQlg0GejD1/vgyFABAZKZuKL1wAPD2Bf/xD1hB6eipaVCJSmaIiOa7lgQPy8R13yE5l7PgEgMdvgAGwXvgBohrJzQWWLgXmzZNDNACyRvDzzznwMBE5zrFjQLducoDow4d5acNSePxmAKwXfoCoVgoLZeg7fx547jlNjr5PRE52+rQMgK1bK10Sl8LjN+BV/SJEZBc+PvIcQCIiZ2nbVukSkItS7TAw27dvx/DhwxEVFQWdToevv/663DLHjx/HiBEjEBgYiIYNG6J79+64cOGC8wtLRERE5ESqDYA5OTno3LkzFi1aVOHzZ8+eRe/evdGhQwds3boVhw8fxsyZM+Hn5+fkkhIRERE5lybOAdTpdFi7di1GjRpVMm/s2LHw9vbGZ599Vuft8hwCIiIi98Pjt4prAKtiNpuxfv16tGvXDoMHD0ZYWBji4uIqbCYmIiIiUhtNdgK5evUqsrOz8a9//QuvvfYa3njjDWzcuBGjR4/Gli1b0K9fvwrXKygoQEFBQcljw41Bfo1Go1PKTURERPVnOW5roBG0UpoMgOYb12cdOXIknnvuOQBAly5dsHPnTixevLjSAJiYmIg5c+aUmx8TE+O4whIREZFDZGVlITAwUOliKEKTATAkJAReXl7o2LGjzfybbroJO3bsqHS9GTNmYPr06SWPzWYzMjIy0KRJE+jsPLq60WhETEwMkpOTVX9+AvdVvbS0v9xX9dLS/mplX4UQyMrKQpSGr4usyQDo4+OD7t274+TJkzbzT506hebNm1e6nq+vL3x9fW3mBQUFOaKIJfR6vaq/hKVxX9VLS/vLfVUvLe2vFvZVqzV/FqoNgNnZ2Thz5kzJ43PnzuHQoUMIDg5Gs2bN8MILL2DMmDHo27cvBgwYgI0bN+Lbb7/F1q1blSs0ERERkROoNgD++uuvGDBgQMljS9Pt+PHjsXz5ctx7771YvHgxEhMT8de//hXt27fH//73P/Tu3VupIhMRERE5hWoDYP/+/avt3fPYY4/hsccec1KJasfX1xezZ88u1+SsRtxX9dLS/nJf1UtL+6ulfdU6TQwETURERERWmhwImoiIiEjLGACJiIiINIYBkIiIiEhjGACJiIiINIYBUCGLFi1CixYt4Ofnh7i4OOzdu7fK5VevXo0OHTrAz88Pt9xyC77//nsnlbR+EhMT0b17dwQEBCAsLAyjRo0qNwB3WcuXL4dOp7OZ/Pz8nFTiuvvHP/5RrtwdOnSoch13fV8BoEWLFuX2V6fTISEhocLl3el93b59O4YPH46oqCjodDp8/fXXNs8LITBr1ixERkbC398fAwcOxOnTp6vdbm2/985Q1b4WFRXhxRdfxC233IKGDRsiKioK48aNw+XLl6vcZl2+C85S3Xs7YcKEcmUfMmRItdt1t/cWQIXfX51Oh3nz5lW6TVd+b6l2GAAVsGrVKkyfPh2zZ8/GgQMH0LlzZwwePBhXr16tcPmdO3fioYcewqRJk3Dw4EGMGjUKo0aNwtGjR51c8trbtm0bEhISsHv3bmzevBlFRUUYNGgQcnJyqlxPr9fjypUrJdP58+edVOL6ufnmm23KXdWlBd35fQWAffv22ezr5s2bAQAPPPBApeu4y/uak5ODzp07Y9GiRRU+/+abb+Kdd97B4sWLsWfPHjRs2BCDBw9Gfn5+pdus7ffeWara19zcXBw4cAAzZ87EgQMHsGbNGpw8eRIjRoyodru1+S44U3XvLQAMGTLEpuxffPFFldt0x/cWgM0+XrlyBcuWLYNOp8N9991X5XZd9b2lWhLkdD169BAJCQklj00mk4iKihKJiYkVLv/ggw+KYcOG2cyLi4sTTzzxhEPL6QhXr14VAMS2bdsqXebjjz8WgYGBziuUncyePVt07ty5xsur6X0VQohnnnlGtG7dWpjN5gqfd9f3FYBYu3ZtyWOz2SwiIiLEvHnzSuZlZmYKX19f8cUXX1S6ndp+75VQdl8rsnfvXgFAnD9/vtJlavtdUEpF+zt+/HgxcuTIWm1HLe/tyJEjxR133FHlMu7y3lL1WAPoZIWFhdi/fz8GDhxYMs/DwwMDBw7Erl27Klxn165dNssDwODBgytd3pUZDAYAQHBwcJXLZWdno3nz5oiJicHIkSPx+++/O6N49Xb69GlERUWhVatWeOSRR3DhwoVKl1XT+1pYWIgVK1bgscceg06nq3Q5d31fSzt37hxSUlJs3rvAwEDExcVV+t7V5XvvqgwGA3Q6XbXXQa/Nd8HVbN26FWFhYWjfvj2mTp2Ka9euVbqsWt7b1NRUrF+/HpMmTap2WXd+b8mKAdDJ0tPTYTKZEB4ebjM/PDwcKSkpFa6TkpJSq+VdldlsxrPPPovbb78dnTp1qnS59u3bY9myZVi3bh1WrFgBs9mMXr164eLFi04sbe3FxcVh+fLl2LhxI95//32cO3cOffr0QVZWVoXLq+V9BYCvv/4amZmZmDBhQqXLuOv7Wpbl/anNe1eX770rys/Px4svvoiHHnoIer2+0uVq+11wJUOGDMGnn36KpKQkvPHGG9i2bRuGDh0Kk8lU4fJqeW8/+eQTBAQEYPTo0VUu587vLdlS7aXgyPUkJCTg6NGj1Z4vEh8fj/j4+JLHvXr1wk033YQlS5bgn//8p6OLWWdDhw4tuX/rrbciLi4OzZs3x5dfflmjX9XubOnSpRg6dCiioqIqXcZd31eSioqK8OCDD0IIgffff7/KZd35uzB27NiS+7fccgtuvfVWtG7dGlu3bsWdd96pYMkca9myZXjkkUeq7Zjlzu8t2WINoJOFhITA09MTqampNvNTU1MRERFR4ToRERG1Wt4VTZs2Dd999x22bNmC6OjoWq3r7e2Nrl274syZMw4qnWMEBQWhXbt2lZZbDe8rAJw/fx4//vgjJk+eXKv13PV9tbw/tXnv6vK9dyWW8Hf+/Hls3ry5ytq/ilT3XXBlrVq1QkhISKVld/f3FgB+/vlnnDx5stbfYcC931utYwB0Mh8fH8TGxiIpKalkntlsRlJSkk3tSGnx8fE2ywPA5s2bK13elQghMG3aNKxduxY//fQTWrZsWettmEwmHDlyBJGRkQ4ooeNkZ2fj7NmzlZbbnd/X0j7++GOEhYVh2LBhtVrPXd/Xli1bIiIiwua9MxqN2LNnT6XvXV2+967CEv5Onz6NH3/8EU2aNKn1Nqr7Lriyixcv4tq1a5WW3Z3fW4ulS5ciNjYWnTt3rvW67vzeap7SvVC0aOXKlcLX11csX75cHDt2TEyZMkUEBQWJlJQUIYQQjz76qHjppZdKlv/ll1+El5eX+Pe//y2OHz8uZs+eLby9vcWRI0eU2oUamzp1qggMDBRbt24VV65cKZlyc3NLlim7v3PmzBGbNm0SZ8+eFfv37xdjx44Vfn5+4vfff1diF2rs+eefF1u3bhXnzp0Tv/zyixg4cKAICQkRV69eFUKo6321MJlMolmzZuLFF18s95w7v69ZWVni4MGD4uDBgwKAmD9/vjh48GBJz9d//etfIigoSKxbt04cPnxYjBw5UrRs2VLk5eWVbOOOO+4QCxcuLHlc3fdeKVXta2FhoRgxYoSIjo4Whw4dsvkOFxQUlGyj7L5W911QUlX7m5WVJf72t7+JXbt2iXPnzokff/xR3HbbbaJt27YiPz+/ZBtqeG8tDAaDaNCggXj//fcr3IY7vbdUOwyAClm4cKFo1qyZ8PHxET169BC7d+8uea5fv35i/PjxNst/+eWXol27dsLHx0fcfPPNYv369U4ucd0AqHD6+OOPS5Ypu7/PPvtsyd8mPDxc3H333eLAgQPOL3wtjRkzRkRGRgofHx/RtGlTMWbMGHHmzJmS59X0vlps2rRJABAnT54s95w7v69btmyp8HNr2R+z2SxmzpwpwsPDha+vr7jzzjvL/Q2aN28uZs+ebTOvqu+9Uqra13PnzlX6Hd6yZUvJNsrua3XfBSVVtb+5ubli0KBBIjQ0VHh7e4vmzZuLxx9/vFyQU8N7a7FkyRLh7+8vMjMzK9yGO723VDs6IYRwaBUjEREREbkUngNIREREpDEMgEREREQawwBIREREpDEMgEREREQawwBIREREpDEMgEREREQawwBIREREpDEMgEREREQawwBIREREpDEMgEREREQawwBIREREpDEMgEREREQawwBIREREpDEMgEREREQawwBIREREpDEMgEREREQawwBIREREpDEMgEREREQawwBIREREpDEMgEREREQawwBIREREpDEMgEREREQawwBIREREpDEMgEREREQawwBIREREpDEMgEREREQawwBIREREpDEMgEREREQawwBIREREpDEMgEREREQawwBIREREpDH/D4gVcKPhVBzeAAAAAElFTkSuQmCC' width=640.0/>\n",
       "            </div>\n",
       "        "
      ],
      "text/plain": [
       "Canvas(toolbar=Toolbar(toolitems=[('Home', 'Reset original view', 'home', 'home'), ('Back', 'Back to previous …"
      ]
     },
     "metadata": {},
     "output_type": "display_data"
    }
   ],
   "source": [
    "from matplotlib import pyplot as plt\n",
    "from matplotlib.pyplot import subplots\n",
    "fig, axs = subplots(2, sharex='col')\n",
    "x = np.arange(epochs)\n",
    "y1 = model.training_acc\n",
    "y2 = model.training_loss\n",
    "y3 = model.val_acc\n",
    "y4 = model.val_loss\n",
    "axs[0].plot(x,y1,'b-')\n",
    "axs[1].plot(x,y2,'b-')\n",
    "axs[0].plot(x,y3,'r-')\n",
    "axs[1].plot(x,y4,'r-')"
   ]
  },
  {
   "cell_type": "code",
   "execution_count": 15,
   "id": "c58ddf28-dd5d-4711-8605-297c74362406",
   "metadata": {},
   "outputs": [],
   "source": [
    "layer1 = model.layers[0]\n",
    "layer2 = model.layers[1]\n",
    "layer3 = model.layers[2]"
   ]
  },
  {
   "cell_type": "code",
   "execution_count": 16,
   "id": "b6ebc82c-30cd-4d6f-af80-a69e10573969",
   "metadata": {},
   "outputs": [
    {
     "data": {
      "text/plain": [
       "((784, 200), (200, 50), (50, 10))"
      ]
     },
     "execution_count": 16,
     "metadata": {},
     "output_type": "execute_result"
    }
   ],
   "source": [
    "layer1.weights.shape,layer2.weights.shape, layer3.weights.shape\n"
   ]
  },
  {
   "cell_type": "code",
   "execution_count": 17,
   "id": "297aba0a-ae1b-4c11-8708-35d44a9f7f74",
   "metadata": {},
   "outputs": [],
   "source": [
    "U1,S1,V1 = np.linalg.svd(layer1.weights)\n",
    "U2, S2, V2 = np.linalg.svd(layer2.weights)\n",
    "U3, S3, V3 = np.linalg.svd(layer3.weights)"
   ]
  },
  {
   "cell_type": "code",
   "execution_count": 18,
   "id": "67cf98cc-ea80-4147-ad34-0cca03d9c9ea",
   "metadata": {},
   "outputs": [
    {
     "data": {
      "text/plain": [
       "(array([2.61784776, 2.49389605, 2.46328341, 2.4023419 , 2.38184888,\n",
       "        2.35598135, 2.34359603, 2.32371298, 2.31658929, 2.30618127,\n",
       "        2.29753695, 2.26097403, 2.23689227, 2.22960589, 2.21570348,\n",
       "        2.21153   , 2.19464063, 2.17160117, 2.154126  , 2.14563364,\n",
       "        2.14103657, 2.12720343, 2.12053287, 2.11383777, 2.10002843,\n",
       "        2.09370794, 2.08266391, 2.07815889, 2.07184707, 2.05313952,\n",
       "        2.04252995, 2.03030123, 2.0274301 , 2.01964141, 2.00918387,\n",
       "        1.99425347, 1.99070549, 1.98017819, 1.97726286, 1.97369714,\n",
       "        1.96971123, 1.95984041, 1.94946228, 1.94110303, 1.9219322 ,\n",
       "        1.91664552, 1.91213215, 1.90371918, 1.89390106, 1.88226671,\n",
       "        1.88156345, 1.87621871, 1.87196006, 1.86790845, 1.85613329,\n",
       "        1.84780835, 1.83556552, 1.82622572, 1.82024432, 1.80900439,\n",
       "        1.80329343, 1.80051446, 1.79642507, 1.79100584, 1.78020545,\n",
       "        1.77264736, 1.76877148, 1.76335882, 1.76058105, 1.7421702 ,\n",
       "        1.73752102, 1.73458385, 1.73006578, 1.72482857, 1.71675082,\n",
       "        1.70671679, 1.70171553, 1.69187579, 1.68400017, 1.67946254,\n",
       "        1.67776253, 1.66749369, 1.66358169, 1.65120789, 1.64523214,\n",
       "        1.64066749, 1.63567682, 1.63056209, 1.61615435, 1.61409289,\n",
       "        1.60465949, 1.59507178, 1.58718577, 1.58549116, 1.57651234,\n",
       "        1.57129297, 1.55965938, 1.55760628, 1.54574295, 1.54224867,\n",
       "        1.53907814, 1.53514716, 1.52619124, 1.51782433, 1.51379121,\n",
       "        1.50712549, 1.49606935, 1.49250775, 1.48476003, 1.4764142 ,\n",
       "        1.47155656, 1.46482672, 1.46277476, 1.45268346, 1.44972812,\n",
       "        1.44584801, 1.44190441, 1.43286922, 1.42374344, 1.41657096,\n",
       "        1.41038259, 1.39345425, 1.38735023, 1.38390496, 1.37842564,\n",
       "        1.37555139, 1.36330841, 1.35762597, 1.3545218 , 1.35002851,\n",
       "        1.34589914, 1.3403403 , 1.33197663, 1.32526775, 1.31816582,\n",
       "        1.31039625, 1.30090439, 1.29091271, 1.2832174 , 1.27921976,\n",
       "        1.27426308, 1.26443079, 1.26235622, 1.26102935, 1.24663629,\n",
       "        1.24132865, 1.2335723 , 1.22923041, 1.22152469, 1.21309694,\n",
       "        1.20827442, 1.202653  , 1.1978716 , 1.19263448, 1.19072394,\n",
       "        1.1835399 , 1.17305423, 1.16837728, 1.16381422, 1.15742537,\n",
       "        1.15240315, 1.1467311 , 1.13771578, 1.12560036, 1.11618596,\n",
       "        1.10787417, 1.1047952 , 1.0972883 , 1.09065734, 1.07539423,\n",
       "        1.06762121, 1.05940731, 1.0532772 , 1.04095203, 1.03759303,\n",
       "        1.03337046, 1.02334065, 1.01770813, 1.01323613, 1.00402228,\n",
       "        0.99193802, 0.98839934, 0.98526839, 0.9763665 , 0.96326285,\n",
       "        0.96146226, 0.95771185, 0.95049074, 0.94291493, 0.91848766,\n",
       "        0.91342817, 0.91170157, 0.90142876, 0.88833868, 0.87466519,\n",
       "        0.86736385, 0.8511354 , 0.83462396, 0.81199096, 0.80835128]),\n",
       " array([1.98198512, 1.80962767, 1.70372141, 1.70040782, 1.60765949,\n",
       "        1.47915752, 1.34904799, 1.31348791, 1.22568409, 1.17419907,\n",
       "        0.79722029, 0.78093393, 0.75254195, 0.73161685, 0.70362324,\n",
       "        0.69009292, 0.67356363, 0.6593399 , 0.64176265, 0.62574485,\n",
       "        0.6058764 , 0.59575454, 0.5794736 , 0.57687013, 0.56399808,\n",
       "        0.54395029, 0.53630016, 0.52209508, 0.51217033, 0.50290691,\n",
       "        0.49708962, 0.46854222, 0.464658  , 0.4574553 , 0.44375204,\n",
       "        0.43731107, 0.42775452, 0.41978307, 0.40736518, 0.39637738,\n",
       "        0.38956781, 0.37090952, 0.36295514, 0.34416037, 0.33695593,\n",
       "        0.32330449, 0.31186582, 0.30156858, 0.2959479 , 0.29221622]),\n",
       " array([0.94698585, 0.91643107, 0.79731254, 0.72256669, 0.68952481,\n",
       "        0.66048195, 0.64068277, 0.60569318, 0.58242916, 0.52083777]))"
      ]
     },
     "execution_count": 18,
     "metadata": {},
     "output_type": "execute_result"
    }
   ],
   "source": [
    "S1,S2,S3"
   ]
  },
  {
   "cell_type": "markdown",
   "id": "41d35871-80f4-4faf-a7ea-545c7e8b1880",
   "metadata": {},
   "source": [
    "Now take the top 10% of each singular values from each weight matrix"
   ]
  },
  {
   "cell_type": "code",
   "execution_count": 22,
   "id": "1fd9d027-1ecd-4983-b55b-c2df7bfe9a2f",
   "metadata": {},
   "outputs": [],
   "source": [
    "top = [20,5,1]\n",
    "new_S1 = S1[:top[0]]\n",
    "new_S2 = S2[:top[1]]\n",
    "new_S3 = S3[:top[2]]\n",
    "new_W1 = U1[:,:top[0]] @ np.diag(new_S1) @ V1[:top[0],:]\n",
    "new_W2 = U2[:,:top[1]] @ np.diag(new_S2) @ V2[:top[1],:]\n",
    "new_W3 = U3[:,:top[2]] @ np.diag(new_S3) @ V3[:top[2],:]"
   ]
  },
  {
   "cell_type": "code",
   "execution_count": 23,
   "id": "3ab56d16-16ce-4777-88a4-45fb3e2d8d41",
   "metadata": {},
   "outputs": [
    {
     "data": {
      "text/plain": [
       "((784, 200), (784, 200))"
      ]
     },
     "execution_count": 23,
     "metadata": {},
     "output_type": "execute_result"
    }
   ],
   "source": [
    "new_W1.shape, model.layers[0].weights.shape"
   ]
  },
  {
   "cell_type": "code",
   "execution_count": null,
   "id": "96dff5ae-9979-4997-bbf7-9a966bfff730",
   "metadata": {},
   "outputs": [],
   "source": [
    "model.layers[0].init_weights(new_W1)"
   ]
  }
 ],
 "metadata": {
  "kernelspec": {
   "display_name": "Python 3 (ipykernel)",
   "language": "python",
   "name": "python3"
  },
  "language_info": {
   "codemirror_mode": {
    "name": "ipython",
    "version": 3
   },
   "file_extension": ".py",
   "mimetype": "text/x-python",
   "name": "python",
   "nbconvert_exporter": "python",
   "pygments_lexer": "ipython3",
   "version": "3.12.1"
  }
 },
 "nbformat": 4,
 "nbformat_minor": 5
}
