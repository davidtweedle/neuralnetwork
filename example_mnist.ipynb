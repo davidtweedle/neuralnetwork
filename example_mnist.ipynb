{
 "cells": [
  {
   "cell_type": "code",
   "execution_count": 1,
   "id": "d7656a8c-5b79-4472-9b75-4df85a6e8245",
   "metadata": {
    "editable": true,
    "slideshow": {
     "slide_type": "slide"
    },
    "tags": []
   },
   "outputs": [],
   "source": [
    "import os\n",
    "\n",
    "import matplotlib\n",
    "import numpy as np\n",
    "import requests\n",
    "\n",
    "from genericdlmodel import Model\n",
    "\n",
    "%matplotlib widget"
   ]
  },
  {
   "cell_type": "code",
   "execution_count": 2,
   "id": "fbec4391-3818-472e-9c82-667f04f70ce4",
   "metadata": {
    "editable": true,
    "slideshow": {
     "slide_type": "slide"
    },
    "tags": []
   },
   "outputs": [],
   "source": [
    "#headers = {\n",
    "#    \"User-Agent\": \"Mozilla/5.0 (X11; Linux x86_64; rv:10.0) Gecko/20100101 Firefox/10.0\"\n",
    "#}\n",
    "request_opts = {\"params\": {\"raw\": \"true\"}}"
   ]
  },
  {
   "cell_type": "code",
   "execution_count": 3,
   "id": "8022d8bf-ff25-4471-82f4-aa5c295f8cc8",
   "metadata": {
    "editable": true,
    "slideshow": {
     "slide_type": "slide"
    },
    "tags": []
   },
   "outputs": [],
   "source": [
    "data_dir = \"./data\"\n",
    "os.makedirs(data_dir, exist_ok=True)\n",
    "\n",
    "base_url = \"https://storage.googleapis.com/tensorflow/tf-keras-datasets/\"\n",
    "fname = \"mnist.npz\"\n",
    "fpath = os.path.join(data_dir, fname)\n",
    "if not os.path.exists(fpath):\n",
    "    print(\"Downloading file: \" + fname)\n",
    "    resp = requests.get(base_url + fname, stream=True, **request_opts)\n",
    "    resp.raise_for_status()\n",
    "    with open(fpath, \"wb\") as fh:\n",
    "        for chunk in resp.iter_content(chunk_size=128):\n",
    "            fh.write(chunk)"
   ]
  },
  {
   "cell_type": "code",
   "execution_count": 4,
   "id": "abd55720-770a-4ccc-9ac1-5978dde12f04",
   "metadata": {
    "editable": true,
    "slideshow": {
     "slide_type": "slide"
    },
    "tags": []
   },
   "outputs": [],
   "source": [
    "data_file = np.load(fpath)\n",
    "x_train = data_file[\"x_train\"]\n",
    "x_test = data_file[\"x_test\"]\n",
    "y_train = data_file[\"y_train\"]\n",
    "y_test = data_file[\"y_test\"]\n",
    "data_file.close()"
   ]
  },
  {
   "cell_type": "code",
   "execution_count": 5,
   "id": "01094486-f37e-434a-8526-be208beff2c2",
   "metadata": {
    "editable": true,
    "slideshow": {
     "slide_type": "slide"
    },
    "tags": []
   },
   "outputs": [],
   "source": [
    "x_train = x_train.reshape(len(x_train), 28 * 28)\n",
    "x_test = x_test.reshape(len(x_test), 28 * 28)"
   ]
  },
  {
   "cell_type": "code",
   "execution_count": 6,
   "id": "329ae257-e420-4777-84cb-b73a259bc935",
   "metadata": {
    "editable": true,
    "slideshow": {
     "slide_type": "slide"
    },
    "tags": []
   },
   "outputs": [],
   "source": [
    "sample_size = int(len(x_train))\n",
    "test_split = 5 * sample_size // 6\n",
    "seed = 1234\n",
    "rng = np.random.default_rng(seed=seed)\n",
    "index = rng.choice(len(x_train), sample_size)\n",
    "train_sample_X = x_train[index[:test_split]]\n",
    "val_sample_X = x_train[index[test_split:]]\n",
    "train_sample_y = y_train[index[:test_split]]\n",
    "val_sample_y = y_train[index[test_split:]]"
   ]
  },
  {
   "cell_type": "code",
   "execution_count": 7,
   "id": "6edd03a4-e4c0-45f1-af03-9d7054cadd61",
   "metadata": {
    "editable": true,
    "slideshow": {
     "slide_type": "slide"
    },
    "tags": []
   },
   "outputs": [],
   "source": [
    "train_sample_X = train_sample_X * 1.0 / 255\n",
    "val_sample_X = val_sample_X * 1.0 / 255\n",
    "test_sample_X = x_test * 1.0 / 255"
   ]
  },
  {
   "cell_type": "code",
   "execution_count": 8,
   "id": "6f9c6d69-d1e0-47d7-ba41-66ed7e66f8ca",
   "metadata": {
    "editable": true,
    "slideshow": {
     "slide_type": "slide"
    },
    "tags": []
   },
   "outputs": [],
   "source": [
    "def one_hot_encoding(labels, dim=10):\n",
    "    one_hot_labels = labels[..., None] == np.arange(dim)[None]\n",
    "    return one_hot_labels.astype(np.float64)"
   ]
  },
  {
   "cell_type": "code",
   "execution_count": 9,
   "id": "1b95016d-10ba-4c31-a0cb-c9076a49d0ca",
   "metadata": {
    "editable": true,
    "slideshow": {
     "slide_type": "slide"
    },
    "tags": []
   },
   "outputs": [],
   "source": [
    "train_sample_labels = one_hot_encoding(train_sample_y)\n",
    "val_sample_labels = one_hot_encoding(val_sample_y)\n",
    "test_sample_labels = one_hot_encoding(y_test)"
   ]
  },
  {
   "cell_type": "code",
   "execution_count": 10,
   "id": "47d884f4-0928-4d46-a89b-8e3a8c715c70",
   "metadata": {
    "editable": true,
    "slideshow": {
     "slide_type": "slide"
    },
    "tags": []
   },
   "outputs": [],
   "source": [
    "learning_rate = 0.1\n",
    "epochs = 20\n",
    "pixels_per_image = 28 * 28\n",
    "num_labels = 10\n",
    "batch_size = 100\n",
    "dropout = 0.45\n",
    "hidden_layer_sizes = [200, 50]\n",
    "update_rule = \"identity\"\n",
    "update_args = {}"
   ]
  },
  {
   "cell_type": "code",
   "execution_count": 11,
   "id": "66fadb8c-7d00-4ed2-8125-e168a9535d4f",
   "metadata": {
    "editable": true,
    "slideshow": {
     "slide_type": "slide"
    },
    "tags": []
   },
   "outputs": [],
   "source": [
    "model = Model(\n",
    "    rng=rng,\n",
    "    training_data_X=train_sample_X,\n",
    "    training_data_y=train_sample_labels,\n",
    "    val_data_X=val_sample_X,\n",
    "    val_data_y=val_sample_labels,\n",
    "    objective_function=\"categoricalcrossentropy\",\n",
    "    learning_rate=learning_rate,\n",
    "    epochs=epochs,\n",
    "    batch_size=batch_size,\n",
    ")"
   ]
  },
  {
   "cell_type": "code",
   "execution_count": 12,
   "id": "4ba18958-c946-46b2-8a3e-0fd3b1441ec5",
   "metadata": {
    "editable": true,
    "slideshow": {
     "slide_type": "slide"
    },
    "tags": []
   },
   "outputs": [],
   "source": [
    "for output_size in hidden_layer_sizes:\n",
    "    model.add_layer(\n",
    "        output_size=output_size,\n",
    "        func_name=\"relu\",\n",
    "        dropout=dropout,\n",
    "        update_rule=update_rule,\n",
    "        update_args=update_args,\n",
    "    )\n",
    "model.add_final_layer()"
   ]
  },
  {
   "cell_type": "code",
   "execution_count": null,
   "id": "8718eb6c-cba0-43c1-b8d1-4e765137298b",
   "metadata": {
    "editable": true,
    "slideshow": {
     "slide_type": "slide"
    },
    "tags": []
   },
   "outputs": [
    {
     "name": "stdout",
     "output_type": "stream",
     "text": [
      "Epoch: 0\n",
      "  Training loss:          19.195\n",
      "  Training accuracy:      0.439\n",
      "  Validation loss:        17.711\n",
      "  Validation accuracy:    0.589\n",
      "\n",
      "Epoch: 1\n",
      "  Training loss:          18.652\n",
      "  Training accuracy:      0.640\n",
      "  Validation loss:        18.481\n",
      "  Validation accuracy:    0.694\n",
      "\n",
      "Epoch: 2\n",
      "  Training loss:          19.332\n",
      "  Training accuracy:      0.718\n",
      "  Validation loss:        18.806\n",
      "  Validation accuracy:    0.740\n",
      "\n",
      "Epoch: 3\n",
      "  Training loss:          19.862\n",
      "  Training accuracy:      0.757\n",
      "  Validation loss:        19.121\n",
      "  Validation accuracy:    0.769\n",
      "\n",
      "Epoch: 4\n",
      "  Training loss:          20.190\n",
      "  Training accuracy:      0.787\n",
      "  Validation loss:        19.484\n",
      "  Validation accuracy:    0.801\n",
      "\n",
      "Epoch: 5\n",
      "  Training loss:          20.472\n",
      "  Training accuracy:      0.807\n",
      "  Validation loss:        19.712\n",
      "  Validation accuracy:    0.816\n",
      "\n",
      "Epoch: 6\n",
      "  Training loss:          20.727\n",
      "  Training accuracy:      0.823\n",
      "  Validation loss:        20.189\n",
      "  Validation accuracy:    0.828\n",
      "\n",
      "Epoch: 7\n",
      "  Training loss:          20.842\n",
      "  Training accuracy:      0.838\n",
      "  Validation loss:        20.746\n",
      "  Validation accuracy:    0.839\n",
      "\n",
      "Epoch: 8\n",
      "  Training loss:          21.033\n",
      "  Training accuracy:      0.845\n",
      "  Validation loss:        20.700\n",
      "  Validation accuracy:    0.849\n",
      "\n",
      "Epoch: 9\n",
      "  Training loss:          21.268\n",
      "  Training accuracy:      0.854\n",
      "  Validation loss:        20.801\n",
      "  Validation accuracy:    0.858\n",
      "\n",
      "Epoch: 10\n",
      "  Training loss:          21.280\n",
      "  Training accuracy:      0.863\n",
      "  Validation loss:        20.562\n",
      "  Validation accuracy:    0.858\n",
      "\n",
      "Epoch: 11\n",
      "  Training loss:          21.359\n",
      "  Training accuracy:      0.868\n",
      "  Validation loss:        20.831\n",
      "  Validation accuracy:    0.863\n",
      "\n",
      "Epoch: 12\n",
      "  Training loss:          21.426\n",
      "  Training accuracy:      0.873\n",
      "  Validation loss:        21.225\n",
      "  Validation accuracy:    0.872\n",
      "\n",
      "Epoch: 13\n",
      "  Training loss:          21.514\n",
      "  Training accuracy:      0.876\n",
      "  Validation loss:        21.050\n",
      "  Validation accuracy:    0.879\n",
      "\n",
      "Epoch: 14\n",
      "  Training loss:          21.521\n",
      "  Training accuracy:      0.880\n",
      "  Validation loss:        21.275\n",
      "  Validation accuracy:    0.876\n",
      "\n",
      "Epoch: 15\n",
      "  Training loss:          21.552\n",
      "  Training accuracy:      0.885\n",
      "  Validation loss:        20.709\n",
      "  Validation accuracy:    0.885\n",
      "\n",
      "Epoch: 16\n",
      "  Training loss:          21.515\n",
      "  Training accuracy:      0.888\n",
      "  Validation loss:        20.860\n",
      "  Validation accuracy:    0.885\n",
      "\n",
      "Epoch: 17\n",
      "  Training loss:          21.578\n",
      "  Training accuracy:      0.893\n",
      "  Validation loss:        21.120\n",
      "  Validation accuracy:    0.888\n",
      "\n",
      "Epoch: 18\n",
      "  Training loss:          21.544\n",
      "  Training accuracy:      0.892\n",
      "  Validation loss:        21.060\n",
      "  Validation accuracy:    0.894\n",
      "\n"
     ]
    }
   ],
   "source": [
    "%%timeit\n",
    "model.run()"
   ]
  },
  {
   "cell_type": "code",
   "execution_count": null,
   "id": "4ec9ccf4-7823-43b3-a5bb-f155994cd5eb",
   "metadata": {},
   "outputs": [],
   "source": [
    "from matplotlib import pyplot as plt\n",
    "from matplotlib.pyplot import subplots\n",
    "\n",
    "fig, axs = subplots(2, sharex=\"col\")\n",
    "x = np.arange(epochs)\n",
    "y1 = model.training_acc\n",
    "y2 = model.training_loss\n",
    "y3 = model.val_acc\n",
    "y4 = model.val_loss\n",
    "axs[0].plot(x, y1, \"b-\")\n",
    "axs[1].plot(x, y2, \"b-\")\n",
    "axs[0].plot(x, y3, \"r-\")\n",
    "axs[1].plot(x, y4, \"r-\")"
   ]
  },
  {
   "cell_type": "code",
   "execution_count": null,
   "id": "c6003bac-955e-4137-bf09-5d5210386995",
   "metadata": {},
   "outputs": [],
   "source": [
    "learning_rate = 0.1\n",
    "epochs = 20\n",
    "pixels_per_image = 28 * 28\n",
    "num_labels = 10\n",
    "batch_size = 100\n",
    "dropout = 0\n",
    "hidden_layer_sizes = [200, 50]\n",
    "update_rule = \"SVD\"\n",
    "update_args = {'rank':3}"
   ]
  },
  {
   "cell_type": "code",
   "execution_count": null,
   "id": "c7620096-4724-4dc9-b7f0-e69c819b58d2",
   "metadata": {},
   "outputs": [],
   "source": [
    "model2 = Model(\n",
    "    rng=rng,\n",
    "    training_data_X=train_sample_X,\n",
    "    training_data_y=train_sample_labels,\n",
    "    val_data_X=val_sample_X,\n",
    "    val_data_y=val_sample_labels,\n",
    "    objective_function=\"categoricalcrossentropy\",\n",
    "    learning_rate=learning_rate,\n",
    "    epochs=epochs,\n",
    "    batch_size=batch_size,\n",
    ")"
   ]
  },
  {
   "cell_type": "code",
   "execution_count": null,
   "id": "e080146b-cec7-49aa-9f39-1d4539c9f967",
   "metadata": {},
   "outputs": [],
   "source": [
    "for output_size in hidden_layer_sizes:\n",
    "    model2.add_layer(\n",
    "        output_size=output_size,\n",
    "        func_name=\"relu\",\n",
    "        dropout=dropout,\n",
    "        update_rule=update_rule,\n",
    "        update_args=update_args,\n",
    "    )\n",
    "model2.add_final_layer(update_rule=update_rule, update_args=update_args)"
   ]
  },
  {
   "cell_type": "code",
   "execution_count": null,
   "id": "7451edfa-912f-4ad9-a420-95bb1ab42a8d",
   "metadata": {},
   "outputs": [],
   "source": [
    "%%timeit\n",
    "model2.run()"
   ]
  },
  {
   "cell_type": "code",
   "execution_count": null,
   "id": "302e722b-f390-41b2-ae29-882a820a7f8c",
   "metadata": {},
   "outputs": [],
   "source": [
    "from matplotlib import pyplot as plt\n",
    "from matplotlib.pyplot import subplots\n",
    "\n",
    "fig, axs = subplots(2, sharex=\"col\")\n",
    "x = np.arange(epochs)\n",
    "y1 = model.training_acc\n",
    "y2 = model.training_loss\n",
    "y3 = model.val_acc\n",
    "y4 = model.val_loss\n",
    "axs[0].plot(x, y1, \"b-\")\n",
    "axs[1].plot(x, y2, \"b-\")\n",
    "axs[0].plot(x, y3, \"r-\")\n",
    "axs[1].plot(x, y4, \"r-\")"
   ]
  }
 ],
 "metadata": {
  "kernelspec": {
   "display_name": "Python 3 (ipykernel)",
   "language": "python",
   "name": "python3"
  },
  "language_info": {
   "codemirror_mode": {
    "name": "ipython",
    "version": 3
   },
   "file_extension": ".py",
   "mimetype": "text/x-python",
   "name": "python",
   "nbconvert_exporter": "python",
   "pygments_lexer": "ipython3",
   "version": "3.12.1"
  }
 },
 "nbformat": 4,
 "nbformat_minor": 5
}
