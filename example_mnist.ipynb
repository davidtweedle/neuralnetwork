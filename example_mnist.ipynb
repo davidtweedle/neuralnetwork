{
 "cells": [
  {
   "cell_type": "code",
   "execution_count": 35,
   "id": "d7656a8c-5b79-4472-9b75-4df85a6e8245",
   "metadata": {
    "editable": true,
    "slideshow": {
     "slide_type": "slide"
    },
    "tags": []
   },
   "outputs": [],
   "source": [
    "import requests\n",
    "import os\n",
    "import numpy as np\n",
    "import matplotlib\n",
    "from genericdlmodel import Model\n",
    "%matplotlib widget"
   ]
  },
  {
   "cell_type": "code",
   "execution_count": 36,
   "id": "fbec4391-3818-472e-9c82-667f04f70ce4",
   "metadata": {
    "editable": true,
    "slideshow": {
     "slide_type": "slide"
    },
    "tags": []
   },
   "outputs": [],
   "source": [
    "headers = {\n",
    "    \"User-Agent\": \"Mozilla/5.0 (X11; Linux x86_64; rv:10.0) Gecko/20100101 Firefox/10.0\"\n",
    "}\n",
    "request_opts = {\n",
    "    \"headers\": headers,\n",
    "    \"params\": {\"raw\":\"true\"}\n",
    "}"
   ]
  },
  {
   "cell_type": "code",
   "execution_count": 37,
   "id": "8022d8bf-ff25-4471-82f4-aa5c295f8cc8",
   "metadata": {
    "editable": true,
    "slideshow": {
     "slide_type": "slide"
    },
    "tags": []
   },
   "outputs": [],
   "source": [
    "data_dir = \"../data\"\n",
    "os.makedirs(data_dir, exist_ok=True)\n",
    "\n",
    "base_url = \"https://storage.googleapis.com/tensorflow/tf-keras-datasets/\"\n",
    "fname = \"mnist.npz\"\n",
    "fpath = os.path.join(data_dir, fname)\n",
    "if not os.path.exists(fpath):\n",
    "    print('Downloading file: ' + fname)\n",
    "    resp = requests.get(base_url + fname, stream = True, **request_opts)\n",
    "    resp.raise_for_status()\n",
    "    with open(fpath, \"wb\") as fh:\n",
    "        for chunk in resp.iter_content(chunk_size=128):\n",
    "            fh.write(chunk)"
   ]
  },
  {
   "cell_type": "code",
   "execution_count": 38,
   "id": "abd55720-770a-4ccc-9ac1-5978dde12f04",
   "metadata": {
    "editable": true,
    "slideshow": {
     "slide_type": "slide"
    },
    "tags": []
   },
   "outputs": [],
   "source": [
    "data_file = np.load(fpath)\n",
    "x_train = data_file[\"x_train\"]\n",
    "x_test = data_file[\"x_test\"]\n",
    "y_train = data_file[\"y_train\"]\n",
    "y_test = data_file[\"y_test\"]\n",
    "data_file.close()"
   ]
  },
  {
   "cell_type": "code",
   "execution_count": 39,
   "id": "01094486-f37e-434a-8526-be208beff2c2",
   "metadata": {
    "editable": true,
    "slideshow": {
     "slide_type": "slide"
    },
    "tags": []
   },
   "outputs": [],
   "source": [
    "x_train = x_train.reshape(len(x_train), 28 * 28)\n",
    "x_test = x_test.reshape(len(x_test), 28 * 28)"
   ]
  },
  {
   "cell_type": "code",
   "execution_count": 40,
   "id": "329ae257-e420-4777-84cb-b73a259bc935",
   "metadata": {
    "editable": true,
    "slideshow": {
     "slide_type": "slide"
    },
    "tags": []
   },
   "outputs": [],
   "source": [
    "sample_size = int(len(x_train))\n",
    "test_split = 5 * sample_size // 6\n",
    "seed = 1234\n",
    "rng = np.random.default_rng(seed=seed)\n",
    "index = rng.choice(len(x_train), sample_size)\n",
    "train_sample_X = x_train[index[:test_split]]\n",
    "val_sample_X = x_train[index[test_split:]]\n",
    "train_sample_y = y_train[index[:test_split]]\n",
    "val_sample_y = y_train[index[test_split:]]"
   ]
  },
  {
   "cell_type": "code",
   "execution_count": 41,
   "id": "6edd03a4-e4c0-45f1-af03-9d7054cadd61",
   "metadata": {
    "editable": true,
    "slideshow": {
     "slide_type": "slide"
    },
    "tags": []
   },
   "outputs": [],
   "source": [
    "train_sample_X = train_sample_X * 1.0 / 255\n",
    "val_sample_X = val_sample_X * 1.0 / 255\n",
    "test_sample_X = x_test * 1.0 / 255"
   ]
  },
  {
   "cell_type": "code",
   "execution_count": 42,
   "id": "6f9c6d69-d1e0-47d7-ba41-66ed7e66f8ca",
   "metadata": {
    "editable": true,
    "slideshow": {
     "slide_type": "slide"
    },
    "tags": []
   },
   "outputs": [],
   "source": [
    "def one_hot_encoding(labels, dim=10):\n",
    "    one_hot_labels = labels[..., None] == np.arange(dim)[None]\n",
    "    return one_hot_labels.astype(np.float64)"
   ]
  },
  {
   "cell_type": "code",
   "execution_count": 43,
   "id": "1b95016d-10ba-4c31-a0cb-c9076a49d0ca",
   "metadata": {
    "editable": true,
    "slideshow": {
     "slide_type": "slide"
    },
    "tags": []
   },
   "outputs": [],
   "source": [
    "train_sample_labels = one_hot_encoding(train_sample_y)\n",
    "val_sample_labels = one_hot_encoding(val_sample_y)\n",
    "test_sample_labels = one_hot_encoding(y_test)"
   ]
  },
  {
   "cell_type": "code",
   "execution_count": 10,
   "id": "47d884f4-0928-4d46-a89b-8e3a8c715c70",
   "metadata": {
    "editable": true,
    "slideshow": {
     "slide_type": "slide"
    },
    "tags": []
   },
   "outputs": [],
   "source": [
    "learning_rate = 0.1\n",
    "epochs = 20\n",
    "pixels_per_image = 28 * 28\n",
    "num_labels = 10\n",
    "batch_size = 100\n",
    "dropout = 0.45\n",
    "hidden_layer_sizes = [200,50]\n",
    "update_rule = \"identity\"\n",
    "update_args = {}"
   ]
  },
  {
   "cell_type": "code",
   "execution_count": 11,
   "id": "66fadb8c-7d00-4ed2-8125-e168a9535d4f",
   "metadata": {
    "editable": true,
    "slideshow": {
     "slide_type": "slide"
    },
    "tags": []
   },
   "outputs": [],
   "source": [
    "model = Model(rng=rng,\n",
    "              training_data_X=train_sample_X,\n",
    "              training_data_y=train_sample_labels,\n",
    "              val_data_X=val_sample_X,\n",
    "              val_data_y=val_sample_labels,\n",
    "              objective_function='categoricalcrossentropy',\n",
    "              learning_rate=learning_rate,\n",
    "              epochs=epochs,\n",
    "              batch_size=batch_size\n",
    "             )"
   ]
  },
  {
   "cell_type": "code",
   "execution_count": 12,
   "id": "4ba18958-c946-46b2-8a3e-0fd3b1441ec5",
   "metadata": {
    "editable": true,
    "slideshow": {
     "slide_type": "slide"
    },
    "tags": []
   },
   "outputs": [],
   "source": [
    "for output_size in hidden_layer_sizes:\n",
    "    model.add_layer(output_size=output_size,\n",
    "                    func_name='relu',\n",
    "                    dropout=dropout,\n",
    "                    update_rule=update_rule,\n",
    "                    update_args=update_args\n",
    "                   )\n",
    "model.add_final_layer()"
   ]
  },
  {
   "cell_type": "code",
   "execution_count": 13,
   "id": "8718eb6c-cba0-43c1-b8d1-4e765137298b",
   "metadata": {
    "editable": true,
    "slideshow": {
     "slide_type": "slide"
    },
    "tags": []
   },
   "outputs": [
    {
     "name": "stdout",
     "output_type": "stream",
     "text": [
      "Epoch: 0\n",
      "  Training loss:          20.743\n",
      "  Training accuracy:      0.340\n",
      "  Validation loss:        19.891\n",
      "  Validation accuracy:    0.474\n",
      "\n",
      "Epoch: 1\n",
      "  Training loss:          19.482\n",
      "  Training accuracy:      0.535\n",
      "  Validation loss:        19.046\n",
      "  Validation accuracy:    0.589\n",
      "\n",
      "Epoch: 2\n",
      "  Training loss:          20.208\n",
      "  Training accuracy:      0.623\n",
      "  Validation loss:        19.720\n",
      "  Validation accuracy:    0.648\n",
      "\n",
      "Epoch: 3\n",
      "  Training loss:          20.743\n",
      "  Training accuracy:      0.666\n",
      "  Validation loss:        19.928\n",
      "  Validation accuracy:    0.687\n",
      "\n",
      "Epoch: 4\n",
      "  Training loss:          21.089\n",
      "  Training accuracy:      0.705\n",
      "  Validation loss:        20.111\n",
      "  Validation accuracy:    0.728\n",
      "\n",
      "Epoch: 5\n",
      "  Training loss:          21.312\n",
      "  Training accuracy:      0.728\n",
      "  Validation loss:        20.633\n",
      "  Validation accuracy:    0.739\n",
      "\n",
      "Epoch: 6\n",
      "  Training loss:          21.537\n",
      "  Training accuracy:      0.752\n",
      "  Validation loss:        20.962\n",
      "  Validation accuracy:    0.759\n",
      "\n",
      "Epoch: 7\n",
      "  Training loss:          21.718\n",
      "  Training accuracy:      0.767\n",
      "  Validation loss:        21.299\n",
      "  Validation accuracy:    0.772\n",
      "\n",
      "Epoch: 8\n",
      "  Training loss:          21.852\n",
      "  Training accuracy:      0.782\n",
      "  Validation loss:        21.542\n",
      "  Validation accuracy:    0.790\n",
      "\n",
      "Epoch: 9\n",
      "  Training loss:          22.052\n",
      "  Training accuracy:      0.791\n",
      "  Validation loss:        21.601\n",
      "  Validation accuracy:    0.798\n",
      "\n",
      "Epoch: 10\n",
      "  Training loss:          22.133\n",
      "  Training accuracy:      0.803\n",
      "  Validation loss:        21.269\n",
      "  Validation accuracy:    0.802\n",
      "\n",
      "Epoch: 11\n",
      "  Training loss:          22.105\n",
      "  Training accuracy:      0.809\n",
      "  Validation loss:        21.697\n",
      "  Validation accuracy:    0.805\n",
      "\n",
      "Epoch: 12\n",
      "  Training loss:          22.178\n",
      "  Training accuracy:      0.816\n",
      "  Validation loss:        21.881\n",
      "  Validation accuracy:    0.818\n",
      "\n",
      "Epoch: 13\n",
      "  Training loss:          22.215\n",
      "  Training accuracy:      0.818\n",
      "  Validation loss:        21.613\n",
      "  Validation accuracy:    0.819\n",
      "\n",
      "Epoch: 14\n",
      "  Training loss:          22.229\n",
      "  Training accuracy:      0.825\n",
      "  Validation loss:        21.864\n",
      "  Validation accuracy:    0.827\n",
      "\n",
      "Epoch: 15\n",
      "  Training loss:          22.253\n",
      "  Training accuracy:      0.828\n",
      "  Validation loss:        21.684\n",
      "  Validation accuracy:    0.829\n",
      "\n",
      "Epoch: 16\n",
      "  Training loss:          22.220\n",
      "  Training accuracy:      0.832\n",
      "  Validation loss:        21.566\n",
      "  Validation accuracy:    0.837\n",
      "\n",
      "Epoch: 17\n",
      "  Training loss:          22.173\n",
      "  Training accuracy:      0.839\n",
      "  Validation loss:        21.909\n",
      "  Validation accuracy:    0.834\n",
      "\n",
      "Epoch: 18\n",
      "  Training loss:          22.319\n",
      "  Training accuracy:      0.840\n",
      "  Validation loss:        21.737\n",
      "  Validation accuracy:    0.841\n",
      "\n",
      "Epoch: 19\n",
      "  Training loss:          22.245\n",
      "  Training accuracy:      0.845\n",
      "  Validation loss:        21.629\n",
      "  Validation accuracy:    0.847\n",
      "\n"
     ]
    }
   ],
   "source": [
    "model.run()"
   ]
  },
  {
   "cell_type": "code",
   "execution_count": 14,
   "id": "4ec9ccf4-7823-43b3-a5bb-f155994cd5eb",
   "metadata": {},
   "outputs": [
    {
     "data": {
      "text/plain": [
       "[<matplotlib.lines.Line2D at 0x7a6add181fa0>]"
      ]
     },
     "execution_count": 14,
     "metadata": {},
     "output_type": "execute_result"
    },
    {
     "data": {
      "application/vnd.jupyter.widget-view+json": {
       "model_id": "c2cd6326fdf04686a61ade455a63056e",
       "version_major": 2,
       "version_minor": 0
      },
      "image/png": "[encoded data removed]",
      "text/html": [
       "\n",
       "            <div style=\"display: inline-block;\">\n",
       "                <div class=\"jupyter-widgets widget-label\" style=\"text-align: center;\">\n",
       "                    Figure\n",
       "                </div>\n",
       "                <img src='data:image/png;base64,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' width=640.0/>\n",
       "            </div>\n",
       "        "
      ],
      "text/plain": [
       "Canvas(toolbar=Toolbar(toolitems=[('Home', 'Reset original view', 'home', 'home'), ('Back', 'Back to previous …"
      ]
     },
     "metadata": {},
     "output_type": "display_data"
    }
   ],
   "source": [
    "from matplotlib import pyplot as plt\n",
    "from matplotlib.pyplot import subplots\n",
    "fig, axs = subplots(2, sharex='col')\n",
    "x = np.arange(epochs)\n",
    "y1 = model.training_acc\n",
    "y2 = model.training_loss\n",
    "y3 = model.val_acc\n",
    "y4 = model.val_loss\n",
    "axs[0].plot(x,y1,'b-')\n",
    "axs[1].plot(x,y2,'b-')\n",
    "axs[0].plot(x,y3,'r-')\n",
    "axs[1].plot(x,y4,'r-')"
   ]
  },
  {
   "cell_type": "code",
   "execution_count": 44,
   "id": "c6003bac-955e-4137-bf09-5d5210386995",
   "metadata": {},
   "outputs": [],
   "source": [
    "learning_rate = 0.1\n",
    "epochs = 20\n",
    "pixels_per_image = 28 * 28\n",
    "num_labels = 10\n",
    "batch_size = 100\n",
    "dropout = 0\n",
    "hidden_layer_sizes = [200,50]\n",
    "update_rule = \"SVD\"\n",
    "update_args = {'rank' : 10}"
   ]
  },
  {
   "cell_type": "code",
   "execution_count": 45,
   "id": "c7620096-4724-4dc9-b7f0-e69c819b58d2",
   "metadata": {},
   "outputs": [],
   "source": [
    "model2 = Model(rng=rng,\n",
    "              training_data_X=train_sample_X,\n",
    "              training_data_y=train_sample_labels,\n",
    "              val_data_X=val_sample_X,\n",
    "              val_data_y=val_sample_labels,\n",
    "              objective_function='categoricalcrossentropy',\n",
    "              learning_rate=learning_rate,\n",
    "              epochs=epochs,\n",
    "              batch_size=batch_size\n",
    "             )"
   ]
  },
  {
   "cell_type": "code",
   "execution_count": 46,
   "id": "e080146b-cec7-49aa-9f39-1d4539c9f967",
   "metadata": {},
   "outputs": [],
   "source": [
    "for output_size in hidden_layer_sizes:\n",
    "    model2.add_layer(output_size=output_size,\n",
    "                    func_name='relu',\n",
    "                    dropout=dropout,\n",
    "                    update_rule=update_rule,\n",
    "                    update_args=update_args\n",
    "                   )\n",
    "model2.add_final_layer()"
   ]
  },
  {
   "cell_type": "code",
   "execution_count": 34,
   "id": "7451edfa-912f-4ad9-a420-95bb1ab42a8d",
   "metadata": {},
   "outputs": [
    {
     "name": "stdout",
     "output_type": "stream",
     "text": [
      "Epoch: 0\n",
      "  Training loss:          23.081\n",
      "  Training accuracy:      0.107\n",
      "  Validation loss:        23.048\n",
      "  Validation accuracy:    0.112\n",
      "\n",
      "Epoch: 1\n",
      "  Training loss:          23.063\n",
      "  Training accuracy:      0.107\n",
      "  Validation loss:        23.048\n",
      "  Validation accuracy:    0.112\n",
      "\n",
      "Epoch: 2\n",
      "  Training loss:          23.063\n",
      "  Training accuracy:      0.107\n",
      "  Validation loss:        23.048\n",
      "  Validation accuracy:    0.112\n",
      "\n",
      "Epoch: 3\n",
      "  Training loss:          23.063\n",
      "  Training accuracy:      0.107\n",
      "  Validation loss:        23.048\n",
      "  Validation accuracy:    0.112\n",
      "\n",
      "Epoch: 4\n",
      "  Training loss:          23.063\n",
      "  Training accuracy:      0.107\n",
      "  Validation loss:        23.048\n",
      "  Validation accuracy:    0.112\n",
      "\n",
      "Epoch: 5\n",
      "  Training loss:          23.063\n",
      "  Training accuracy:      0.107\n",
      "  Validation loss:        23.048\n",
      "  Validation accuracy:    0.112\n",
      "\n",
      "Epoch: 6\n",
      "  Training loss:          23.063\n",
      "  Training accuracy:      0.107\n",
      "  Validation loss:        23.048\n",
      "  Validation accuracy:    0.112\n",
      "\n",
      "Epoch: 7\n",
      "  Training loss:          23.063\n",
      "  Training accuracy:      0.107\n",
      "  Validation loss:        23.048\n",
      "  Validation accuracy:    0.112\n",
      "\n",
      "Epoch: 8\n",
      "  Training loss:          23.063\n",
      "  Training accuracy:      0.107\n",
      "  Validation loss:        23.048\n",
      "  Validation accuracy:    0.112\n",
      "\n",
      "Epoch: 9\n",
      "  Training loss:          23.063\n",
      "  Training accuracy:      0.107\n",
      "  Validation loss:        23.048\n",
      "  Validation accuracy:    0.112\n",
      "\n",
      "Epoch: 10\n",
      "  Training loss:          23.063\n",
      "  Training accuracy:      0.107\n",
      "  Validation loss:        23.048\n",
      "  Validation accuracy:    0.112\n",
      "\n",
      "Epoch: 11\n",
      "  Training loss:          23.063\n",
      "  Training accuracy:      0.107\n",
      "  Validation loss:        23.048\n",
      "  Validation accuracy:    0.112\n",
      "\n",
      "Epoch: 12\n",
      "  Training loss:          23.063\n",
      "  Training accuracy:      0.107\n",
      "  Validation loss:        23.048\n",
      "  Validation accuracy:    0.112\n",
      "\n",
      "Epoch: 13\n",
      "  Training loss:          23.063\n",
      "  Training accuracy:      0.107\n",
      "  Validation loss:        23.048\n",
      "  Validation accuracy:    0.112\n",
      "\n",
      "Epoch: 14\n",
      "  Training loss:          23.063\n",
      "  Training accuracy:      0.107\n",
      "  Validation loss:        23.048\n",
      "  Validation accuracy:    0.112\n",
      "\n",
      "Epoch: 15\n",
      "  Training loss:          23.063\n",
      "  Training accuracy:      0.107\n",
      "  Validation loss:        23.048\n",
      "  Validation accuracy:    0.112\n",
      "\n",
      "Epoch: 16\n",
      "  Training loss:          23.063\n",
      "  Training accuracy:      0.107\n",
      "  Validation loss:        23.048\n",
      "  Validation accuracy:    0.112\n",
      "\n"
     ]
    },
    {
     "ename": "KeyboardInterrupt",
     "evalue": "",
     "output_type": "error",
     "traceback": [
      "\u001b[0;31m---------------------------------------------------------------------------\u001b[0m",
      "\u001b[0;31mKeyboardInterrupt\u001b[0m                         Traceback (most recent call last)",
      "Cell \u001b[0;32mIn[34], line 1\u001b[0m\n\u001b[0;32m----> 1\u001b[0m \u001b[43mmodel2\u001b[49m\u001b[38;5;241;43m.\u001b[39;49m\u001b[43mrun\u001b[49m\u001b[43m(\u001b[49m\u001b[43m)\u001b[49m\n",
      "File \u001b[0;32m~/projects/simple_nn/genericdlmodel.py:238\u001b[0m, in \u001b[0;36mModel.run\u001b[0;34m(self, all_weights)\u001b[0m\n\u001b[1;32m    236\u001b[0m     train_loss \u001b[38;5;241m+\u001b[39m\u001b[38;5;241m=\u001b[39m \u001b[38;5;28mself\u001b[39m\u001b[38;5;241m.\u001b[39mlayers[\u001b[38;5;241m-\u001b[39m\u001b[38;5;241m1\u001b[39m]\u001b[38;5;241m.\u001b[39mget_loss()\n\u001b[1;32m    237\u001b[0m     num_acc_pred \u001b[38;5;241m+\u001b[39m\u001b[38;5;241m=\u001b[39m \u001b[38;5;28mself\u001b[39m\u001b[38;5;241m.\u001b[39mlayers[\u001b[38;5;241m-\u001b[39m\u001b[38;5;241m1\u001b[39m]\u001b[38;5;241m.\u001b[39mget_num_acc_pred()\n\u001b[0;32m--> 238\u001b[0m     \u001b[38;5;28;43mself\u001b[39;49m\u001b[38;5;241;43m.\u001b[39;49m\u001b[43mpropogate_all_layers\u001b[49m\u001b[43m(\u001b[49m\u001b[43m)\u001b[49m\n\u001b[1;32m    240\u001b[0m \u001b[38;5;28mself\u001b[39m\u001b[38;5;241m.\u001b[39mtraining_loss\u001b[38;5;241m.\u001b[39mappend(train_loss \u001b[38;5;241m/\u001b[39m \u001b[38;5;28mself\u001b[39m\u001b[38;5;241m.\u001b[39mnum_training_samples)\n\u001b[1;32m    241\u001b[0m \u001b[38;5;28mself\u001b[39m\u001b[38;5;241m.\u001b[39mtraining_acc\u001b[38;5;241m.\u001b[39mappend(num_acc_pred \u001b[38;5;241m/\u001b[39m \u001b[38;5;28mself\u001b[39m\u001b[38;5;241m.\u001b[39mnum_training_samples)\n",
      "File \u001b[0;32m~/projects/simple_nn/genericdlmodel.py:160\u001b[0m, in \u001b[0;36mModel.propogate_all_layers\u001b[0;34m(self)\u001b[0m\n\u001b[1;32m    158\u001b[0m delta \u001b[38;5;241m=\u001b[39m final_layer\u001b[38;5;241m.\u001b[39mpropogate(rate\u001b[38;5;241m=\u001b[39m\u001b[38;5;28mself\u001b[39m\u001b[38;5;241m.\u001b[39mlearning_rate)\n\u001b[1;32m    159\u001b[0m \u001b[38;5;28;01mfor\u001b[39;00m layer \u001b[38;5;129;01min\u001b[39;00m \u001b[38;5;28mreversed\u001b[39m(\u001b[38;5;28mself\u001b[39m\u001b[38;5;241m.\u001b[39mlayers[:\u001b[38;5;241m-\u001b[39m\u001b[38;5;241m1\u001b[39m]):\n\u001b[0;32m--> 160\u001b[0m     delta \u001b[38;5;241m=\u001b[39m \u001b[43mlayer\u001b[49m\u001b[38;5;241;43m.\u001b[39;49m\u001b[43mpropogate\u001b[49m\u001b[43m(\u001b[49m\u001b[43mrate\u001b[49m\u001b[38;5;241;43m=\u001b[39;49m\u001b[38;5;28;43mself\u001b[39;49m\u001b[38;5;241;43m.\u001b[39;49m\u001b[43mlearning_rate\u001b[49m\u001b[43m,\u001b[49m\u001b[43m \u001b[49m\u001b[43mdelta\u001b[49m\u001b[38;5;241;43m=\u001b[39;49m\u001b[43mdelta\u001b[49m\u001b[43m)\u001b[49m\n",
      "File \u001b[0;32m~/projects/simple_nn/genericdlmodel.py:408\u001b[0m, in \u001b[0;36mLayer.propogate\u001b[0;34m(self, rate, delta)\u001b[0m\n\u001b[1;32m    406\u001b[0m new_delta \u001b[38;5;241m=\u001b[39m np\u001b[38;5;241m.\u001b[39mmultiply(delta, \u001b[38;5;28mself\u001b[39m\u001b[38;5;241m.\u001b[39mdifferential\u001b[38;5;241m.\u001b[39mT)\n\u001b[1;32m    407\u001b[0m res \u001b[38;5;241m=\u001b[39m new_delta \u001b[38;5;241m@\u001b[39m \u001b[38;5;28mself\u001b[39m\u001b[38;5;241m.\u001b[39mweights\u001b[38;5;241m.\u001b[39mT\n\u001b[0;32m--> 408\u001b[0m new_delta \u001b[38;5;241m=\u001b[39m \u001b[38;5;28;43mself\u001b[39;49m\u001b[38;5;241;43m.\u001b[39;49m\u001b[43mupdater\u001b[49m\u001b[38;5;241;43m.\u001b[39;49m\u001b[43mupdate\u001b[49m\u001b[43m(\u001b[49m\u001b[43mnew_delta\u001b[49m\u001b[43m)\u001b[49m\n\u001b[1;32m    409\u001b[0m \u001b[38;5;28mself\u001b[39m\u001b[38;5;241m.\u001b[39mweights \u001b[38;5;241m-\u001b[39m\u001b[38;5;241m=\u001b[39m (\n\u001b[1;32m    410\u001b[0m     (rate \u001b[38;5;241m/\u001b[39m \u001b[38;5;28mself\u001b[39m\u001b[38;5;241m.\u001b[39mbatch_size) \u001b[38;5;241m*\u001b[39m np\u001b[38;5;241m.\u001b[39mdot(\u001b[38;5;28mself\u001b[39m\u001b[38;5;241m.\u001b[39minput\u001b[38;5;241m.\u001b[39mT, new_delta)\n\u001b[1;32m    411\u001b[0m )\n\u001b[1;32m    412\u001b[0m \u001b[38;5;28mself\u001b[39m\u001b[38;5;241m.\u001b[39mbias \u001b[38;5;241m-\u001b[39m\u001b[38;5;241m=\u001b[39m rate \u001b[38;5;241m*\u001b[39m np\u001b[38;5;241m.\u001b[39mmean(new_delta, axis\u001b[38;5;241m=\u001b[39m\u001b[38;5;241m0\u001b[39m)\n",
      "File \u001b[0;32m~/projects/simple_nn/genericdlmodel.py:654\u001b[0m, in \u001b[0;36mUpdater.update\u001b[0;34m(self, mat)\u001b[0m\n\u001b[1;32m    651\u001b[0m     \u001b[38;5;28mself\u001b[39m\u001b[38;5;241m.\u001b[39mrule \u001b[38;5;241m=\u001b[39m rule\n\u001b[1;32m    652\u001b[0m     \u001b[38;5;28mself\u001b[39m\u001b[38;5;241m.\u001b[39mkwargs \u001b[38;5;241m=\u001b[39m kwargs\n\u001b[0;32m--> 654\u001b[0m \u001b[38;5;28;01mdef\u001b[39;00m \u001b[38;5;21mupdate\u001b[39m(\u001b[38;5;28mself\u001b[39m, mat):\n\u001b[1;32m    655\u001b[0m \u001b[38;5;250m    \u001b[39m\u001b[38;5;124;03m'''\u001b[39;00m\n\u001b[1;32m    656\u001b[0m \u001b[38;5;124;03m    Update mat based on the given rule\u001b[39;00m\n\u001b[1;32m    657\u001b[0m \n\u001b[0;32m   (...)\u001b[0m\n\u001b[1;32m    665\u001b[0m \u001b[38;5;124;03m        updater applied to mat\u001b[39;00m\n\u001b[1;32m    666\u001b[0m \u001b[38;5;124;03m    '''\u001b[39;00m\n\u001b[1;32m    667\u001b[0m     updater \u001b[38;5;241m=\u001b[39m \u001b[38;5;28mself\u001b[39m\u001b[38;5;241m.\u001b[39m_get_updater()\n",
      "\u001b[0;31mKeyboardInterrupt\u001b[0m: "
     ]
    }
   ],
   "source": [
    "model2.run()"
   ]
  },
  {
   "cell_type": "code",
   "execution_count": null,
   "id": "4910c7e8-a4f4-488a-aa19-e85719ae391e",
   "metadata": {},
   "outputs": [],
   "source": []
  }
 ],
 "metadata": {
  "kernelspec": {
   "display_name": "Python 3 (ipykernel)",
   "language": "python",
   "name": "python3"
  },
  "language_info": {
   "codemirror_mode": {
    "name": "ipython",
    "version": 3
   },
   "file_extension": ".py",
   "mimetype": "text/x-python",
   "name": "python",
   "nbconvert_exporter": "python",
   "pygments_lexer": "ipython3",
   "version": "3.12.1"
  }
 },
 "nbformat": 4,
 "nbformat_minor": 5
}
